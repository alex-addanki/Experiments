{
  "nbformat": 4,
  "nbformat_minor": 0,
  "metadata": {
    "colab": {
      "name": "Untitled20.ipynb",
      "version": "0.3.2",
      "provenance": [],
      "include_colab_link": true
    },
    "kernelspec": {
      "name": "python3",
      "display_name": "Python 3"
    }
  },
  "cells": [
    {
      "cell_type": "markdown",
      "metadata": {
        "id": "view-in-github",
        "colab_type": "text"
      },
      "source": [
        "<a href=\"https://colab.research.google.com/github/alex-addanki/Experiments/blob/master/CalcEngineFinal.ipynb\" target=\"_parent\"><img src=\"https://colab.research.google.com/assets/colab-badge.svg\" alt=\"Open In Colab\"/></a>"
      ]
    },
    {
      "cell_type": "code",
      "metadata": {
        "id": "-r1mY8XDjcI6",
        "colab_type": "code",
        "colab": {}
      },
      "source": [
        "import pandas as pd\n",
        "import numpy as np"
      ],
      "execution_count": 0,
      "outputs": []
    },
    {
      "cell_type": "code",
      "metadata": {
        "id": "-VZfCYW5jffe",
        "colab_type": "code",
        "colab": {
          "base_uri": "https://localhost:8080/",
          "height": 359
        },
        "outputId": "3e97017b-778e-436d-9944-6024ed061163"
      },
      "source": [
        "# Create URL to JSON file (alternatively this can be a filepath)\n",
        "url = 'https://raw.githubusercontent.com/chrisalbon/simulated_datasets/master/data.json'\n",
        "\n",
        "# Load the first sheet of the JSON file into a data frame\n",
        "df = pd.read_json(url, orient='columns')\n",
        "\n",
        "# View the first ten rows\n",
        "df.head(10)"
      ],
      "execution_count": 6,
      "outputs": [
        {
          "output_type": "execute_result",
          "data": {
            "text/html": [
              "<div>\n",
              "<style scoped>\n",
              "    .dataframe tbody tr th:only-of-type {\n",
              "        vertical-align: middle;\n",
              "    }\n",
              "\n",
              "    .dataframe tbody tr th {\n",
              "        vertical-align: top;\n",
              "    }\n",
              "\n",
              "    .dataframe thead th {\n",
              "        text-align: right;\n",
              "    }\n",
              "</style>\n",
              "<table border=\"1\" class=\"dataframe\">\n",
              "  <thead>\n",
              "    <tr style=\"text-align: right;\">\n",
              "      <th></th>\n",
              "      <th>integer</th>\n",
              "      <th>datetime</th>\n",
              "      <th>category</th>\n",
              "    </tr>\n",
              "  </thead>\n",
              "  <tbody>\n",
              "    <tr>\n",
              "      <th>0</th>\n",
              "      <td>5</td>\n",
              "      <td>2015-01-01 00:00:00</td>\n",
              "      <td>0</td>\n",
              "    </tr>\n",
              "    <tr>\n",
              "      <th>1</th>\n",
              "      <td>5</td>\n",
              "      <td>2015-01-01 00:00:01</td>\n",
              "      <td>0</td>\n",
              "    </tr>\n",
              "    <tr>\n",
              "      <th>10</th>\n",
              "      <td>5</td>\n",
              "      <td>2015-01-01 00:00:10</td>\n",
              "      <td>0</td>\n",
              "    </tr>\n",
              "    <tr>\n",
              "      <th>11</th>\n",
              "      <td>5</td>\n",
              "      <td>2015-01-01 00:00:11</td>\n",
              "      <td>0</td>\n",
              "    </tr>\n",
              "    <tr>\n",
              "      <th>12</th>\n",
              "      <td>8</td>\n",
              "      <td>2015-01-01 00:00:12</td>\n",
              "      <td>0</td>\n",
              "    </tr>\n",
              "    <tr>\n",
              "      <th>13</th>\n",
              "      <td>9</td>\n",
              "      <td>2015-01-01 00:00:13</td>\n",
              "      <td>0</td>\n",
              "    </tr>\n",
              "    <tr>\n",
              "      <th>14</th>\n",
              "      <td>8</td>\n",
              "      <td>2015-01-01 00:00:14</td>\n",
              "      <td>0</td>\n",
              "    </tr>\n",
              "    <tr>\n",
              "      <th>15</th>\n",
              "      <td>8</td>\n",
              "      <td>2015-01-01 00:00:15</td>\n",
              "      <td>0</td>\n",
              "    </tr>\n",
              "    <tr>\n",
              "      <th>16</th>\n",
              "      <td>2</td>\n",
              "      <td>2015-01-01 00:00:16</td>\n",
              "      <td>0</td>\n",
              "    </tr>\n",
              "    <tr>\n",
              "      <th>17</th>\n",
              "      <td>1</td>\n",
              "      <td>2015-01-01 00:00:17</td>\n",
              "      <td>0</td>\n",
              "    </tr>\n",
              "  </tbody>\n",
              "</table>\n",
              "</div>"
            ],
            "text/plain": [
              "    integer            datetime  category\n",
              "0         5 2015-01-01 00:00:00         0\n",
              "1         5 2015-01-01 00:00:01         0\n",
              "10        5 2015-01-01 00:00:10         0\n",
              "11        5 2015-01-01 00:00:11         0\n",
              "12        8 2015-01-01 00:00:12         0\n",
              "13        9 2015-01-01 00:00:13         0\n",
              "14        8 2015-01-01 00:00:14         0\n",
              "15        8 2015-01-01 00:00:15         0\n",
              "16        2 2015-01-01 00:00:16         0\n",
              "17        1 2015-01-01 00:00:17         0"
            ]
          },
          "metadata": {
            "tags": []
          },
          "execution_count": 6
        }
      ]
    },
    {
      "cell_type": "code",
      "metadata": {
        "id": "cjHNNbU_kDEO",
        "colab_type": "code",
        "colab": {
          "base_uri": "https://localhost:8080/",
          "height": 68
        },
        "outputId": "c489b467-89ff-4dad-b229-51d3a139cea8"
      },
      "source": [
        "df.std(axis = 0, skipna = True)"
      ],
      "execution_count": 3,
      "outputs": [
        {
          "output_type": "execute_result",
          "data": {
            "text/plain": [
              "integer     2.634273\n",
              "category    0.000000\n",
              "dtype: float64"
            ]
          },
          "metadata": {
            "tags": []
          },
          "execution_count": 3
        }
      ]
    },
    {
      "cell_type": "code",
      "metadata": {
        "id": "az9O9C15kRkU",
        "colab_type": "code",
        "colab": {}
      },
      "source": [
        "df.std(axis = 1, skipna = True)"
      ],
      "execution_count": 0,
      "outputs": []
    },
    {
      "cell_type": "code",
      "metadata": {
        "id": "EzgZTHdDmJFI",
        "colab_type": "code",
        "colab": {
          "base_uri": "https://localhost:8080/",
          "height": 142
        },
        "outputId": "b62a7d1a-338b-40f9-e8c2-f77bbf13122e"
      },
      "source": [
        "from numpy.random import randn\n",
        "ds = pd.DataFrame(np.abs(randn(3, 4)), index=[1,2,3], columns=['A','B','C','D'])\n",
        "ds"
      ],
      "execution_count": 20,
      "outputs": [
        {
          "output_type": "execute_result",
          "data": {
            "text/html": [
              "<div>\n",
              "<style scoped>\n",
              "    .dataframe tbody tr th:only-of-type {\n",
              "        vertical-align: middle;\n",
              "    }\n",
              "\n",
              "    .dataframe tbody tr th {\n",
              "        vertical-align: top;\n",
              "    }\n",
              "\n",
              "    .dataframe thead th {\n",
              "        text-align: right;\n",
              "    }\n",
              "</style>\n",
              "<table border=\"1\" class=\"dataframe\">\n",
              "  <thead>\n",
              "    <tr style=\"text-align: right;\">\n",
              "      <th></th>\n",
              "      <th>A</th>\n",
              "      <th>B</th>\n",
              "      <th>C</th>\n",
              "      <th>D</th>\n",
              "    </tr>\n",
              "  </thead>\n",
              "  <tbody>\n",
              "    <tr>\n",
              "      <th>1</th>\n",
              "      <td>1.019324</td>\n",
              "      <td>0.355190</td>\n",
              "      <td>1.079784</td>\n",
              "      <td>1.052681</td>\n",
              "    </tr>\n",
              "    <tr>\n",
              "      <th>2</th>\n",
              "      <td>1.212459</td>\n",
              "      <td>0.508398</td>\n",
              "      <td>1.161944</td>\n",
              "      <td>1.143461</td>\n",
              "    </tr>\n",
              "    <tr>\n",
              "      <th>3</th>\n",
              "      <td>1.578682</td>\n",
              "      <td>0.782915</td>\n",
              "      <td>0.677765</td>\n",
              "      <td>0.949120</td>\n",
              "    </tr>\n",
              "  </tbody>\n",
              "</table>\n",
              "</div>"
            ],
            "text/plain": [
              "          A         B         C         D\n",
              "1  1.019324  0.355190  1.079784  1.052681\n",
              "2  1.212459  0.508398  1.161944  1.143461\n",
              "3  1.578682  0.782915  0.677765  0.949120"
            ]
          },
          "metadata": {
            "tags": []
          },
          "execution_count": 20
        }
      ]
    },
    {
      "cell_type": "code",
      "metadata": {
        "id": "sinGgKDemtvS",
        "colab_type": "code",
        "colab": {
          "base_uri": "https://localhost:8080/",
          "height": 142
        },
        "outputId": "9dc60f73-415a-45da-84c2-10fff20936d3"
      },
      "source": [
        "ds['sum']=ds.sum(axis=1)\n",
        "ds"
      ],
      "execution_count": 22,
      "outputs": [
        {
          "output_type": "execute_result",
          "data": {
            "text/html": [
              "<div>\n",
              "<style scoped>\n",
              "    .dataframe tbody tr th:only-of-type {\n",
              "        vertical-align: middle;\n",
              "    }\n",
              "\n",
              "    .dataframe tbody tr th {\n",
              "        vertical-align: top;\n",
              "    }\n",
              "\n",
              "    .dataframe thead th {\n",
              "        text-align: right;\n",
              "    }\n",
              "</style>\n",
              "<table border=\"1\" class=\"dataframe\">\n",
              "  <thead>\n",
              "    <tr style=\"text-align: right;\">\n",
              "      <th></th>\n",
              "      <th>A</th>\n",
              "      <th>B</th>\n",
              "      <th>C</th>\n",
              "      <th>D</th>\n",
              "      <th>sum</th>\n",
              "    </tr>\n",
              "  </thead>\n",
              "  <tbody>\n",
              "    <tr>\n",
              "      <th>1</th>\n",
              "      <td>1.019324</td>\n",
              "      <td>0.355190</td>\n",
              "      <td>1.079784</td>\n",
              "      <td>1.052681</td>\n",
              "      <td>3.506979</td>\n",
              "    </tr>\n",
              "    <tr>\n",
              "      <th>2</th>\n",
              "      <td>1.212459</td>\n",
              "      <td>0.508398</td>\n",
              "      <td>1.161944</td>\n",
              "      <td>1.143461</td>\n",
              "      <td>4.026262</td>\n",
              "    </tr>\n",
              "    <tr>\n",
              "      <th>3</th>\n",
              "      <td>1.578682</td>\n",
              "      <td>0.782915</td>\n",
              "      <td>0.677765</td>\n",
              "      <td>0.949120</td>\n",
              "      <td>3.988483</td>\n",
              "    </tr>\n",
              "  </tbody>\n",
              "</table>\n",
              "</div>"
            ],
            "text/plain": [
              "          A         B         C         D       sum\n",
              "1  1.019324  0.355190  1.079784  1.052681  3.506979\n",
              "2  1.212459  0.508398  1.161944  1.143461  4.026262\n",
              "3  1.578682  0.782915  0.677765  0.949120  3.988483"
            ]
          },
          "metadata": {
            "tags": []
          },
          "execution_count": 22
        }
      ]
    },
    {
      "cell_type": "code",
      "metadata": {
        "id": "iH6HdmIAm5BD",
        "colab_type": "code",
        "colab": {}
      },
      "source": [
        "ds['A_perc'] = ds['A']/ds['sum']\n",
        "ds"
      ],
      "execution_count": 0,
      "outputs": []
    },
    {
      "cell_type": "code",
      "metadata": {
        "id": "5OU3o7qkse6j",
        "colab_type": "code",
        "colab": {
          "base_uri": "https://localhost:8080/",
          "height": 142
        },
        "outputId": "fa3a6c74-2c97-4319-8fe1-e905211e122e"
      },
      "source": [
        "ds['A_perc'] = (ds['A'] + ds['A']) /ds['A']\n",
        "ds"
      ],
      "execution_count": 26,
      "outputs": [
        {
          "output_type": "execute_result",
          "data": {
            "text/html": [
              "<div>\n",
              "<style scoped>\n",
              "    .dataframe tbody tr th:only-of-type {\n",
              "        vertical-align: middle;\n",
              "    }\n",
              "\n",
              "    .dataframe tbody tr th {\n",
              "        vertical-align: top;\n",
              "    }\n",
              "\n",
              "    .dataframe thead th {\n",
              "        text-align: right;\n",
              "    }\n",
              "</style>\n",
              "<table border=\"1\" class=\"dataframe\">\n",
              "  <thead>\n",
              "    <tr style=\"text-align: right;\">\n",
              "      <th></th>\n",
              "      <th>A</th>\n",
              "      <th>B</th>\n",
              "      <th>C</th>\n",
              "      <th>D</th>\n",
              "      <th>sum</th>\n",
              "      <th>A_perc</th>\n",
              "    </tr>\n",
              "  </thead>\n",
              "  <tbody>\n",
              "    <tr>\n",
              "      <th>1</th>\n",
              "      <td>1.019324</td>\n",
              "      <td>0.355190</td>\n",
              "      <td>1.079784</td>\n",
              "      <td>1.052681</td>\n",
              "      <td>3.506979</td>\n",
              "      <td>2.0</td>\n",
              "    </tr>\n",
              "    <tr>\n",
              "      <th>2</th>\n",
              "      <td>1.212459</td>\n",
              "      <td>0.508398</td>\n",
              "      <td>1.161944</td>\n",
              "      <td>1.143461</td>\n",
              "      <td>4.026262</td>\n",
              "      <td>2.0</td>\n",
              "    </tr>\n",
              "    <tr>\n",
              "      <th>3</th>\n",
              "      <td>1.578682</td>\n",
              "      <td>0.782915</td>\n",
              "      <td>0.677765</td>\n",
              "      <td>0.949120</td>\n",
              "      <td>3.988483</td>\n",
              "      <td>2.0</td>\n",
              "    </tr>\n",
              "  </tbody>\n",
              "</table>\n",
              "</div>"
            ],
            "text/plain": [
              "          A         B         C         D       sum  A_perc\n",
              "1  1.019324  0.355190  1.079784  1.052681  3.506979     2.0\n",
              "2  1.212459  0.508398  1.161944  1.143461  4.026262     2.0\n",
              "3  1.578682  0.782915  0.677765  0.949120  3.988483     2.0"
            ]
          },
          "metadata": {
            "tags": []
          },
          "execution_count": 26
        }
      ]
    },
    {
      "cell_type": "code",
      "metadata": {
        "id": "JqNiprBNnDl6",
        "colab_type": "code",
        "colab": {
          "base_uri": "https://localhost:8080/",
          "height": 142
        },
        "outputId": "0bf8c1ad-674e-45e7-e2da-44f95f1676a0"
      },
      "source": [
        "ds.div(ds['sum'], axis=0)"
      ],
      "execution_count": 27,
      "outputs": [
        {
          "output_type": "execute_result",
          "data": {
            "text/html": [
              "<div>\n",
              "<style scoped>\n",
              "    .dataframe tbody tr th:only-of-type {\n",
              "        vertical-align: middle;\n",
              "    }\n",
              "\n",
              "    .dataframe tbody tr th {\n",
              "        vertical-align: top;\n",
              "    }\n",
              "\n",
              "    .dataframe thead th {\n",
              "        text-align: right;\n",
              "    }\n",
              "</style>\n",
              "<table border=\"1\" class=\"dataframe\">\n",
              "  <thead>\n",
              "    <tr style=\"text-align: right;\">\n",
              "      <th></th>\n",
              "      <th>A</th>\n",
              "      <th>B</th>\n",
              "      <th>C</th>\n",
              "      <th>D</th>\n",
              "      <th>sum</th>\n",
              "      <th>A_perc</th>\n",
              "    </tr>\n",
              "  </thead>\n",
              "  <tbody>\n",
              "    <tr>\n",
              "      <th>1</th>\n",
              "      <td>0.290656</td>\n",
              "      <td>0.101281</td>\n",
              "      <td>0.307896</td>\n",
              "      <td>0.300168</td>\n",
              "      <td>1.0</td>\n",
              "      <td>0.570291</td>\n",
              "    </tr>\n",
              "    <tr>\n",
              "      <th>2</th>\n",
              "      <td>0.301138</td>\n",
              "      <td>0.126270</td>\n",
              "      <td>0.288591</td>\n",
              "      <td>0.284001</td>\n",
              "      <td>1.0</td>\n",
              "      <td>0.496739</td>\n",
              "    </tr>\n",
              "    <tr>\n",
              "      <th>3</th>\n",
              "      <td>0.395810</td>\n",
              "      <td>0.196294</td>\n",
              "      <td>0.169931</td>\n",
              "      <td>0.237965</td>\n",
              "      <td>1.0</td>\n",
              "      <td>0.501444</td>\n",
              "    </tr>\n",
              "  </tbody>\n",
              "</table>\n",
              "</div>"
            ],
            "text/plain": [
              "          A         B         C         D  sum    A_perc\n",
              "1  0.290656  0.101281  0.307896  0.300168  1.0  0.570291\n",
              "2  0.301138  0.126270  0.288591  0.284001  1.0  0.496739\n",
              "3  0.395810  0.196294  0.169931  0.237965  1.0  0.501444"
            ]
          },
          "metadata": {
            "tags": []
          },
          "execution_count": 27
        }
      ]
    },
    {
      "cell_type": "code",
      "metadata": {
        "id": "_QryEDpXnIT6",
        "colab_type": "code",
        "colab": {
          "base_uri": "https://localhost:8080/",
          "height": 162
        },
        "outputId": "7b09351e-adef-4c64-e1f4-85dbb1142ac4"
      },
      "source": [
        "ds.join(ds.div(ds['sum'], axis=0), rsuffix='_calculations')"
      ],
      "execution_count": 28,
      "outputs": [
        {
          "output_type": "execute_result",
          "data": {
            "text/html": [
              "<div>\n",
              "<style scoped>\n",
              "    .dataframe tbody tr th:only-of-type {\n",
              "        vertical-align: middle;\n",
              "    }\n",
              "\n",
              "    .dataframe tbody tr th {\n",
              "        vertical-align: top;\n",
              "    }\n",
              "\n",
              "    .dataframe thead th {\n",
              "        text-align: right;\n",
              "    }\n",
              "</style>\n",
              "<table border=\"1\" class=\"dataframe\">\n",
              "  <thead>\n",
              "    <tr style=\"text-align: right;\">\n",
              "      <th></th>\n",
              "      <th>A</th>\n",
              "      <th>B</th>\n",
              "      <th>C</th>\n",
              "      <th>D</th>\n",
              "      <th>sum</th>\n",
              "      <th>A_perc</th>\n",
              "      <th>A_calculations</th>\n",
              "      <th>B_calculations</th>\n",
              "      <th>C_calculations</th>\n",
              "      <th>D_calculations</th>\n",
              "      <th>sum_calculations</th>\n",
              "      <th>A_perc_calculations</th>\n",
              "    </tr>\n",
              "  </thead>\n",
              "  <tbody>\n",
              "    <tr>\n",
              "      <th>1</th>\n",
              "      <td>1.019324</td>\n",
              "      <td>0.355190</td>\n",
              "      <td>1.079784</td>\n",
              "      <td>1.052681</td>\n",
              "      <td>3.506979</td>\n",
              "      <td>2.0</td>\n",
              "      <td>0.290656</td>\n",
              "      <td>0.101281</td>\n",
              "      <td>0.307896</td>\n",
              "      <td>0.300168</td>\n",
              "      <td>1.0</td>\n",
              "      <td>0.570291</td>\n",
              "    </tr>\n",
              "    <tr>\n",
              "      <th>2</th>\n",
              "      <td>1.212459</td>\n",
              "      <td>0.508398</td>\n",
              "      <td>1.161944</td>\n",
              "      <td>1.143461</td>\n",
              "      <td>4.026262</td>\n",
              "      <td>2.0</td>\n",
              "      <td>0.301138</td>\n",
              "      <td>0.126270</td>\n",
              "      <td>0.288591</td>\n",
              "      <td>0.284001</td>\n",
              "      <td>1.0</td>\n",
              "      <td>0.496739</td>\n",
              "    </tr>\n",
              "    <tr>\n",
              "      <th>3</th>\n",
              "      <td>1.578682</td>\n",
              "      <td>0.782915</td>\n",
              "      <td>0.677765</td>\n",
              "      <td>0.949120</td>\n",
              "      <td>3.988483</td>\n",
              "      <td>2.0</td>\n",
              "      <td>0.395810</td>\n",
              "      <td>0.196294</td>\n",
              "      <td>0.169931</td>\n",
              "      <td>0.237965</td>\n",
              "      <td>1.0</td>\n",
              "      <td>0.501444</td>\n",
              "    </tr>\n",
              "  </tbody>\n",
              "</table>\n",
              "</div>"
            ],
            "text/plain": [
              "          A         B  ...  sum_calculations  A_perc_calculations\n",
              "1  1.019324  0.355190  ...               1.0             0.570291\n",
              "2  1.212459  0.508398  ...               1.0             0.496739\n",
              "3  1.578682  0.782915  ...               1.0             0.501444\n",
              "\n",
              "[3 rows x 12 columns]"
            ]
          },
          "metadata": {
            "tags": []
          },
          "execution_count": 28
        }
      ]
    },
    {
      "cell_type": "code",
      "metadata": {
        "id": "7eKupe24tMJt",
        "colab_type": "code",
        "colab": {}
      },
      "source": [
        "import json\n",
        "\n",
        "# read file\n",
        "with open('/content/Simplejson.json.txt', 'r') as myfile:\n",
        "    data=myfile.read()\n",
        "\n"
      ],
      "execution_count": 0,
      "outputs": []
    },
    {
      "cell_type": "code",
      "metadata": {
        "id": "9fHvWVC9trQY",
        "colab_type": "code",
        "colab": {
          "base_uri": "https://localhost:8080/",
          "height": 136
        },
        "outputId": "411299d7-c571-4607-d1aa-3591dbe3f023"
      },
      "source": [
        "with open('Simplejson.json.txt', 'r') as f:\n",
        "    distros_dict = json.load(f)\n",
        "\n",
        "for distro in distros_dict:\n",
        "    print(distro['Version'])\n"
      ],
      "execution_count": 43,
      "outputs": [
        {
          "output_type": "stream",
          "text": [
            "9\n",
            "17.10\n",
            "26\n",
            "7\n",
            "42.3\n",
            "Rolling Release\n",
            "Rolling Release\n"
          ],
          "name": "stdout"
        }
      ]
    },
    {
      "cell_type": "code",
      "metadata": {
        "id": "kEX0dSt5w-fb",
        "colab_type": "code",
        "colab": {}
      },
      "source": [
        " t=pd.read_json (r'Simplejson.json.txt')"
      ],
      "execution_count": 0,
      "outputs": []
    },
    {
      "cell_type": "code",
      "metadata": {
        "id": "ALjs9mnTyZS7",
        "colab_type": "code",
        "colab": {
          "base_uri": "https://localhost:8080/",
          "height": 266
        },
        "outputId": "4f5a6031-5ff3-4040-fc51-c1e30906712c"
      },
      "source": [
        "t"
      ],
      "execution_count": 48,
      "outputs": [
        {
          "output_type": "execute_result",
          "data": {
            "text/html": [
              "<div>\n",
              "<style scoped>\n",
              "    .dataframe tbody tr th:only-of-type {\n",
              "        vertical-align: middle;\n",
              "    }\n",
              "\n",
              "    .dataframe tbody tr th {\n",
              "        vertical-align: top;\n",
              "    }\n",
              "\n",
              "    .dataframe thead th {\n",
              "        text-align: right;\n",
              "    }\n",
              "</style>\n",
              "<table border=\"1\" class=\"dataframe\">\n",
              "  <thead>\n",
              "    <tr style=\"text-align: right;\">\n",
              "      <th></th>\n",
              "      <th>Install</th>\n",
              "      <th>Kernel</th>\n",
              "      <th>Name</th>\n",
              "      <th>Owner</th>\n",
              "      <th>Version</th>\n",
              "    </tr>\n",
              "  </thead>\n",
              "  <tbody>\n",
              "    <tr>\n",
              "      <th>0</th>\n",
              "      <td>apt</td>\n",
              "      <td>4.90</td>\n",
              "      <td>Debian</td>\n",
              "      <td>SPI</td>\n",
              "      <td>9</td>\n",
              "    </tr>\n",
              "    <tr>\n",
              "      <th>1</th>\n",
              "      <td>apt</td>\n",
              "      <td>4.13</td>\n",
              "      <td>Ubuntu</td>\n",
              "      <td>Canonical</td>\n",
              "      <td>17.10</td>\n",
              "    </tr>\n",
              "    <tr>\n",
              "      <th>2</th>\n",
              "      <td>dnf</td>\n",
              "      <td>4.13</td>\n",
              "      <td>Fedora</td>\n",
              "      <td>Red Hat</td>\n",
              "      <td>26</td>\n",
              "    </tr>\n",
              "    <tr>\n",
              "      <th>3</th>\n",
              "      <td>yum</td>\n",
              "      <td>3.10</td>\n",
              "      <td>CentOS</td>\n",
              "      <td>Red Hat</td>\n",
              "      <td>7</td>\n",
              "    </tr>\n",
              "    <tr>\n",
              "      <th>4</th>\n",
              "      <td>zypper</td>\n",
              "      <td>4.40</td>\n",
              "      <td>OpenSUSE</td>\n",
              "      <td>Novell</td>\n",
              "      <td>42.3</td>\n",
              "    </tr>\n",
              "    <tr>\n",
              "      <th>5</th>\n",
              "      <td>pacman</td>\n",
              "      <td>4.13</td>\n",
              "      <td>Arch Linux</td>\n",
              "      <td>SPI</td>\n",
              "      <td>Rolling Release</td>\n",
              "    </tr>\n",
              "    <tr>\n",
              "      <th>6</th>\n",
              "      <td>emerge</td>\n",
              "      <td>4.12</td>\n",
              "      <td>Gentoo</td>\n",
              "      <td>Gentoo Foundation</td>\n",
              "      <td>Rolling Release</td>\n",
              "    </tr>\n",
              "  </tbody>\n",
              "</table>\n",
              "</div>"
            ],
            "text/plain": [
              "  Install  Kernel        Name              Owner          Version\n",
              "0     apt    4.90      Debian                SPI                9\n",
              "1     apt    4.13      Ubuntu          Canonical            17.10\n",
              "2     dnf    4.13      Fedora            Red Hat               26\n",
              "3     yum    3.10      CentOS            Red Hat                7\n",
              "4  zypper    4.40    OpenSUSE             Novell             42.3\n",
              "5  pacman    4.13  Arch Linux                SPI  Rolling Release\n",
              "6  emerge    4.12      Gentoo  Gentoo Foundation  Rolling Release"
            ]
          },
          "metadata": {
            "tags": []
          },
          "execution_count": 48
        }
      ]
    }
  ]
}