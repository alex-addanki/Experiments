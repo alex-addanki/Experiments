{
  "nbformat": 4,
  "nbformat_minor": 0,
  "metadata": {
    "colab": {
      "name": "Untitled12.ipynb",
      "version": "0.3.2",
      "provenance": [],
      "include_colab_link": true
    },
    "kernelspec": {
      "name": "python3",
      "display_name": "Python 3"
    }
  },
  "cells": [
    {
      "cell_type": "markdown",
      "metadata": {
        "id": "view-in-github",
        "colab_type": "text"
      },
      "source": [
        "<a href=\"https://colab.research.google.com/github/alex-addanki/Experiments/blob/master/split_and_label_numbers.ipynb\" target=\"_parent\"><img src=\"https://colab.research.google.com/assets/colab-badge.svg\" alt=\"Open In Colab\"/></a>"
      ]
    },
    {
      "cell_type": "code",
      "metadata": {
        "id": "xLwlrMWNnzky",
        "colab_type": "code",
        "colab": {}
      },
      "source": [
        "import pandas\n",
        "from sklearn import model_selection\n",
        "from sklearn.linear_model import LogisticRegression\n",
        "import pickle\n",
        "url = \"https://raw.githubusercontent.com/jbrownlee/Datasets/master/pima-indians-diabetes.data.csv\"\n",
        "names = ['preg', 'plas', 'pres', 'skin', 'test', 'mass', 'pedi', 'age', 'class']\n",
        "dataframe = pandas.read_csv(url, names=names)\n",
        "array = dataframe.values\n",
        "X = array[:,0:8]\n",
        "Y = array[:,8]\n",
        "test_size = 0.33\n",
        "seed = 7\n",
        "X_train, X_test, Y_train, Y_test = model_selection.train_test_split(X, Y, test_size=test_size, random_state=seed)\n"
      ],
      "execution_count": 0,
      "outputs": []
    },
    {
      "cell_type": "code",
      "metadata": {
        "id": "eFt6sO6mn4R7",
        "colab_type": "code",
        "colab": {
          "base_uri": "https://localhost:8080/",
          "height": 156
        },
        "outputId": "31de0922-c37c-47c9-ff8f-0abb32b5d3b4"
      },
      "source": [
        "# Fit the model on 33%\n",
        "model = LogisticRegression()\n",
        "model.fit(X_train, Y_train)\n",
        "# save the model to disk\n"
      ],
      "execution_count": 2,
      "outputs": [
        {
          "output_type": "stream",
          "text": [
            "/usr/local/lib/python3.6/dist-packages/sklearn/linear_model/logistic.py:432: FutureWarning: Default solver will be changed to 'lbfgs' in 0.22. Specify a solver to silence this warning.\n",
            "  FutureWarning)\n"
          ],
          "name": "stderr"
        },
        {
          "output_type": "execute_result",
          "data": {
            "text/plain": [
              "LogisticRegression(C=1.0, class_weight=None, dual=False, fit_intercept=True,\n",
              "                   intercept_scaling=1, l1_ratio=None, max_iter=100,\n",
              "                   multi_class='warn', n_jobs=None, penalty='l2',\n",
              "                   random_state=None, solver='warn', tol=0.0001, verbose=0,\n",
              "                   warm_start=False)"
            ]
          },
          "metadata": {
            "tags": []
          },
          "execution_count": 2
        }
      ]
    },
    {
      "cell_type": "code",
      "metadata": {
        "id": "6aieqIHGn-j6",
        "colab_type": "code",
        "colab": {}
      },
      "source": [
        "filename = 'finalized_model.sav'\n",
        "pickle.dump(model, open(filename, 'wb'))"
      ],
      "execution_count": 0,
      "outputs": []
    },
    {
      "cell_type": "code",
      "metadata": {
        "id": "4kTzh_00oGTR",
        "colab_type": "code",
        "colab": {
          "base_uri": "https://localhost:8080/",
          "height": 34
        },
        "outputId": "f75d7430-a3c7-48e2-9075-5daf66a61d86"
      },
      "source": [
        "# load the model from disk\n",
        "loaded_model = pickle.load(open(filename, 'rb'))\n",
        "result = loaded_model.score(X_test, Y_test)\n",
        "print(result)"
      ],
      "execution_count": 4,
      "outputs": [
        {
          "output_type": "stream",
          "text": [
            "0.7559055118110236\n"
          ],
          "name": "stdout"
        }
      ]
    },
    {
      "cell_type": "code",
      "metadata": {
        "id": "ZbPWikk0yuFR",
        "colab_type": "code",
        "colab": {
          "base_uri": "https://localhost:8080/",
          "height": 34
        },
        "outputId": "db69ed8c-ebb5-40bd-99bf-bce9d2d20be8"
      },
      "source": [
        "from IPython import get_ipython\n",
        "ipython = get_ipython()\n",
        "ipython.magic(\"sx unzip recordings.zip\")"
      ],
      "execution_count": 7,
      "outputs": [
        {
          "output_type": "execute_result",
          "data": {
            "text/plain": [
              "['Archive:  recordings.zip', '   creating: recordings/']"
            ]
          },
          "metadata": {
            "tags": []
          },
          "execution_count": 7
        }
      ]
    },
    {
      "cell_type": "code",
      "metadata": {
        "id": "pt_58HivxFy2",
        "colab_type": "code",
        "colab": {
          "base_uri": "https://localhost:8080/",
          "height": 809
        },
        "outputId": "9647ac3c-e20e-45e5-cadd-e7525a166388"
      },
      "source": [
        "import os\n",
        "from collections import defaultdict\n",
        "\n",
        "import numpy as np\n",
        "from scipy.io.wavfile import read, write\n",
        "\n",
        "from say_numbers_prompt import generate_number_sequence, DELAY_BETWEEN_NUMBERS\n",
        "\n",
        "\"\"\"\n",
        "Splits up the audio data you collected in Audacity.\n",
        "\n",
        "Adjust the CONSTANTS below and run this file.\n",
        "\n",
        "Labeled audio will appear in the \"recordings\" dir.\n",
        "\"\"\"\n",
        "\n",
        "YOUR_NAME_HERE = 'Alex'\n",
        "\n",
        "# Where did you save your Audacity-exported wav file?\n",
        "PATH_TO_AUDIO_FILE = r'Test-2.wav'\n",
        "\n",
        "# Time (seconds) between the beginning of the file and the first number\n",
        "# If your output files end up silent, change this number!\n",
        "# It may help to look at the beginning of your recording in Audacity to see the offset.\n",
        "START_OFFSET = 6\n",
        "\n",
        "# How long it actually took you to say each number, typically 1.5 seconds\n",
        "SECS_PER_NUMBER = 3\n",
        "\n",
        "LABELS = generate_number_sequence()\n",
        "\n",
        "\n",
        "def split_wav(start_offset, secs_between_numbers, secs_per_number):\n",
        "    fname = PATH_TO_AUDIO_FILE\n",
        "    rate, sound = read(fname)\n",
        "\n",
        "    if len(sound.shape) > 1:\n",
        "        # Audio probably has L and R channels.\n",
        "        # Use the left channel only (mono).\n",
        "        sound = sound[:, 0]\n",
        "\n",
        "    samples_between_numbers = int(rate * secs_between_numbers)\n",
        "    offset_idx = int(rate*start_offset)\n",
        "\n",
        "    counts = defaultdict(lambda: 0)\n",
        "\n",
        "    for i, label in enumerate(LABELS):\n",
        "        label = str(label)\n",
        "        start_idx = offset_idx + i * samples_between_numbers\n",
        "        stop_idx = start_idx + int(rate * secs_per_number)\n",
        "\n",
        "        if stop_idx > len(sound):\n",
        "            raise('Error: Sound ends before expected number of samples reached for index:' + str(i))\n",
        "\n",
        "        # trim silence\n",
        "        digit_audio = sound[start_idx:stop_idx]\n",
        "        digit_audio_trimmed = trim_silence(digit_audio)\n",
        "\n",
        "        # Build filename\n",
        "        outfile = label + \"_\" + YOUR_NAME_HERE + \"_\" + str(counts[label]) + \".wav\"\n",
        "        outfile = 'recordings' + os.sep + outfile\n",
        "\n",
        "        # Write audio chunk to file\n",
        "        print (\"writing\", outfile)\n",
        "        write(outfile, rate, digit_audio_trimmed)\n",
        "        counts[label] += 1\n",
        "\n",
        "\n",
        "\n",
        "def trim_silence(audio, n_noise_samples=1000, noise_factor=1.0, mean_filter_size=100):\n",
        "    \"\"\" Removes the silence at the beginning and end of the passed audio data\n",
        "    Fits noise based on the last n_noise_samples samples in the period\n",
        "    Finds where the mean-filtered magnitude > noise\n",
        "    :param audio: numpy array of audio\n",
        "    :return: a trimmed numpy array\n",
        "    \"\"\"\n",
        "    start = 0\n",
        "    end = len(audio)-1\n",
        "\n",
        "    mag = abs(audio)\n",
        "\n",
        "    noise_sample_period = mag[end-n_noise_samples:end]\n",
        "    noise_threshold = noise_sample_period.max()*noise_factor\n",
        "\n",
        "    mag_mean = np.convolve(mag, [1/float(mean_filter_size)]*mean_filter_size, 'same')\n",
        "\n",
        "    # find onset\n",
        "    for idx, point in enumerate(mag_mean):\n",
        "        if point > noise_threshold:\n",
        "            start = idx\n",
        "            break\n",
        "\n",
        "    # Reverse the array for trimming the end\n",
        "    for idx, point in enumerate(mag_mean[::-1]):\n",
        "        if point > noise_threshold:\n",
        "            end = len(audio) - idx\n",
        "            break\n",
        "\n",
        "    return audio[start:end]\n",
        "\n",
        "\n",
        "if __name__ == '__main__':\n",
        "    split_wav(START_OFFSET, DELAY_BETWEEN_NUMBERS, SECS_PER_NUMBER)\n",
        "\n"
      ],
      "execution_count": 10,
      "outputs": [
        {
          "output_type": "stream",
          "text": [
            "writing recordings/0_Alex_0.wav\n",
            "writing recordings/9_Alex_0.wav\n",
            "writing recordings/2_Alex_0.wav\n",
            "writing recordings/1_Alex_0.wav\n",
            "writing recordings/4_Alex_0.wav\n",
            "writing recordings/3_Alex_0.wav\n",
            "writing recordings/7_Alex_0.wav\n",
            "writing recordings/7_Alex_1.wav\n",
            "writing recordings/4_Alex_1.wav\n",
            "writing recordings/2_Alex_1.wav\n",
            "writing recordings/1_Alex_1.wav\n",
            "writing recordings/1_Alex_2.wav\n",
            "writing recordings/5_Alex_0.wav\n",
            "writing recordings/5_Alex_1.wav\n",
            "writing recordings/4_Alex_2.wav\n",
            "writing recordings/8_Alex_0.wav\n",
            "writing recordings/6_Alex_0.wav\n",
            "writing recordings/7_Alex_2.wav\n",
            "writing recordings/9_Alex_1.wav\n",
            "writing recordings/2_Alex_2.wav\n",
            "writing recordings/3_Alex_1.wav\n",
            "writing recordings/6_Alex_1.wav\n",
            "writing recordings/8_Alex_1.wav\n",
            "writing recordings/8_Alex_2.wav\n",
            "writing recordings/5_Alex_2.wav\n",
            "writing recordings/6_Alex_2.wav\n",
            "writing recordings/9_Alex_2.wav\n",
            "writing recordings/0_Alex_1.wav\n"
          ],
          "name": "stdout"
        },
        {
          "output_type": "error",
          "ename": "TypeError",
          "evalue": "ignored",
          "traceback": [
            "\u001b[0;31m---------------------------------------------------------------------------\u001b[0m",
            "\u001b[0;31mTypeError\u001b[0m                                 Traceback (most recent call last)",
            "\u001b[0;32m<ipython-input-10-790ea9765b9f>\u001b[0m in \u001b[0;36m<module>\u001b[0;34m()\u001b[0m\n\u001b[1;32m    101\u001b[0m \u001b[0;34m\u001b[0m\u001b[0m\n\u001b[1;32m    102\u001b[0m \u001b[0;32mif\u001b[0m \u001b[0m__name__\u001b[0m \u001b[0;34m==\u001b[0m \u001b[0;34m'__main__'\u001b[0m\u001b[0;34m:\u001b[0m\u001b[0;34m\u001b[0m\u001b[0;34m\u001b[0m\u001b[0m\n\u001b[0;32m--> 103\u001b[0;31m     \u001b[0msplit_wav\u001b[0m\u001b[0;34m(\u001b[0m\u001b[0mSTART_OFFSET\u001b[0m\u001b[0;34m,\u001b[0m \u001b[0mDELAY_BETWEEN_NUMBERS\u001b[0m\u001b[0;34m,\u001b[0m \u001b[0mSECS_PER_NUMBER\u001b[0m\u001b[0;34m)\u001b[0m\u001b[0;34m\u001b[0m\u001b[0;34m\u001b[0m\u001b[0m\n\u001b[0m\u001b[1;32m    104\u001b[0m \u001b[0;34m\u001b[0m\u001b[0m\n",
            "\u001b[0;32m<ipython-input-10-790ea9765b9f>\u001b[0m in \u001b[0;36msplit_wav\u001b[0;34m(start_offset, secs_between_numbers, secs_per_number)\u001b[0m\n\u001b[1;32m     51\u001b[0m \u001b[0;34m\u001b[0m\u001b[0m\n\u001b[1;32m     52\u001b[0m         \u001b[0;32mif\u001b[0m \u001b[0mstop_idx\u001b[0m \u001b[0;34m>\u001b[0m \u001b[0mlen\u001b[0m\u001b[0;34m(\u001b[0m\u001b[0msound\u001b[0m\u001b[0;34m)\u001b[0m\u001b[0;34m:\u001b[0m\u001b[0;34m\u001b[0m\u001b[0;34m\u001b[0m\u001b[0m\n\u001b[0;32m---> 53\u001b[0;31m             \u001b[0;32mraise\u001b[0m\u001b[0;34m(\u001b[0m\u001b[0;34m'Error: Sound ends before expected number of samples reached for index:'\u001b[0m \u001b[0;34m+\u001b[0m \u001b[0mstr\u001b[0m\u001b[0;34m(\u001b[0m\u001b[0mi\u001b[0m\u001b[0;34m)\u001b[0m\u001b[0;34m)\u001b[0m\u001b[0;34m\u001b[0m\u001b[0;34m\u001b[0m\u001b[0m\n\u001b[0m\u001b[1;32m     54\u001b[0m \u001b[0;34m\u001b[0m\u001b[0m\n\u001b[1;32m     55\u001b[0m         \u001b[0;31m# trim silence\u001b[0m\u001b[0;34m\u001b[0m\u001b[0;34m\u001b[0m\u001b[0;34m\u001b[0m\u001b[0m\n",
            "\u001b[0;31mTypeError\u001b[0m: exceptions must derive from BaseException"
          ]
        }
      ]
    }
  ]
}