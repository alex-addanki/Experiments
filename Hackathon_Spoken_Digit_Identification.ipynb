{
  "nbformat": 4,
  "nbformat_minor": 0,
  "metadata": {
    "colab": {
      "name": "Untitled13.ipynb",
      "version": "0.3.2",
      "provenance": [],
      "include_colab_link": true
    },
    "kernelspec": {
      "name": "python3",
      "display_name": "Python 3"
    }
  },
  "cells": [
    {
      "cell_type": "markdown",
      "metadata": {
        "id": "view-in-github",
        "colab_type": "text"
      },
      "source": [
        "<a href=\"https://colab.research.google.com/github/alex-addanki/Experiments/blob/master/Hackathon_Spoken_Digit_Identification.ipynb\" target=\"_parent\"><img src=\"https://colab.research.google.com/assets/colab-badge.svg\" alt=\"Open In Colab\"/></a>"
      ]
    },
    {
      "cell_type": "code",
      "metadata": {
        "id": "56VJX63w2mPN",
        "colab_type": "code",
        "colab": {}
      },
      "source": [
        "# This Python 3 environment comes with many helpful analytics libraries installed\n",
        "# It is defined by the kaggle/python docker image: https://github.com/kaggle/docker-python\n",
        "# For example, here's several helpful packages to load in \n",
        "\n",
        "import numpy as np # linear algebra\n",
        "import pandas as pd # data processing, CSV file I/O (e.g. pd.read_csv)\n",
        "import librosa\n",
        "\n",
        "# Input data files are available in the \"../input/\" directory.\n",
        "# For example, running this (by clicking run or pressing Shift+Enter) will list the files in the input directory\n",
        "\n",
        "import os\n",
        "os.listdir(r\"/content/\")\n",
        "\n",
        "# Any results you write to the current directory are saved as output."
      ],
      "execution_count": 0,
      "outputs": []
    },
    {
      "cell_type": "code",
      "metadata": {
        "id": "pEBtoPI33pCI",
        "colab_type": "code",
        "colab": {}
      },
      "source": [
        "from keras.utils import to_categorical\n",
        "from tqdm import tqdm\n",
        "\n",
        "def wav2mfcc(file_path, augment = False, max_pad_len=11):\n",
        "    wave, sr = librosa.load(file_path, mono=True, sr=8000, duration = 1.024)\n",
        "    \n",
        "    if augment == True:\n",
        "        bins_per_octave = 12\n",
        "        pitch_pm = 4\n",
        "        pitch_change =  pitch_pm * 2*(np.random.uniform())   \n",
        "        wave = librosa.effects.pitch_shift(wave, \n",
        "                                          8000, n_steps=pitch_change, \n",
        "                                          bins_per_octave=bins_per_octave)\n",
        "        \n",
        "        speed_change = np.random.uniform(low=0.9,high=1.1)\n",
        "        wave = librosa.effects.time_stretch(wave, speed_change)\n",
        "        wave = wave[:8192]\n",
        "\n",
        "    duration = wave.shape[0]/sr\n",
        "    speed_change = 2.0* duration/1.024\n",
        "    wave = librosa.effects.time_stretch(wave, speed_change)\n",
        "    wave = wave[:4096]\n",
        "    \n",
        "    wave = librosa.util.normalize(wave)\n",
        "    mfcc = librosa.feature.mfcc(wave, sr=sr, n_mfcc=40, hop_length=int(0.048*sr), n_fft=int(0.096*sr))\n",
        "    mfcc -= (np.mean(mfcc, axis=0) + 1e-8)\n",
        "    #print(\"shape=\",mfcc.shape[1], wave.shape[0])\n",
        "    pad_width = max_pad_len - mfcc.shape[1]\n",
        "    mfcc = np.pad(mfcc, pad_width=((0, 0), (0, pad_width)), mode='constant')\n",
        "    #mfcc = mfcc[2:24,:]\n",
        "    return mfcc, duration, sr\n",
        "\n",
        "def get_data(dir = '', augment= False):\n",
        "    labels = []\n",
        "    mfccs = []\n",
        "    durations = []\n",
        "    sampling_rates = []\n",
        "    filenames = []\n",
        "\n",
        "    for f in tqdm(os.listdir(dir)):\n",
        "        if f.endswith('.wav'):\n",
        "            mfcc, duration, sr = wav2mfcc(dir + \"/\" + f, augment)\n",
        "            mfccs.append(mfcc)\n",
        "            durations.append(duration)\n",
        "            sampling_rates.append(sr)\n",
        "            # List of labels\n",
        "            label = f.split('_')[0]\n",
        "            labels.append(label)\n",
        "            filenames.append(dir + \"/\" + f)\n",
        "    return filenames, np.asarray(mfccs), np.asarray(durations), np.asarray(sampling_rates), to_categorical(labels), labels"
      ],
      "execution_count": 0,
      "outputs": []
    },
    {
      "cell_type": "code",
      "metadata": {
        "id": "eJjuRtF56vCi",
        "colab_type": "code",
        "colab": {
          "base_uri": "https://localhost:8080/",
          "height": 34
        },
        "outputId": "97b74b37-d362-40c5-f285-34cdb8da1edc"
      },
      "source": [
        "filenames, mfccs, durations, sampling_rates, labels, cls_true = get_data('/content/')"
      ],
      "execution_count": 13,
      "outputs": [
        {
          "output_type": "stream",
          "text": [
            "100%|██████████| 962/962 [02:06<00:00,  7.63it/s]\n"
          ],
          "name": "stderr"
        }
      ]
    },
    {
      "cell_type": "code",
      "metadata": {
        "id": "2bnXM9ut7Brv",
        "colab_type": "code",
        "colab": {}
      },
      "source": [
        "import matplotlib.pyplot as plt\n",
        "import librosa.display\n",
        "\n",
        "def plot_images(images, cls_true, cls_pred=None):\n",
        "    assert len(images) == len(cls_true) == 9\n",
        "    \n",
        "    # Create figure with 3x3 sub-plots.\n",
        "    fig, axes = plt.subplots(3, 3, figsize=(15,15))\n",
        "    fig.subplots_adjust(hspace=0.3, wspace=0.3)\n",
        "    \n",
        "    max = np.max(images)\n",
        "    min = np.min(images)\n",
        "\n",
        "    for i, ax in enumerate(axes.flat):\n",
        "        # Plot image.\n",
        "        #ax.imshow(images[i].reshape(img_shape), cmap='binary')\n",
        "        im = librosa.display.specshow(images[i], ax=ax, vmin=min, vmax=max)\n",
        "\n",
        "        # Show true and predicted classes.\n",
        "        if cls_pred is None:\n",
        "            xlabel = \"True: {0}\".format(cls_true[i])\n",
        "        else:\n",
        "            xlabel = \"True: {0}, Pred: {1}\".format(cls_true[i], cls_pred[i])\n",
        "\n",
        "        ax.set_xlabel(xlabel)\n",
        "    # Ensure the plot is shown correctly with multiple plots\n",
        "    # in a single Notebook cell.\n",
        "    plt.show()"
      ],
      "execution_count": 0,
      "outputs": []
    },
    {
      "cell_type": "code",
      "metadata": {
        "id": "wh6kKN0V7GI1",
        "colab_type": "code",
        "colab": {
          "base_uri": "https://localhost:8080/",
          "height": 864
        },
        "outputId": "48ca1313-fa84-48b7-f2c8-b6eaf0e35c3a"
      },
      "source": [
        "plot_images(mfccs[100:109], cls_true[100:109])"
      ],
      "execution_count": 15,
      "outputs": [
        {
          "output_type": "display_data",
          "data": {
            "image/png": "[encoded data removed]",
            "text/plain": [
              "<Figure size 1080x1080 with 9 Axes>"
            ]
          },
          "metadata": {
            "tags": []
          }
        }
      ]
    },
    {
      "cell_type": "code",
      "metadata": {
        "id": "BWXZRh149LBy",
        "colab_type": "code",
        "colab": {
          "base_uri": "https://localhost:8080/",
          "height": 269
        },
        "outputId": "39338ff6-909e-44ae-d77b-5583b4853086"
      },
      "source": [
        "n, bins, patches = plt.hist(durations, bins=100)"
      ],
      "execution_count": 16,
      "outputs": [
        {
          "output_type": "display_data",
          "data": {
            "image/png": "[encoded data removed]",
            "text/plain": [
              "<Figure size 432x288 with 1 Axes>"
            ]
          },
          "metadata": {
            "tags": []
          }
        }
      ]
    },
    {
      "cell_type": "code",
      "metadata": {
        "id": "2Qkiv-0q9Ru_",
        "colab_type": "code",
        "colab": {}
      },
      "source": [
        "import keras\n",
        "from keras.models import Sequential\n",
        "from keras.layers import Dense, Dropout, Flatten, Conv2D, MaxPooling2D, BatchNormalization\n",
        "\n",
        "#from ann_visualizer.visualize import ann_viz\n",
        "\n",
        "def get_cnn_model(input_shape, num_classes):\n",
        "    model = Sequential()\n",
        "\n",
        "    model.add(Conv2D(32, kernel_size=(4, 4), activation='relu', input_shape=input_shape))\n",
        "    model.add(BatchNormalization())\n",
        "\n",
        "    model.add(Conv2D(48, kernel_size=(3, 3), activation='relu'))\n",
        "    model.add(BatchNormalization())\n",
        "\n",
        "    model.add(Conv2D(120, kernel_size=(3, 3), activation='relu'))\n",
        "    model.add(BatchNormalization())\n",
        "\n",
        "    model.add(MaxPooling2D(pool_size=(2, 2)))\n",
        "    model.add(Dropout(0.25))\n",
        "\n",
        "    model.add(Flatten())\n",
        "\n",
        "    model.add(Dense(128, activation='relu'))\n",
        "    model.add(BatchNormalization())\n",
        "    model.add(Dropout(0.25))\n",
        "    model.add(Dense(64, activation='relu'))\n",
        "    model.add(BatchNormalization())\n",
        "    model.add(Dropout(0.4))\n",
        "    model.add(Dense(num_classes, activation='softmax'))\n",
        "    model.compile(loss=keras.losses.categorical_crossentropy, optimizer=keras.optimizers.Adadelta(), metrics=['accuracy'])\n",
        "\n",
        "    return model"
      ],
      "execution_count": 0,
      "outputs": []
    },
    {
      "cell_type": "code",
      "metadata": {
        "id": "JylKR89Y9Zn3",
        "colab_type": "code",
        "colab": {}
      },
      "source": [
        "from sklearn.model_selection import train_test_split\n",
        "\n",
        "def get_all():\n",
        "    filenames, mfccs, durations, sampling_rates, labels, cls_true = get_data('/content/', augment = False)\n",
        "    \n",
        "    filenames_a, mfccs_a, durations_a, sampling_rates_a, labels_a, cls_true_a = get_data('/content/', augment = True)\n",
        "\n",
        "    mfccs = np.append(mfccs, mfccs_a, axis=0)\n",
        "    labels = np.append(labels, labels_a, axis =0)\n",
        "    \n",
        "    dim_1 = mfccs.shape[1]\n",
        "    dim_2 = mfccs.shape[2]\n",
        "    channels = 1\n",
        "    classes = 10\n",
        "    \n",
        "    print(\"sampling rate (max) = \", np.max(sampling_rates))\n",
        "    print(\"sampling rate (min) = \", np.min(sampling_rates))\n",
        "    print(\"duration (max) = \", np.max(durations))\n",
        "    print(\"duration (avg) = \", np.average(durations))\n",
        "    print(\"duration (min) = \", np.min(durations))\n",
        "    print(\"mffc matrix = \", mfccs.shape)\n",
        "\n",
        "    X = mfccs\n",
        "    X = X.reshape((mfccs.shape[0], dim_1, dim_2, channels))\n",
        "    y = labels\n",
        "\n",
        "    input_shape = (dim_1, dim_2, channels)\n",
        "\n",
        "    X_train, X_test, y_train, y_test = train_test_split(X, y, test_size=0.2, random_state=1)\n",
        "\n",
        "    model = get_cnn_model(input_shape, classes)\n",
        "\n",
        "    return X_train, X_test, y_train, y_test, model"
      ],
      "execution_count": 0,
      "outputs": []
    },
    {
      "cell_type": "code",
      "metadata": {
        "id": "jLRo622c9sqD",
        "colab_type": "code",
        "colab": {
          "base_uri": "https://localhost:8080/",
          "height": 1550
        },
        "outputId": "c7bf8093-aeab-48d8-969b-4cda54143237"
      },
      "source": [
        "X_train, X_test, y_train, y_test, cnn_model = get_all()\n",
        "\n",
        "print(cnn_model.summary())\n",
        "\n",
        "cnn_model.fit(X_train, y_train, batch_size=64, epochs=15, verbose=1, validation_split=0.1)"
      ],
      "execution_count": 19,
      "outputs": [
        {
          "output_type": "stream",
          "text": [
            "100%|██████████| 962/962 [02:07<00:00,  7.57it/s]\n",
            "100%|██████████| 962/962 [02:21<00:00,  6.78it/s]\n"
          ],
          "name": "stderr"
        },
        {
          "output_type": "stream",
          "text": [
            "sampling rate (max) =  8000\n",
            "sampling rate (min) =  8000\n",
            "duration (max) =  1.024\n",
            "duration (avg) =  0.4134175420168067\n",
            "duration (min) =  0.143625\n",
            "mffc matrix =  (1904, 40, 11)\n",
            "WARNING:tensorflow:From /usr/local/lib/python3.6/dist-packages/tensorflow/python/framework/op_def_library.py:263: colocate_with (from tensorflow.python.framework.ops) is deprecated and will be removed in a future version.\n",
            "Instructions for updating:\n",
            "Colocations handled automatically by placer.\n",
            "WARNING:tensorflow:From /usr/local/lib/python3.6/dist-packages/keras/backend/tensorflow_backend.py:3445: calling dropout (from tensorflow.python.ops.nn_ops) with keep_prob is deprecated and will be removed in a future version.\n",
            "Instructions for updating:\n",
            "Please use `rate` instead of `keep_prob`. Rate should be set to `rate = 1 - keep_prob`.\n",
            "_________________________________________________________________\n",
            "Layer (type)                 Output Shape              Param #   \n",
            "=================================================================\n",
            "conv2d_1 (Conv2D)            (None, 37, 8, 32)         544       \n",
            "_________________________________________________________________\n",
            "batch_normalization_1 (Batch (None, 37, 8, 32)         128       \n",
            "_________________________________________________________________\n",
            "conv2d_2 (Conv2D)            (None, 35, 6, 48)         13872     \n",
            "_________________________________________________________________\n",
            "batch_normalization_2 (Batch (None, 35, 6, 48)         192       \n",
            "_________________________________________________________________\n",
            "conv2d_3 (Conv2D)            (None, 33, 4, 120)        51960     \n",
            "_________________________________________________________________\n",
            "batch_normalization_3 (Batch (None, 33, 4, 120)        480       \n",
            "_________________________________________________________________\n",
            "max_pooling2d_1 (MaxPooling2 (None, 16, 2, 120)        0         \n",
            "_________________________________________________________________\n",
            "dropout_1 (Dropout)          (None, 16, 2, 120)        0         \n",
            "_________________________________________________________________\n",
            "flatten_1 (Flatten)          (None, 3840)              0         \n",
            "_________________________________________________________________\n",
            "dense_1 (Dense)              (None, 128)               491648    \n",
            "_________________________________________________________________\n",
            "batch_normalization_4 (Batch (None, 128)               512       \n",
            "_________________________________________________________________\n",
            "dropout_2 (Dropout)          (None, 128)               0         \n",
            "_________________________________________________________________\n",
            "dense_2 (Dense)              (None, 64)                8256      \n",
            "_________________________________________________________________\n",
            "batch_normalization_5 (Batch (None, 64)                256       \n",
            "_________________________________________________________________\n",
            "dropout_3 (Dropout)          (None, 64)                0         \n",
            "_________________________________________________________________\n",
            "dense_3 (Dense)              (None, 10)                650       \n",
            "=================================================================\n",
            "Total params: 568,498\n",
            "Trainable params: 567,714\n",
            "Non-trainable params: 784\n",
            "_________________________________________________________________\n",
            "None\n",
            "WARNING:tensorflow:From /usr/local/lib/python3.6/dist-packages/tensorflow/python/ops/math_ops.py:3066: to_int32 (from tensorflow.python.ops.math_ops) is deprecated and will be removed in a future version.\n",
            "Instructions for updating:\n",
            "Use tf.cast instead.\n",
            "Train on 1370 samples, validate on 153 samples\n",
            "Epoch 1/15\n",
            "1370/1370 [==============================] - 7s 5ms/step - loss: 2.0751 - acc: 0.3555 - val_loss: 1.1917 - val_acc: 0.6144\n",
            "Epoch 2/15\n",
            "1370/1370 [==============================] - 5s 4ms/step - loss: 1.0055 - acc: 0.6715 - val_loss: 0.7259 - val_acc: 0.7516\n",
            "Epoch 3/15\n",
            "1370/1370 [==============================] - 5s 4ms/step - loss: 0.6446 - acc: 0.8015 - val_loss: 0.5699 - val_acc: 0.8301\n",
            "Epoch 4/15\n",
            "1370/1370 [==============================] - 5s 4ms/step - loss: 0.5342 - acc: 0.8380 - val_loss: 0.3665 - val_acc: 0.8889\n",
            "Epoch 5/15\n",
            "1370/1370 [==============================] - 5s 4ms/step - loss: 0.4124 - acc: 0.8956 - val_loss: 0.3967 - val_acc: 0.8758\n",
            "Epoch 6/15\n",
            "1370/1370 [==============================] - 5s 4ms/step - loss: 0.3220 - acc: 0.9095 - val_loss: 0.4640 - val_acc: 0.8562\n",
            "Epoch 7/15\n",
            "1370/1370 [==============================] - 5s 4ms/step - loss: 0.2592 - acc: 0.9263 - val_loss: 0.4249 - val_acc: 0.8431\n",
            "Epoch 8/15\n",
            "1370/1370 [==============================] - 5s 4ms/step - loss: 0.1844 - acc: 0.9613 - val_loss: 0.3551 - val_acc: 0.8889\n",
            "Epoch 9/15\n",
            "1370/1370 [==============================] - 5s 4ms/step - loss: 0.1697 - acc: 0.9599 - val_loss: 0.2724 - val_acc: 0.9020\n",
            "Epoch 10/15\n",
            "1370/1370 [==============================] - 5s 4ms/step - loss: 0.1429 - acc: 0.9679 - val_loss: 0.2431 - val_acc: 0.9150\n",
            "Epoch 11/15\n",
            "1370/1370 [==============================] - 5s 4ms/step - loss: 0.1250 - acc: 0.9686 - val_loss: 0.2079 - val_acc: 0.9281\n",
            "Epoch 12/15\n",
            "1370/1370 [==============================] - 5s 4ms/step - loss: 0.1014 - acc: 0.9810 - val_loss: 0.2228 - val_acc: 0.9216\n",
            "Epoch 13/15\n",
            "1370/1370 [==============================] - 5s 4ms/step - loss: 0.0923 - acc: 0.9796 - val_loss: 0.2993 - val_acc: 0.9150\n",
            "Epoch 14/15\n",
            "1370/1370 [==============================] - 5s 4ms/step - loss: 0.0976 - acc: 0.9796 - val_loss: 0.2639 - val_acc: 0.9020\n",
            "Epoch 15/15\n",
            "1370/1370 [==============================] - 5s 4ms/step - loss: 0.0704 - acc: 0.9876 - val_loss: 0.3897 - val_acc: 0.8758\n"
          ],
          "name": "stdout"
        },
        {
          "output_type": "execute_result",
          "data": {
            "text/plain": [
              "<keras.callbacks.History at 0x7fbd64755ef0>"
            ]
          },
          "metadata": {
            "tags": []
          },
          "execution_count": 19
        }
      ]
    },
    {
      "cell_type": "code",
      "metadata": {
        "id": "Wl2SRpGY9-Eq",
        "colab_type": "code",
        "colab": {}
      },
      "source": [
        "from sklearn.metrics import classification_report\n",
        "predictions = cnn_model.predict_classes(X_test)\n",
        "#print(classification_report(y_test, to_categorical(predictions)))"
      ],
      "execution_count": 0,
      "outputs": []
    },
    {
      "cell_type": "code",
      "metadata": {
        "id": "HZIxCLqJ_5rJ",
        "colab_type": "code",
        "colab": {
          "base_uri": "https://localhost:8080/",
          "height": 187
        },
        "outputId": "66849e35-107c-4845-fb8e-c051e2a6bea4"
      },
      "source": [
        "from sklearn.metrics import confusion_matrix\n",
        "confusion_matrix(np.argmax(y_test, axis=1), predictions, labels=[0,1,2,3,4,5,6,7,8,9])"
      ],
      "execution_count": 26,
      "outputs": [
        {
          "output_type": "execute_result",
          "data": {
            "text/plain": [
              "array([[63,  0,  1,  0,  0,  0,  0,  0,  0,  0],\n",
              "       [ 2, 46,  0,  1,  0,  0,  0,  0,  0,  0],\n",
              "       [ 2,  0, 49,  1,  0,  0,  0,  0,  0,  0],\n",
              "       [ 0,  0,  2, 24,  0,  0,  0,  0,  0,  0],\n",
              "       [ 2,  1,  0,  0, 49,  0,  1,  0,  0,  0],\n",
              "       [ 1,  3,  0,  0,  2, 50,  0,  0,  0,  0],\n",
              "       [ 3,  0,  1,  0,  0,  1, 49,  0,  0,  0],\n",
              "       [ 1,  1,  0,  0,  0,  0,  0, 21,  0,  0],\n",
              "       [ 0,  0,  1,  1,  0,  0,  1,  0,  1,  0],\n",
              "       [ 0,  0,  0,  0,  0,  0,  0,  0,  0,  0]])"
            ]
          },
          "metadata": {
            "tags": []
          },
          "execution_count": 26
        }
      ]
    },
    {
      "cell_type": "code",
      "metadata": {
        "id": "xnLXw42xAl55",
        "colab_type": "code",
        "colab": {
          "base_uri": "https://localhost:8080/",
          "height": 864
        },
        "outputId": "f76ef76c-da51-461b-d7b0-7d8e7d58e952"
      },
      "source": [
        "n = X_test[100:109]\n",
        "n = n.reshape(n.shape[0], n.shape[1], n.shape[2])\n",
        "plot_images(n, np.argmax(y_test[100:109], axis=1), predictions[100:109])"
      ],
      "execution_count": 27,
      "outputs": [
        {
          "output_type": "display_data",
          "data": {
            "image/png": "[encoded data removed]",
            "text/plain": [
              "<Figure size 1080x1080 with 9 Axes>"
            ]
          },
          "metadata": {
            "tags": []
          }
        }
      ]
    }
  ]
}