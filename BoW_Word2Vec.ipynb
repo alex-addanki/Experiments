{
  "nbformat": 4,
  "nbformat_minor": 0,
  "metadata": {
    "colab": {
      "name": "BoW_Word2Vec.ipynb",
      "version": "0.3.2",
      "provenance": [],
      "collapsed_sections": [],
      "include_colab_link": true
    },
    "kernelspec": {
      "name": "python3",
      "display_name": "Python 3"
    }
  },
  "cells": [
    {
      "cell_type": "markdown",
      "metadata": {
        "id": "view-in-github",
        "colab_type": "text"
      },
      "source": [
        "<a href=\"https://colab.research.google.com/github/alex-addanki/Experiments/blob/master/BoW_Word2Vec.ipynb\" target=\"_parent\"><img src=\"https://colab.research.google.com/assets/colab-badge.svg\" alt=\"Open In Colab\"/></a>"
      ]
    },
    {
      "cell_type": "markdown",
      "metadata": {
        "id": "y9NNhMb5wbUK",
        "colab_type": "text"
      },
      "source": [
        "# Advanced Certification in AIML\n",
        "## A Program by IIIT-H and TalentSprint"
      ]
    },
    {
      "cell_type": "markdown",
      "metadata": {
        "id": "7FcPWz8QW70B",
        "colab_type": "text"
      },
      "source": [
        "### Not for Grading"
      ]
    },
    {
      "cell_type": "markdown",
      "metadata": {
        "id": "A7Y4LY0qCMUO",
        "colab_type": "text"
      },
      "source": [
        "# BoW vs W2V"
      ]
    },
    {
      "cell_type": "code",
      "metadata": {
        "id": "AdDBMT1gCRgM",
        "colab_type": "code",
        "cellView": "form",
        "outputId": "1e91f520-0ac4-4547-ea0e-b40fdfcfe010",
        "colab": {
          "base_uri": "https://localhost:8080/",
          "height": 261
        }
      },
      "source": [
        "#@title Case Study Walkthrough\n",
        "#@markdown BoW vs W2V\n",
        "from IPython.display import HTML\n",
        "\n",
        "HTML(\"\"\"<video width=\"320\" height=\"240\" controls>\n",
        "  <source src=\"https://cdn.talentsprint.com/talentsprint/archives/sc/aiml/aiml_2018_b7_hyd/preview_videos/bag_of_words_vs_word2vec.mp4\">\n",
        "</video>\n",
        "\"\"\")"
      ],
      "execution_count": 0,
      "outputs": [
        {
          "output_type": "execute_result",
          "data": {
            "text/html": [
              "<video width=\"320\" height=\"240\" controls>\n",
              "  <source src=\"https://cdn.talentsprint.com/talentsprint/archives/sc/aiml/aiml_2018_b7_hyd/preview_videos/bag_of_words_vs_word2vec.mp4\">\n",
              "</video>\n"
            ],
            "text/plain": [
              "<IPython.core.display.HTML object>"
            ]
          },
          "metadata": {
            "tags": []
          },
          "execution_count": 1
        }
      ]
    },
    {
      "cell_type": "markdown",
      "metadata": {
        "id": "UnNjcTH7wbUP",
        "colab_type": "text"
      },
      "source": [
        "The objective of this experiment is to learn words with similar or different meanings are equally apart in BoW and semantics or Meaning of the word is preserved in W2V\n",
        "\n"
      ]
    },
    {
      "cell_type": "markdown",
      "metadata": {
        "id": "hFhMGpiGwbUR",
        "colab_type": "text"
      },
      "source": [
        "In this experiment we will be using a huge dataset named as 20 news classification dataset. This data set consists of 20000 messages taken from 20 newsgroups.\n",
        "\n",
        "\n",
        "\t "
      ]
    },
    {
      "cell_type": "markdown",
      "metadata": {
        "id": "L0drLlmqwbUT",
        "colab_type": "text"
      },
      "source": [
        "### Datasource\n",
        "http://archive.ics.uci.edu/ml/datasets/Twenty+Newsgroups"
      ]
    },
    {
      "cell_type": "markdown",
      "metadata": {
        "id": "AunUB3i6wbUT",
        "colab_type": "text"
      },
      "source": [
        "To get a sense of our data, let us first start by counting the frequencies of the target classes in our news articles in the training set."
      ]
    },
    {
      "cell_type": "markdown",
      "metadata": {
        "id": "y53rHt9NwbUU",
        "colab_type": "text"
      },
      "source": [
        "#### Keywords\n",
        "\n",
        "* Numpy\n",
        "* Collections\n",
        "* Gensim\n",
        "* Bag-of-Words (Word Frequency, Pre-Processing)\n",
        "* Bag-of-Words representation\n",
        "* Word2Vec representation\n",
        "* BoW vs W2V"
      ]
    },
    {
      "cell_type": "markdown",
      "metadata": {
        "id": "rN0OyDALwbUU",
        "colab_type": "text"
      },
      "source": [
        "### Setup Steps"
      ]
    },
    {
      "cell_type": "code",
      "metadata": {
        "id": "dl8SNclREUFc",
        "colab_type": "code",
        "colab": {}
      },
      "source": [
        "#@title Please enter your registration id to start: (e.g. P181900101) { run: \"auto\", display-mode: \"form\" }\n",
        "Id = \"P181902375\" #@param {type:\"string\"}"
      ],
      "execution_count": 0,
      "outputs": []
    },
    {
      "cell_type": "code",
      "metadata": {
        "id": "2mZWqpx3EUKh",
        "colab_type": "code",
        "colab": {}
      },
      "source": [
        "#@title Please enter your password (normally your phone number) to continue: { run: \"auto\", display-mode: \"form\" }\n",
        "password = \"9618623777\" #@param {type:\"string\"}\n"
      ],
      "execution_count": 0,
      "outputs": []
    },
    {
      "cell_type": "code",
      "metadata": {
        "id": "Iak9BpAQEYLf",
        "colab_type": "code",
        "cellView": "form",
        "outputId": "6dd02c2d-0d46-485b-ae2f-767738f0fec4",
        "colab": {
          "base_uri": "https://localhost:8080/",
          "height": 34
        }
      },
      "source": [
        "#@title Run this cell to complete the setup for this Notebook\n",
        "\n",
        "from IPython import get_ipython\n",
        "ipython = get_ipython()\n",
        "  \n",
        "notebook=\"M1W3_CS4_BoW_Word2Vec\" #name of the notebook\n",
        "Answer = \"ungraded\"\n",
        "\n",
        "def setup():\n",
        "    ipython.magic(\"sx wget https://www.dropbox.com/s/ir5kph0ocvibaqm/Setup_W1_D1_Exp1.sh?dl=1\")\n",
        "    ipython.magic(\"sx mv Setup_W1_D1_Exp1.sh?dl=1 Setup_W1_D1_Exp1.sh\")\n",
        "    ipython.magic(\"sx bash Setup_W1_D1_Exp1.sh -u standard -p pass123\")\n",
        "    ipython.magic(\"sx wget https://www.dropbox.com/s/fm7nvhyvekhaka4/AIML_DS_WORD2VEC2D_STD.pkl.zip?dl=1\")\n",
        "    ipython.magic(\"sx mv AIML_DS_WORD2VEC2D_STD.pkl.zip?dl=1 AIML_DS_WORD2VEC2D_STD.pkl.zip\")\n",
        "    ipython.magic(\"sx unzip AIML_DS_WORD2VEC2D_STD.pkl.zip\")\n",
        "    ipython.magic(\"sx pip3 install gensim\")\n",
        "    ipython.magic(\"sx wget https://www.dropbox.com/s/9xivz2pox1i83td/AIML_DS_GOOGLENEWS-VECTORS-NEGATIVE-300_STD.bin?dl=1\")\n",
        "    ipython.magic(\"sx mv AIML_DS_GOOGLENEWS-VECTORS-NEGATIVE-300_STD.bin?dl=1 AIML_DS_GOOGLENEWS-VECTORS-NEGATIVE-300_STD.bin\")\n",
        "    ipython.magic(\"sx wget https://cdn.talentsprint.com/aiml/Experiment_related_data/AIML_DS_NEWSGROUPS_PICKELFILE.pkl\")\n",
        "    from IPython.display import HTML, display\n",
        "    display(HTML('<script src=\"https://dashboard.talentsprint.com/aiml/record_ip.html?traineeId={0}&recordId={1}\"></script>'.format(getId(),submission_id)))\n",
        "    print(\"Setup completed successfully\")\n",
        "    return\n",
        "\n",
        "def submit_notebook():\n",
        "    \n",
        "    ipython.magic(\"notebook -e \"+ notebook + \".ipynb\")\n",
        "    \n",
        "    import requests, json, base64, datetime\n",
        "\n",
        "    url = \"https://dashboard.talentsprint.com/xp/app/save_notebook_attempts\"\n",
        "    if not submission_id:\n",
        "      data = {\"id\" : getId(), \"notebook\" : notebook, \"mobile\" : getPassword()}\n",
        "      r = requests.post(url, data = data)\n",
        "      r = json.loads(r.text)\n",
        "\n",
        "      if r[\"status\"] == \"Success\":\n",
        "          return r[\"record_id\"]\n",
        "      elif \"err\" in r:        \n",
        "        print(r[\"err\"])\n",
        "        return None        \n",
        "      else:\n",
        "        print (\"Something is wrong, the notebook will not be submitted for grading\")\n",
        "        return None\n",
        "\n",
        "    elif getAnswer() and getComplexity() and getAdditional() and getConcepts():\n",
        "      f = open(notebook + \".ipynb\", \"rb\")\n",
        "      file_hash = base64.b64encode(f.read())\n",
        "\n",
        "      data = {\"complexity\" : Complexity, \"additional\" :Additional, \n",
        "              \"concepts\" : Concepts, \"record_id\" : submission_id, \n",
        "              \"answer\" : Answer, \"id\" : Id, \"file_hash\" : file_hash,\n",
        "              \"notebook\" : notebook}\n",
        "\n",
        "      r = requests.post(url, data = data)\n",
        "      r = json.loads(r.text)\n",
        "      print(\"Your submission is successful.\")\n",
        "      print(\"Ref Id:\", submission_id)\n",
        "      print(\"Date of submission: \", r[\"date\"])\n",
        "      print(\"Time of submission: \", r[\"time\"])\n",
        "      print(\"View your submissions: https://iiith-aiml.talentsprint.com/notebook_submissions\")\n",
        "      print(\"For any queries/discrepancies, please connect with mentors through the chat icon in LMS dashboard.\")\n",
        "      return submission_id\n",
        "    else: submission_id\n",
        "    \n",
        "\n",
        "def getAdditional():\n",
        "  try:\n",
        "    if Additional: return Additional      \n",
        "    else: raise NameError('')\n",
        "  except NameError:\n",
        "    print (\"Please answer Additional Question\")\n",
        "    return None\n",
        "\n",
        "def getComplexity():\n",
        "  try:\n",
        "    return Complexity\n",
        "  except NameError:\n",
        "    print (\"Please answer Complexity Question\")\n",
        "    return None\n",
        "  \n",
        "def getConcepts():\n",
        "  try:\n",
        "    return Concepts\n",
        "  except NameError:\n",
        "    print (\"Please answer Concepts Question\")\n",
        "    return None\n",
        "\n",
        "def getAnswer():\n",
        "  try:\n",
        "    return Answer\n",
        "  except NameError:\n",
        "    print (\"Please answer Question\")\n",
        "    return None\n",
        "\n",
        "def getId():\n",
        "  try: \n",
        "    return Id if Id else None\n",
        "  except NameError:\n",
        "    return None\n",
        "\n",
        "def getPassword():\n",
        "  try:\n",
        "    return password if password else None\n",
        "  except NameError:\n",
        "    return None\n",
        "\n",
        "submission_id = None\n",
        "### Setup \n",
        "if getPassword() and getId():\n",
        "  submission_id = submit_notebook()\n",
        "  if submission_id:\n",
        "    setup()\n",
        "  \n",
        "else:\n",
        "  print (\"Please complete Id and Password cells before running setup\")\n",
        "\n"
      ],
      "execution_count": 0,
      "outputs": [
        {
          "output_type": "display_data",
          "data": {
            "text/html": [
              "<script src=\"https://dashboard.talentsprint.com/aiml/record_ip.html?traineeId=P181902375&recordId=8543\"></script>"
            ],
            "text/plain": [
              "<IPython.core.display.HTML object>"
            ]
          },
          "metadata": {
            "tags": []
          }
        },
        {
          "output_type": "stream",
          "text": [
            "Setup completed successfully\n"
          ],
          "name": "stdout"
        }
      ]
    },
    {
      "cell_type": "code",
      "metadata": {
        "id": "H9sC9--9wbUq",
        "colab_type": "code",
        "colab": {}
      },
      "source": [
        "# Importing required Packages\n",
        "import pickle\n",
        "import re\n",
        "import operator\n",
        "from collections import defaultdict\n",
        "import matplotlib.pyplot as plt\n",
        "import numpy as np\n",
        "import math\n",
        "import collections\n",
        "import gensim\n",
        "from nltk import ngrams"
      ],
      "execution_count": 0,
      "outputs": []
    },
    {
      "cell_type": "code",
      "metadata": {
        "id": "JEhKu_rjwbUt",
        "colab_type": "code",
        "outputId": "f2db3939-3b49-4e1d-9f11-3a28e5bb18b8",
        "colab": {
          "base_uri": "https://localhost:8080/",
          "height": 54
        }
      },
      "source": [
        "# Loading the dataset\n",
        "\n",
        "dataset = pickle.load(open('AIML_DS_NEWSGROUPS_PICKELFILE.pkl','rb'))\n",
        "print(dataset.keys())"
      ],
      "execution_count": 0,
      "outputs": [
        {
          "output_type": "stream",
          "text": [
            "dict_keys(['talk.politics.mideast', 'rec.autos', 'comp.sys.mac.hardware', 'alt.atheism', 'rec.sport.baseball', 'comp.os.ms-windows.misc', 'rec.sport.hockey', 'sci.crypt', 'sci.med', 'talk.politics.misc', 'rec.motorcycles', 'comp.windows.x', 'comp.graphics', 'comp.sys.ibm.pc.hardware', 'sci.electronics', 'talk.politics.guns', 'sci.space', 'soc.religion.christian', 'misc.forsale', 'talk.religion.misc'])\n"
          ],
          "name": "stdout"
        }
      ]
    },
    {
      "cell_type": "code",
      "metadata": {
        "id": "ZF9S3GYSwbUx",
        "colab_type": "code",
        "outputId": "0ae58845-2d78-437c-fc54-e9fbfe201167",
        "colab": {
          "base_uri": "https://localhost:8080/",
          "height": 391
        }
      },
      "source": [
        "# Print frequencies of dataset\n",
        "print(\"Class : count\")\n",
        "print(\"--------------\")\n",
        "number_of_documents = 0\n",
        "for key in dataset:\n",
        "    print(key, ':', len(dataset[key]))"
      ],
      "execution_count": 0,
      "outputs": [
        {
          "output_type": "stream",
          "text": [
            "Class : count\n",
            "--------------\n",
            "talk.politics.mideast : 940\n",
            "rec.autos : 990\n",
            "comp.sys.mac.hardware : 961\n",
            "alt.atheism : 799\n",
            "rec.sport.baseball : 994\n",
            "comp.os.ms-windows.misc : 985\n",
            "rec.sport.hockey : 999\n",
            "sci.crypt : 991\n",
            "sci.med : 990\n",
            "talk.politics.misc : 775\n",
            "rec.motorcycles : 994\n",
            "comp.windows.x : 980\n",
            "comp.graphics : 973\n",
            "comp.sys.ibm.pc.hardware : 982\n",
            "sci.electronics : 981\n",
            "talk.politics.guns : 910\n",
            "sci.space : 987\n",
            "soc.religion.christian : 997\n",
            "misc.forsale : 972\n",
            "talk.religion.misc : 628\n"
          ],
          "name": "stdout"
        }
      ]
    },
    {
      "cell_type": "markdown",
      "metadata": {
        "id": "gJDnkxkmwbU1",
        "colab_type": "text"
      },
      "source": [
        "Next, let us split our dataset which consists of 1000 samples per class, into training and test sets. We use 950 samples from each class in the training set, and the remaining 50 in the test set. \n",
        "\n",
        "As a mental exercise you should try reasoning about why is it important to ensure a nearly equal distribution of classes in your training and test sets. "
      ]
    },
    {
      "cell_type": "code",
      "metadata": {
        "id": "u6GK60NEwbU2",
        "colab_type": "code",
        "colab": {}
      },
      "source": [
        "train_set = {}\n",
        "test_set = {}\n",
        "\n",
        "# Clean dataset for text encoding issues :- Very useful when dealing with non-unicode characters\n",
        "for key in dataset:\n",
        "    dataset[key] = [[i.decode('utf-8', errors='replace').lower() for i in f] for f in dataset[key]]\n",
        "    \n",
        "# Break dataset into 95-5 split for training and testing\n",
        "n_train = 0\n",
        "n_test = 0\n",
        "for k in dataset:\n",
        "    split = int(0.95*len(dataset[k]))\n",
        "    train_set[k] = dataset[k][0:split]\n",
        "    test_set[k] = dataset[k][split:-1]\n",
        "    n_train += len(train_set[k])\n",
        "    n_test += len(test_set[k])"
      ],
      "execution_count": 0,
      "outputs": []
    },
    {
      "cell_type": "markdown",
      "metadata": {
        "id": "afd4qfAEwbU6",
        "colab_type": "text"
      },
      "source": [
        "## 1. Bag-of-Words\n",
        "\n",
        "Let us begin our journey into text classification with one of the simplest but most commonly used feature representations for news documents - Bag-of-Words.\n",
        "\n",
        "As you might have realized, machine learning algorithms need good feature representations of different inputs.  Concretely, we would like to represent each news article $D$ in terms of a feature vector $V$, which can be used for classification. Feature vector $V$ is made up of the number of occurences of each word in the vocabulary.\n",
        "\n",
        "Let us begin by counting the number of occurences of every word in the news documents in the training set."
      ]
    },
    {
      "cell_type": "markdown",
      "metadata": {
        "id": "OACynazXwbU7",
        "colab_type": "text"
      },
      "source": [
        "### 1.1 Word frequency"
      ]
    },
    {
      "cell_type": "markdown",
      "metadata": {
        "id": "zWgzZVqYwbU8",
        "colab_type": "text"
      },
      "source": [
        "Let us try understanding the kind of words that appear frequently, and those that occur rarely. We now count the frequencies of words:"
      ]
    },
    {
      "cell_type": "code",
      "metadata": {
        "id": "9kyqVjvBWLdK",
        "colab_type": "code",
        "colab": {}
      },
      "source": [
        "def frequency_words(train_set):\n",
        "  frequency = defaultdict(int)\n",
        "\n",
        "  for key in train_set:\n",
        "      for f in train_set[key]:\n",
        "\n",
        "          # Find all words which consist only of capital and lowercase characters and are between length of 2-9.\n",
        "          # We ignore all special characters such as !.$ and words containing numbers\n",
        "          words = re.findall(r'(\\b[A-Za-z][a-z]{2,9}\\b)', ' '.join(f))\n",
        "\n",
        "          for word in words:\n",
        "              frequency[word] += 1\n",
        "  return frequency"
      ],
      "execution_count": 0,
      "outputs": []
    },
    {
      "cell_type": "code",
      "metadata": {
        "id": "AdILkwjHwbU9",
        "colab_type": "code",
        "outputId": "d3bfb22c-f9a9-40da-c239-399456292496",
        "colab": {
          "base_uri": "https://localhost:8080/",
          "height": 391
        }
      },
      "source": [
        "frequency_of_words = frequency_words(train_set)\n",
        "\n",
        "sorted_words = sorted(frequency_of_words.items(), key=operator.itemgetter(1), reverse=True)\n",
        "print(\"Top-10 most frequent words:\")\n",
        "for word in sorted_words[:10]:\n",
        "    print(word)\n",
        "\n",
        "print('----------------------------')\n",
        "print(\"10 least frequent words:\")\n",
        "for word in sorted_words[-10:-1]:\n",
        "    print(word)"
      ],
      "execution_count": 0,
      "outputs": [
        {
          "output_type": "stream",
          "text": [
            "Top-10 most frequent words:\n",
            "('the', 226860)\n",
            "('and', 90621)\n",
            "('that', 62088)\n",
            "('for', 43546)\n",
            "('you', 42430)\n",
            "('from', 35358)\n",
            "('this', 31001)\n",
            "('not', 28645)\n",
            "('have', 28519)\n",
            "('are', 28355)\n",
            "----------------------------\n",
            "10 least frequent words:\n",
            "('apokteiuo', 1)\n",
            "('odessy', 1)\n",
            "('reedited', 1)\n",
            "('stumps', 1)\n",
            "('morsel', 1)\n",
            "('roston', 1)\n",
            "('nutball', 1)\n",
            "('tillage', 1)\n",
            "('honorably', 1)\n"
          ],
          "name": "stdout"
        }
      ]
    },
    {
      "cell_type": "markdown",
      "metadata": {
        "id": "YxZqnO8GwbVB",
        "colab_type": "text"
      },
      "source": [
        "Next, we attempt to plot a histogram of the counts of various words in descending order. \n",
        "\n",
        "Could you comment about the relationship between the frequency of the most frequent word to the second frequent word? \n",
        "And what about the third most frequent word?\n",
        "\n",
        "(Hint - Check the relative frequencies of the first, second and third most frequent words)\n",
        "\n",
        "(After answering, you can visit https://en.wikipedia.org/wiki/Zipf%27s_law for further Reading)"
      ]
    },
    {
      "cell_type": "code",
      "metadata": {
        "id": "kyWfgN4qwbVC",
        "colab_type": "code",
        "outputId": "c18e071e-0258-4bc0-b3de-2e8b7bb30a44",
        "colab": {
          "base_uri": "https://localhost:8080/",
          "height": 627
        }
      },
      "source": [
        "%matplotlib inline  \n",
        "\n",
        "fig = plt.figure()\n",
        "fig.set_size_inches(20,10)\n",
        "\n",
        "plt.bar(range(len(sorted_words[:100])), [v for k, v in sorted_words[:100]] , align='center')\n",
        "plt.xticks(range(len(sorted_words[:100])), [k for k, v in sorted_words[:100]])\n",
        "locs, labels = plt.xticks()\n",
        "plt.setp(labels, rotation=90)\n",
        "plt.show()"
      ],
      "execution_count": 0,
      "outputs": [
        {
          "output_type": "display_data",
          "data": {
            "image/png": "[encoded data removed]",
            "text/plain": [
              "<Figure size 1440x720 with 1 Axes>"
            ]
          },
          "metadata": {
            "tags": []
          }
        }
      ]
    },
    {
      "cell_type": "markdown",
      "metadata": {
        "id": "yvcU4VDkwbVE",
        "colab_type": "text"
      },
      "source": [
        "### 1.2 Pre-processing to remove most and least frequent words\n",
        "\n",
        "We can see that different words appear with different frequencies.\n",
        "\n",
        "The most common words appear in almost all documents. Hence, for a classification task, having information about those words' frequencies does not mater much since they appear frequently in every type of document. To get a good feature representation, we eliminate them since they do not add too much value.\n",
        "\n",
        "Additionally, notice how the least frequent words appear so rarely that they might not be useful either.\n",
        "\n",
        "Let us pre-process our news articles now to remove the most frequent and least frequent words by thresholding their counts: "
      ]
    },
    {
      "cell_type": "code",
      "metadata": {
        "id": "TrBX6IOSaofH",
        "colab_type": "code",
        "colab": {}
      },
      "source": [
        "def cleaning_vocabulary_words(list_of_grams):\n",
        "  valid_words = defaultdict(int)\n",
        "\n",
        "  print('Number of words before preprocessing:', len(list_of_grams))\n",
        "\n",
        "  # Ignore the 25 most frequent words, and the words which appear less than 100 times\n",
        "  ignore_most_frequent = 25\n",
        "  freq_thresh = 100\n",
        "  feature_number = 0\n",
        "  for word, word_frequency in list_of_grams[ignore_most_frequent:]:\n",
        "      if word_frequency > freq_thresh:\n",
        "          valid_words[word] = feature_number\n",
        "          feature_number += 1\n",
        "      elif '_' in word:\n",
        "          valid_words[word] = feature_number\n",
        "          feature_number += 1\n",
        "\n",
        "  print('Number of words after preprocessing:', len(valid_words))\n",
        "\n",
        "  vector_size = len(valid_words)\n",
        "  return valid_words, vector_size"
      ],
      "execution_count": 0,
      "outputs": []
    },
    {
      "cell_type": "code",
      "metadata": {
        "id": "eWjWDTRt8vDx",
        "colab_type": "code",
        "outputId": "e38f3d6b-4160-4259-c109-28b589cd906b",
        "colab": {
          "base_uri": "https://localhost:8080/",
          "height": 34
        }
      },
      "source": [
        "w='s_b'\n",
        "print('_' in w)"
      ],
      "execution_count": 0,
      "outputs": [
        {
          "output_type": "stream",
          "text": [
            "True\n"
          ],
          "name": "stdout"
        }
      ]
    },
    {
      "cell_type": "code",
      "metadata": {
        "id": "ztxnNsH8bVQV",
        "colab_type": "code",
        "outputId": "5cf1e800-8eff-4d17-a95e-c6fd250878a2",
        "colab": {
          "base_uri": "https://localhost:8080/",
          "height": 51
        }
      },
      "source": [
        "valid_words, number_of_words = cleaning_vocabulary_words(sorted_words)"
      ],
      "execution_count": 0,
      "outputs": [
        {
          "output_type": "stream",
          "text": [
            "Number of words before preprocessing: 89599\n",
            "Number of words after preprocessing: 4096\n"
          ],
          "name": "stdout"
        }
      ]
    },
    {
      "cell_type": "markdown",
      "metadata": {
        "id": "OL7KDD5nwbVG",
        "colab_type": "text"
      },
      "source": [
        "### 1.3 Bag-of-Words representation\n",
        "\n",
        "The simplest way to represent a document $D$ as a vector $V$ would be to now count the relevant words in the document. \n",
        "\n",
        "For each document, make a vector of the count of each of the words in the vocabulary (excluding the words removed in the previous step - the \"stopwords\")."
      ]
    },
    {
      "cell_type": "code",
      "metadata": {
        "id": "hmPFrRWfwbVH",
        "colab_type": "code",
        "colab": {}
      },
      "source": [
        "def convert_to_BoW(dataset, number_of_documents):\n",
        "    bow_representation = np.zeros((number_of_documents, number_of_words))\n",
        "    labels = np.zeros((number_of_documents, 1))\n",
        "    \n",
        "    i = 0\n",
        "    for label, class_name in enumerate(dataset):\n",
        "        \n",
        "        # For each file\n",
        "        for f in dataset[class_name]:\n",
        "            \n",
        "            # Read all text in file\n",
        "            text = ' '.join(f).split(' ')\n",
        "            \n",
        "            # For each word\n",
        "            for word in text:\n",
        "                if word in valid_words:\n",
        "                    bow_representation[i, valid_words[word]] += 1\n",
        "            \n",
        "            # Label of document\n",
        "            labels[i] = label\n",
        "            \n",
        "            # Increment document counter\n",
        "            i += 1\n",
        "    \n",
        "    return bow_representation, labels\n",
        "\n",
        "# Convert the dataset into their bag of words representation treating train and test separately\n",
        "train_bow_set, train_bow_labels = convert_to_BoW(train_set, n_train)\n",
        "test_bow_set, test_bow_labels = convert_to_BoW(test_set, n_test)"
      ],
      "execution_count": 0,
      "outputs": []
    },
    {
      "cell_type": "markdown",
      "metadata": {
        "id": "b2L9gwfXwbVI",
        "colab_type": "text"
      },
      "source": [
        "### 1.4 Document classification using Bag-of-Words\n",
        "\n",
        "For the test documents, use your favorite distance metric (Cosine, Eucilidean, etc.) to find similar news articles from your training set and classify using kNN."
      ]
    },
    {
      "cell_type": "code",
      "metadata": {
        "id": "hGen5XWiwbVK",
        "colab_type": "code",
        "colab": {}
      },
      "source": [
        "# Optimized K-NN:- This does the same thing as you've learned but in an optimized manner\n",
        "def dist(train_features, given_feature):\n",
        "    squared_difference = (train_features - given_feature)**2\n",
        "    distances = np.sqrt(np.sum(squared_difference, axis = 1))\n",
        "    return distances\n",
        "\n",
        "''' \n",
        " Optimized K-NN code. This code is the same as what you've already seen, but trades off memory efficency \n",
        " for computational efficency. \n",
        "'''\n",
        "def kNN(k, train_features, train_labels, given_feature):\n",
        "    distances = []\n",
        "    \n",
        "    n = train_features.shape[0]\n",
        "    \n",
        "    # np.tile function repeats the given_feature n times.\n",
        "    given_feature = np.tile(given_feature, (n, 1))\n",
        "    \n",
        "    # Compute distance\n",
        "    distances = dist(train_features, given_feature)\n",
        "    sort_neighbors = np.argsort(distances)\n",
        "    return np.concatenate((distances[sort_neighbors][:k].reshape(-1, 1), train_labels[sort_neighbors][:k].reshape(-1, 1)), axis = 1)\n",
        "\n",
        "def kNN_classify(k, train_features, train_labels, given_feature):\n",
        "    tally = collections.Counter()\n",
        "    tally.update(str(int(nn[1])) for nn in kNN(k, train_features, train_labels, given_feature))\n",
        "    return int(tally.most_common(1)[0][0])"
      ],
      "execution_count": 0,
      "outputs": []
    },
    {
      "cell_type": "markdown",
      "metadata": {
        "id": "p1oZ_fMvwbVL",
        "colab_type": "text"
      },
      "source": [
        "For example, using 3 nearest neighbours, the $0^{th}$ test document is classified as:"
      ]
    },
    {
      "cell_type": "markdown",
      "metadata": {
        "id": "oUjby7ObwbVN",
        "colab_type": "text"
      },
      "source": [
        "Computing accuracy for the bag-of-words features on the full test set:"
      ]
    },
    {
      "cell_type": "code",
      "metadata": {
        "id": "bjxqR2gUwbVO",
        "colab_type": "code",
        "outputId": "b1014f20-5783-4faa-ca10-5f47fbd419b6",
        "colab": {
          "base_uri": "https://localhost:8080/",
          "height": 17
        }
      },
      "source": [
        "accuracy = 0\n",
        "for i, given_feature in enumerate(test_bow_set):\n",
        "    print(\"Progress: {0:.04f}\".format((i+1)/len(test_bow_set)), end=\"\\r\")\n",
        "    predicted_class = kNN_classify(3, train_bow_set, train_bow_labels, given_feature)\n",
        "    if predicted_class == int(test_bow_labels[i]):\n",
        "        accuracy += 1\n",
        "BoW_accuracy = (accuracy / len(test_bow_set))"
      ],
      "execution_count": 0,
      "outputs": [
        {
          "output_type": "stream",
          "text": [
            ""
          ],
          "name": "stdout"
        }
      ]
    },
    {
      "cell_type": "code",
      "metadata": {
        "id": "FJk9zGFMYe2G",
        "colab_type": "code",
        "outputId": "ecbdfad8-1a53-410e-9053-d1cb4bd8fc13",
        "colab": {
          "base_uri": "https://localhost:8080/",
          "height": 34
        }
      },
      "source": [
        "print(BoW_accuracy)"
      ],
      "execution_count": 0,
      "outputs": [
        {
          "output_type": "stream",
          "text": [
            "0.553763440860215\n"
          ],
          "name": "stdout"
        }
      ]
    },
    {
      "cell_type": "markdown",
      "metadata": {
        "id": "bXqK59gGDTqE",
        "colab_type": "text"
      },
      "source": [
        "# 2. Word2Vec"
      ]
    },
    {
      "cell_type": "markdown",
      "metadata": {
        "id": "Lvhba-_oNx8l",
        "colab_type": "text"
      },
      "source": [
        "## 2.1 Load pre-trained Word2Vec\n",
        "\n",
        "Let us now proceed to load the complete pretrained vectors."
      ]
    },
    {
      "cell_type": "code",
      "metadata": {
        "id": "c9TeOff151Qe",
        "colab_type": "code",
        "colab": {}
      },
      "source": [
        "model = gensim.models.KeyedVectors.load_word2vec_format('AIML_DS_GOOGLENEWS-VECTORS-NEGATIVE-300_STD.bin', binary=True, limit=500000)"
      ],
      "execution_count": 0,
      "outputs": []
    },
    {
      "cell_type": "markdown",
      "metadata": {
        "id": "wFdjtmZLDTqq",
        "colab_type": "text"
      },
      "source": [
        "## 2.2 Word2Vec representation\n",
        "\n",
        "Convert each document into average of the word2vec vectors of all valid words in document"
      ]
    },
    {
      "cell_type": "code",
      "metadata": {
        "id": "DiZxIihmDTqr",
        "colab_type": "code",
        "colab": {}
      },
      "source": [
        "word2vec_vector_size = 300\n",
        "\n",
        "'''\n",
        " This method converts documents to word vectors. It first checks if the word is valid according to our initial frequency \n",
        " threshold. Next, if it is, we add the precomputed word vectors together. If the word is valid, but we do not have a valid \n",
        " vector to represent the word, we add a random gaussian noise instead. Since we do not want to induce new noise each time,\n",
        " we store the same noise vector for training and test time in substitute_word_vecs variable.\n",
        "'''\n",
        "def convert_to_w2v(dataset, number_of_documents, substitute_word_vecs={}):\n",
        "    labels = np.zeros((number_of_documents, 1))\n",
        "    w2v_rep = np.zeros((number_of_documents, word2vec_vector_size))\n",
        "    \n",
        "    # Iterate over the dataset and split into words\n",
        "    i = 0\n",
        "    for label, class_name in enumerate(dataset):\n",
        "        for f in dataset[class_name]:\n",
        "            text = ' '.join(f).split(' ')\n",
        "            valid_count = 1\n",
        "            for word in text:\n",
        "                \n",
        "                # Check if word is valid or not according to original dataset pruning\n",
        "                if word in valid_words:\n",
        "                    try:\n",
        "                        w2v_rep[i] += model[word]\n",
        "                    except:\n",
        "                        '''The word isn't in our pretrained word-vectors, hence we add a random gaussian noise\n",
        "                         to account for this. We store the random vector we assigned to the word, and reuse \n",
        "                         the same vector during test time to ensure consistency.'''\n",
        "                        \n",
        "                        if word not in substitute_word_vecs.keys():\n",
        "                            substitute_word_vecs[word] = np.random.normal(-0.25, 0.25, word2vec_vector_size)\n",
        "                            \n",
        "                        w2v_rep[i] += substitute_word_vecs[word]\n",
        "                    \n",
        "                    valid_count += 1\n",
        "            \n",
        "            # Average\n",
        "            w2v_rep[i] = w2v_rep[i] / valid_count\n",
        "            \n",
        "            # Save label\n",
        "            labels[i] = label\n",
        "            \n",
        "            i += 1\n",
        "    \n",
        "    return w2v_rep, labels, substitute_word_vecs\n",
        "\n",
        "# Convert the train and test datasets into their word2vec representations\n",
        "train_w2v_set, train_w2v_labels, substitute_word_vecs = convert_to_w2v(train_set, n_train)\n",
        "test_w2v_set, test_w2v_labels,_ = convert_to_w2v(test_set, n_test, substitute_word_vecs)"
      ],
      "execution_count": 0,
      "outputs": []
    },
    {
      "cell_type": "markdown",
      "metadata": {
        "id": "hrs_bVWhDTqy",
        "colab_type": "text"
      },
      "source": [
        "## 2.3 Document classification using Word2Vec\n",
        "\n",
        "For the test documents, use your favorite distance metric (Cosine, Eucilidean, etc.) to find similar news articles from your training set and classify using kNN."
      ]
    },
    {
      "cell_type": "code",
      "metadata": {
        "id": "Fxp9eRSjDTqz",
        "colab_type": "code",
        "outputId": "05de48ca-7a51-4ea6-ac91-0f559f6f1f74",
        "colab": {
          "base_uri": "https://localhost:8080/",
          "height": 17
        }
      },
      "source": [
        "accuracy = 0\n",
        "for i, given_feature in enumerate(test_w2v_set):\n",
        "    print(\"Progress: {0:.04f}\".format((i+1)/len(test_w2v_set)), end=\"\\r\")\n",
        "    predicted_class = kNN_classify(3, train_w2v_set, train_w2v_labels, given_feature)\n",
        "    if predicted_class == int(test_w2v_labels[i]):\n",
        "        accuracy += 1\n"
      ],
      "execution_count": 0,
      "outputs": [
        {
          "output_type": "stream",
          "text": [
            ""
          ],
          "name": "stdout"
        }
      ]
    },
    {
      "cell_type": "code",
      "metadata": {
        "id": "EnktFQP_KCDf",
        "colab_type": "code",
        "colab": {}
      },
      "source": [
        "W2V_accuracy = accuracy / len(test_w2v_set)"
      ],
      "execution_count": 0,
      "outputs": []
    },
    {
      "cell_type": "code",
      "metadata": {
        "id": "o60fr4v3JKZe",
        "colab_type": "code",
        "colab": {}
      },
      "source": [
        "label = ['BoW', 'W2V']\n",
        "accuracies = [BoW_accuracy*100, W2V_accuracy*100]"
      ],
      "execution_count": 0,
      "outputs": []
    },
    {
      "cell_type": "code",
      "metadata": {
        "id": "QQKK84SNJD1I",
        "colab_type": "code",
        "outputId": "b76502d2-b178-4b67-e429-39e98dc19b0f",
        "colab": {
          "base_uri": "https://localhost:8080/",
          "height": 395
        }
      },
      "source": [
        "plt.figure(figsize=(5,5))\n",
        "index = np.arange(len(label))\n",
        "plt.bar(index, accuracies, width = 0.2)\n",
        "plt.xlabel('Representation', fontsize=15)\n",
        "plt.ylabel('Accuracy', fontsize=15)\n",
        "plt.xticks(index, label, fontsize=15, rotation=30)\n",
        "plt.title('Compare BoW - W2V on Newsgroup classification')\n",
        "for i, v in enumerate(accuracies):\n",
        "    plt.text(v, i, str(v), color='red', fontweight='bold')\n",
        "plt.savefig('Compare BoW-W2v on Newsgroup Classification.png')"
      ],
      "execution_count": 0,
      "outputs": [
        {
          "output_type": "display_data",
          "data": {
            "image/png": "[encoded data removed]",
            "text/plain": [
              "<Figure size 360x360 with 1 Axes>"
            ]
          },
          "metadata": {
            "tags": []
          }
        }
      ]
    },
    {
      "cell_type": "markdown",
      "metadata": {
        "id": "vFjvlJxA1pxK",
        "colab_type": "text"
      },
      "source": [
        "### Please answer the questions below to complete the experiment:\n",
        "\n",
        "\n"
      ]
    },
    {
      "cell_type": "code",
      "metadata": {
        "id": "SUdd0uou1qNV",
        "colab_type": "code",
        "colab": {}
      },
      "source": [
        "#@title How was the experiment? { run: \"auto\", form-width: \"500px\", display-mode: \"form\" }\n",
        "Complexity = \"Good and Challenging for me\" #@param [\"Too Simple, I am wasting time\", \"Good, But Not Challenging for me\", \"Good and Challenging for me\", \"Was Tough, but I did it\", \"Too Difficult for me\"]\n"
      ],
      "execution_count": 0,
      "outputs": []
    },
    {
      "cell_type": "code",
      "metadata": {
        "id": "sh01uk851qW9",
        "colab_type": "code",
        "colab": {}
      },
      "source": [
        "#@title If it was very easy, what more you would have liked to have been added? If it was very difficult, what would you have liked to have been removed? { run: \"auto\", display-mode: \"form\" }\n",
        "Additional = \"test'\\\"\" #@param {type:\"string\"}"
      ],
      "execution_count": 0,
      "outputs": []
    },
    {
      "cell_type": "code",
      "metadata": {
        "id": "Z-gNNNCB1qo2",
        "colab_type": "code",
        "colab": {}
      },
      "source": [
        "#@title Can you identify the concepts from the lecture which this experiment covered? { run: \"auto\", vertical-output: true, display-mode: \"form\" }\n",
        "Concepts = \"Yes\" #@param [\"Yes\", \"No\"]"
      ],
      "execution_count": 0,
      "outputs": []
    },
    {
      "cell_type": "code",
      "metadata": {
        "id": "CZGYu4Ag1q_g",
        "colab_type": "code",
        "cellView": "form",
        "outputId": "1a14dcad-d466-4dfa-9ffd-96a66ba13eed",
        "colab": {
          "base_uri": "https://localhost:8080/",
          "height": 119
        }
      },
      "source": [
        "#@title Run this cell to submit your notebook for grading { vertical-output: true }\n",
        "try:\n",
        "  if submission_id:\n",
        "      return_id = submit_notebook()\n",
        "      if return_id : submission_id =return_id\n",
        "  else:\n",
        "      print(\"Please complete the setup first.\")\n",
        "except NameError:\n",
        "  print (\"Please complete the setup first.\")"
      ],
      "execution_count": 0,
      "outputs": [
        {
          "output_type": "stream",
          "text": [
            "Your submission is successful.\n",
            "Ref Id: 8543\n",
            "Date of submission:  03 May 2019\n",
            "Time of submission:  11:56:14\n",
            "View your submissions: https://iiith-aiml.talentsprint.com/notebook_submissions\n",
            "For any queries/discrepancies, please connect with mentors through the chat icon in LMS dashboard.\n"
          ],
          "name": "stdout"
        }
      ]
    }
  ]
}