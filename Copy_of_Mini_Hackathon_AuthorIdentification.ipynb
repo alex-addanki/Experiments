{
  "nbformat": 4,
  "nbformat_minor": 0,
  "metadata": {
    "colab": {
      "name": "Copy of Mini_Hackathon_AuthorIdentification.ipynb",
      "version": "0.3.2",
      "provenance": [],
      "collapsed_sections": [],
      "include_colab_link": true
    },
    "kernelspec": {
      "name": "python3",
      "display_name": "Python 3"
    }
  },
  "cells": [
    {
      "cell_type": "markdown",
      "metadata": {
        "id": "view-in-github",
        "colab_type": "text"
      },
      "source": [
        "<a href=\"https://colab.research.google.com/github/alex-addanki/Experiments/blob/master/Copy_of_Mini_Hackathon_AuthorIdentification.ipynb\" target=\"_parent\"><img src=\"https://colab.research.google.com/assets/colab-badge.svg\" alt=\"Open In Colab\"/></a>"
      ]
    },
    {
      "cell_type": "markdown",
      "metadata": {
        "colab_type": "text",
        "id": "74lzxaiQ9-9s"
      },
      "source": [
        "\n",
        "\n",
        "\n",
        "# Advanced Certification in AIML\n",
        "## A Program by IIIT-H and TalentSprint"
      ]
    },
    {
      "cell_type": "markdown",
      "metadata": {
        "id": "O4mJKZzgrMLp",
        "colab_type": "text"
      },
      "source": [
        "## Problem Statement"
      ]
    },
    {
      "cell_type": "markdown",
      "metadata": {
        "id": "kiWKLfqkrOB6",
        "colab_type": "text"
      },
      "source": [
        "The problem is to identify the author of a  book from a given list of possible authors."
      ]
    },
    {
      "cell_type": "markdown",
      "metadata": {
        "colab_type": "text",
        "id": "6ElufS5-9-99"
      },
      "source": [
        "## Learning Objectives"
      ]
    },
    {
      "cell_type": "markdown",
      "metadata": {
        "colab_type": "text",
        "id": "dCHP0foL9--C"
      },
      "source": [
        "At the end of the experiment, you will be able to :\n",
        "\n",
        "* Preprocess the text\n",
        "* Write an algorithm to identify author of a given book\n",
        "* Use NLTK package"
      ]
    },
    {
      "cell_type": "markdown",
      "metadata": {
        "id": "FCz5oobSruGF",
        "colab_type": "text"
      },
      "source": [
        "## Background "
      ]
    },
    {
      "cell_type": "markdown",
      "metadata": {
        "id": "hZWNTcd4oo-D",
        "colab_type": "text"
      },
      "source": [
        "Author identification is the task of identifying the author of a given text. It can be considered as a typical classification problem, where a set of books with known authors are used for training. The aim is to automatically determine the corresponding author of an anonymous text. "
      ]
    },
    {
      "cell_type": "markdown",
      "metadata": {
        "id": "1BQEA97zTlTa",
        "colab_type": "text"
      },
      "source": [
        "## Grading = 25 Marks"
      ]
    },
    {
      "cell_type": "markdown",
      "metadata": {
        "colab_type": "text",
        "id": "9fYwJv9T9--K"
      },
      "source": [
        "## Setup Steps"
      ]
    },
    {
      "cell_type": "code",
      "metadata": {
        "colab_type": "code",
        "id": "tOGbD4Wa9--N",
        "colab": {}
      },
      "source": [
        "#@title Please enter your registration id to start: (e.g. P181900101) { run: \"auto\", display-mode: \"form\" }\n",
        "Id = \"P181902375\" #@param {type:\"string\"}\n"
      ],
      "execution_count": 0,
      "outputs": []
    },
    {
      "cell_type": "code",
      "metadata": {
        "colab_type": "code",
        "id": "BQf6sWOR9--S",
        "colab": {}
      },
      "source": [
        "#@title Please enter your password (normally your phone number) to continue: { run: \"auto\", display-mode: \"form\" }\n",
        "password = \"9618623777\" #@param {type:\"string\"}\n"
      ],
      "execution_count": 0,
      "outputs": []
    },
    {
      "cell_type": "code",
      "metadata": {
        "colab_type": "code",
        "cellView": "form",
        "id": "HPdGmFba9--f",
        "outputId": "cae03bf8-6038-42b4-aa62-87759a99af5a",
        "colab": {
          "base_uri": "https://localhost:8080/",
          "height": 34
        }
      },
      "source": [
        "#@title Run this cell to complete the setup for this Notebook\n",
        "\n",
        "from IPython import get_ipython\n",
        "ipython = get_ipython()\n",
        "  \n",
        "notebook=\"BLR_M1_Mini_Hackathon_AuthorIdentification\" #name of the notebook\n",
        "Answer = \"This notebook is graded by mentors on the day of hackathon\"\n",
        "def setup():\n",
        "#  ipython.magic(\"sx pip3 install torch\")\n",
        "   ipython.magic(\"sx wget https://www.dropbox.com/s/9xivz2pox1i83td/AIML_DS_GOOGLENEWS-VECTORS-NEGATIVE-300_STD.bin?dl=1\")\n",
        "   ipython.magic(\"sx mv AIML_DS_GOOGLENEWS-VECTORS-NEGATIVE-300_STD.bin?dl=1 AIML_DS_GOOGLENEWS-VECTORS-NEGATIVE-300_STD.bin\")\n",
        "   print (\"Setup completed successfully\")\n",
        "   return\n",
        "\n",
        "def submit_notebook():\n",
        "    \n",
        "    ipython.magic(\"notebook -e \"+ notebook + \".ipynb\")\n",
        "    \n",
        "    import requests, json, base64, datetime\n",
        "\n",
        "    url = \"https://dashboard.talentsprint.com/xp/app/save_notebook_attempts\"\n",
        "    if not submission_id:\n",
        "      data = {\"id\" : getId(), \"notebook\" : notebook, \"mobile\" : getPassword()}\n",
        "      r = requests.post(url, data = data)\n",
        "      r = json.loads(r.text)\n",
        "\n",
        "      if r[\"status\"] == \"Success\":\n",
        "          return r[\"record_id\"]\n",
        "      elif \"err\" in r:        \n",
        "        print(r[\"err\"])\n",
        "        return None        \n",
        "      else:\n",
        "        print (\"Something is wrong, the notebook will not be submitted for grading\")\n",
        "        return None\n",
        "\n",
        "    elif getAnswer() and getComplexity() and getAdditional() and getConcepts():\n",
        "      f = open(notebook + \".ipynb\", \"rb\")\n",
        "      file_hash = base64.b64encode(f.read())\n",
        "\n",
        "      data = {\"complexity\" : Complexity, \"additional\" :Additional, \n",
        "              \"concepts\" : Concepts, \"record_id\" : submission_id, \n",
        "              \"answer\" : Answer, \"id\" : Id, \"file_hash\" : file_hash,\n",
        "              \"notebook\" : notebook}\n",
        "\n",
        "      r = requests.post(url, data = data)\n",
        "      r = json.loads(r.text)\n",
        "      print(\"Your submission is successful.\")\n",
        "      print(\"Ref Id:\", submission_id)\n",
        "      print(\"Date of submission: \", r[\"date\"])\n",
        "      print(\"Time of submission: \", r[\"time\"])\n",
        "      print(\"View your submissions: https://iiith-aiml.talentsprint.com/notebook_submissions\")\n",
        "      print(\"For any queries/discrepancies, please connect with mentors through the chat icon in LMS dashboard.\")\n",
        "      return submission_id\n",
        "    else: submission_id\n",
        "    \n",
        "\n",
        "def getAdditional():\n",
        "  try:\n",
        "    if Additional: return Additional      \n",
        "    else: raise NameError('')\n",
        "  except NameError:\n",
        "    print (\"Please answer Additional Question\")\n",
        "    return None\n",
        "\n",
        "def getComplexity():\n",
        "  try:\n",
        "    return Complexity\n",
        "  except NameError:\n",
        "    print (\"Please answer Complexity Question\")\n",
        "    return None\n",
        "  \n",
        "def getConcepts():\n",
        "  try:\n",
        "    return Concepts\n",
        "  except NameError:\n",
        "    print (\"Please answer Concepts Question\")\n",
        "    return None\n",
        "\n",
        "def getAnswer():\n",
        "  try:\n",
        "    return Answer\n",
        "  except NameError:\n",
        "    print (\"Please answer Question\")\n",
        "    return None\n",
        "\n",
        "def getId():\n",
        "  try: \n",
        "    return Id if Id else None\n",
        "  except NameError:\n",
        "    return None\n",
        "\n",
        "def getPassword():\n",
        "  try:\n",
        "    return password if password else None\n",
        "  except NameError:\n",
        "    return None\n",
        "\n",
        "submission_id = None\n",
        "### Setup \n",
        "if getPassword() and getId():\n",
        "  submission_id = submit_notebook()\n",
        "  if submission_id:\n",
        "    setup()\n",
        "  \n",
        "else:\n",
        "  print (\"Please complete Id and Password cells before running setup\")\n",
        "\n"
      ],
      "execution_count": 0,
      "outputs": [
        {
          "output_type": "stream",
          "text": [
            "Setup completed successfully\n"
          ],
          "name": "stdout"
        }
      ]
    },
    {
      "cell_type": "markdown",
      "metadata": {
        "colab_type": "text",
        "id": "ioUZ8pJa9--n"
      },
      "source": [
        "### NOTE: Please feel free to use ML libraries such as Sklearn, NLTK etc whereever applicable"
      ]
    },
    {
      "cell_type": "markdown",
      "metadata": {
        "colab_type": "text",
        "id": "ipknN3nY9--r"
      },
      "source": [
        "## Stage 1: Sentence Level Classification\n",
        "\n",
        "You can choose any two authors books from the below list \n",
        "\n",
        "* Shakespeare\n",
        "* Austen\n",
        "* Chesterton \n",
        "\n",
        "The books of the authors are mentioned in **Gutenberg Corpus**.\n",
        "\n",
        "Click on the [link](https://www.nltk.org/book/ch02.html) for reference."
      ]
    },
    {
      "cell_type": "markdown",
      "metadata": {
        "id": "jR6_IRo7vTrs",
        "colab_type": "text"
      },
      "source": [
        "### Downloading the required nltk Packages"
      ]
    },
    {
      "cell_type": "code",
      "metadata": {
        "colab_type": "code",
        "id": "7BOKJN039--v",
        "outputId": "1ee8a154-53d5-4266-9a9a-3e0f795a7ea4",
        "colab": {
          "base_uri": "https://localhost:8080/",
          "height": 85
        }
      },
      "source": [
        "import nltk\n",
        "nltk.download('gutenberg')\n",
        "nltk.download('punkt')\n",
        "import nltk, re, pprint\n",
        "from nltk import word_tokenize"
      ],
      "execution_count": 0,
      "outputs": [
        {
          "output_type": "stream",
          "text": [
            "[nltk_data] Downloading package gutenberg to /root/nltk_data...\n",
            "[nltk_data]   Package gutenberg is already up-to-date!\n",
            "[nltk_data] Downloading package punkt to /root/nltk_data...\n",
            "[nltk_data]   Package punkt is already up-to-date!\n"
          ],
          "name": "stdout"
        }
      ]
    },
    {
      "cell_type": "markdown",
      "metadata": {
        "colab_type": "text",
        "id": "YCTPinoX9--0"
      },
      "source": [
        "### 1 Mark-> a) Access a particular book by the chosen author. Find number of sentences and words (tokens) present in that book: \n",
        "\n",
        "Instructions on accessing the Corpus can be found at the following [link](https://www.nltk.org/book/ch02.html)"
      ]
    },
    {
      "cell_type": "code",
      "metadata": {
        "colab_type": "code",
        "id": "h7o97fCZ9--3",
        "colab": {}
      },
      "source": [
        "#####YOUR CODE HERE###############\n",
        "import nltk\n",
        "from nltk.corpus import gutenberg\n",
        "gutenberg.fileids()\n",
        "nltk.corpus.gutenberg.fileids()\n",
        "emma = gutenberg.words('austen-emma.txt')"
      ],
      "execution_count": 0,
      "outputs": []
    },
    {
      "cell_type": "code",
      "metadata": {
        "id": "T5mHI6eeGz87",
        "colab_type": "code",
        "outputId": "57f17cd4-00be-4b06-8332-c80416f6ca92",
        "colab": {
          "base_uri": "https://localhost:8080/",
          "height": 323
        }
      },
      "source": [
        "for fileid  in  gutenberg.fileids():\n",
        "        num_chars = len(gutenberg.raw(fileid))\n",
        "        num_words = len(gutenberg.words(fileid))\n",
        "        num_sents = len(gutenberg.sents(fileid))\n",
        "        num_vocab = len(set(w.lower() for w in gutenberg.words(fileid)))\n",
        "        print(round(num_chars/num_words), round(num_words/num_sents), round(num_words/num_vocab), fileid)    \n"
      ],
      "execution_count": 0,
      "outputs": [
        {
          "output_type": "stream",
          "text": [
            "5 25 26 austen-emma.txt\n",
            "5 26 17 austen-persuasion.txt\n",
            "5 28 22 austen-sense.txt\n",
            "4 34 79 bible-kjv.txt\n",
            "5 19 5 blake-poems.txt\n",
            "4 19 14 bryant-stories.txt\n",
            "4 18 12 burgess-busterbrown.txt\n",
            "4 20 13 carroll-alice.txt\n",
            "5 20 12 chesterton-ball.txt\n",
            "5 23 11 chesterton-brown.txt\n",
            "5 18 11 chesterton-thursday.txt\n",
            "4 21 25 edgeworth-parents.txt\n",
            "5 26 15 melville-moby_dick.txt\n",
            "5 52 11 milton-paradise.txt\n",
            "4 12 9 shakespeare-caesar.txt\n",
            "4 12 8 shakespeare-hamlet.txt\n",
            "4 12 7 shakespeare-macbeth.txt\n",
            "5 36 12 whitman-leaves.txt\n"
          ],
          "name": "stdout"
        }
      ]
    },
    {
      "cell_type": "markdown",
      "metadata": {
        "colab_type": "text",
        "id": "4bLZIvs3Ae70"
      },
      "source": [
        "#Before moving ahead choose your two authors based on the your team-nbr: <br/>\n",
        "**1.** <br/>\n",
        "Team=1,6,11,16,21,26 &nbsp;&nbsp;&nbsp;         Author-A Vs Author-B <br />\n",
        "Team=2,7,12,17,22,27 &nbsp;&nbsp;&nbsp;         Author-B Vs Author-C <br />\n",
        "Team=3,8,13,18,23,28 &nbsp;&nbsp;&nbsp;         Author-C Vs Author-D <br />\n",
        "Team=4,9,14,19,24 &nbsp;&nbsp;&nbsp;         Author-D Vs Author-E <br />\n",
        "Team=5,10,15,20,25    &nbsp;&nbsp;&nbsp;         Author-E Vs Author-F <br />\n",
        "\n",
        "**2.** Link for each of the author to be used for your problem: <br />\n",
        "\n",
        "Author-A &nbsp;&nbsp; G.K.Chesterton <br />\n",
        "\n",
        "*   Author-A -> Rudyard Kipling ->  [Short Stories Collection](http://www.gutenberg.org/files/2781/2781-0.txt) &nbsp;&nbsp;\n",
        "*   Author-B -> Anton Chekhov [Short Stories Collection](http://www.gutenberg.org/files/1732/1732-0.txt) &nbsp;&nbsp;\n",
        "*   Author-C -> Guy De Maupassant [Short Stories Collection](http://www.gutenberg.org/cache/epub/21327/pg21327.txt)&nbsp;&nbsp;\n",
        "*   Author-D -> O Henry [Short Stories Collection](http://www.gutenberg.org/cache/epub/2141/pg2141.txt) &nbsp;&nbsp;\n",
        "*   Author-E -> Mark Twain [Short Stories Collection](http://www.gutenberg.org/files/245/245-0.txt)&nbsp;&nbsp;\n",
        "*   Author-F -> Saki [Short Stories Collection](http://www.gutenberg.org/files/1477/1477-0.txt)&nbsp;&nbsp;\n",
        "\n",
        "**Downloading raw text from Gutenberg :**\n",
        " Hint: Refer section \"Electronic Books\" in the following  [link](https://www.nltk.org/book/ch03.html) for the instructions.  \n",
        " \n",
        " \n",
        " **Ensure you appropriately split the above text into multiple short stories, which will be your training data - 2 Marks  (Hint: You may use raw.find() and raw.rfind() in the  [link](https://www.nltk.org/book/ch03.html)   to find appropriate index of the start and end location)**"
      ]
    },
    {
      "cell_type": "code",
      "metadata": {
        "id": "kyUL4MqXI0lH",
        "colab_type": "code",
        "colab": {}
      },
      "source": [
        "import nltk, re, pprint\n",
        "from nltk import word_tokenize\n",
        "from urllib import request\n",
        "url = \"http://www.gutenberg.org/files/1732/1732-0.txt\"\n",
        "url2 = \"http://www.gutenberg.org/files/2781/2781-0.txt\"\n",
        "response = request.urlopen(url)\n",
        "response2 = request.urlopen(url2)\n",
        "AntonChekhov = response.read().decode('utf8')\n",
        "RudyardKipling = response2.read().decode('utf8')\n",
        "\n"
      ],
      "execution_count": 0,
      "outputs": []
    },
    {
      "cell_type": "code",
      "metadata": {
        "id": "mkvtgpCRPmaB",
        "colab_type": "code",
        "outputId": "d2b9135a-b40e-404b-e474-ac3031a4d565",
        "colab": {
          "base_uri": "https://localhost:8080/",
          "height": 51
        }
      },
      "source": [
        "print(type(AntonChekhov),len(AntonChekhov))\n",
        "print(type(RudyardKipling),len(RudyardKipling))\n"
      ],
      "execution_count": 0,
      "outputs": [
        {
          "output_type": "stream",
          "text": [
            "<class 'str'> 376627\n",
            "<class 'str'> 181434\n"
          ],
          "name": "stdout"
        }
      ]
    },
    {
      "cell_type": "code",
      "metadata": {
        "id": "0t5bxoYOJZgV",
        "colab_type": "code",
        "outputId": "4911d5ce-40d0-4e83-b9de-550588ce8b95",
        "colab": {
          "base_uri": "https://localhost:8080/",
          "height": 34
        }
      },
      "source": [
        "AntonChekhov[:75]"
      ],
      "execution_count": 0,
      "outputs": [
        {
          "output_type": "execute_result",
          "data": {
            "text/plain": [
              "'\\ufeffProject Gutenberg’s The Schoolmistress and Other Stories, by Anton Chekhov'"
            ]
          },
          "metadata": {
            "tags": []
          },
          "execution_count": 18
        }
      ]
    },
    {
      "cell_type": "code",
      "metadata": {
        "id": "mUdhi_qQQZ3n",
        "colab_type": "code",
        "outputId": "8c222d3a-cc0c-4966-ea73-d7f6362ba257",
        "colab": {
          "base_uri": "https://localhost:8080/",
          "height": 34
        }
      },
      "source": [
        "RudyardKipling[:75]"
      ],
      "execution_count": 0,
      "outputs": [
        {
          "output_type": "execute_result",
          "data": {
            "text/plain": [
              "'\\ufeffThe Project Gutenberg EBook of Just So Stories, by Rudyard Kipling\\r\\n\\r\\nThis'"
            ]
          },
          "metadata": {
            "tags": []
          },
          "execution_count": 48
        }
      ]
    },
    {
      "cell_type": "code",
      "metadata": {
        "id": "JxoaI4X3LCAm",
        "colab_type": "code",
        "outputId": "b2713c17-6e52-42a3-f819-51c12c1b49bd",
        "colab": {
          "base_uri": "https://localhost:8080/",
          "height": 51
        }
      },
      "source": [
        "print(AntonChekhov.find(\"THE SHOEMAKER AND THE DEVIL\"))\n",
        "print(AntonChekhov.find(\"End of the Project Gutenberg EBook\"))"
      ],
      "execution_count": 0,
      "outputs": [
        {
          "output_type": "stream",
          "text": [
            "1218\n",
            "357453\n"
          ],
          "name": "stdout"
        }
      ]
    },
    {
      "cell_type": "code",
      "metadata": {
        "id": "uzAbco4VLiZH",
        "colab_type": "code",
        "colab": {}
      },
      "source": [
        "AntonChekhov_withoutTOC = AntonChekhov[1255:357453]\n",
        "print(AntonChekhov_withoutTOC)"
      ],
      "execution_count": 0,
      "outputs": []
    },
    {
      "cell_type": "code",
      "metadata": {
        "id": "hn-N0xuuLqIU",
        "colab_type": "code",
        "outputId": "6e665c86-86b5-4cf6-d90b-ef9500a00a24",
        "colab": {
          "base_uri": "https://localhost:8080/",
          "height": 51
        }
      },
      "source": [
        "print(RudyardKipling.find(\"THE BUTTERFLY THAT STAMPED\"))\n",
        "print(RudyardKipling.find(\"End of the Project Gutenberg EBook\"))"
      ],
      "execution_count": 0,
      "outputs": [
        {
          "output_type": "stream",
          "text": [
            "1114\n",
            "162310\n"
          ],
          "name": "stdout"
        }
      ]
    },
    {
      "cell_type": "code",
      "metadata": {
        "id": "V49Pbw4FPFvG",
        "colab_type": "code",
        "colab": {}
      },
      "source": [
        "\n",
        "RudyardKipling_withoutTOC = RudyardKipling[1150:162310]\n",
        "print(RudyardKipling_withoutTOC)"
      ],
      "execution_count": 0,
      "outputs": []
    },
    {
      "cell_type": "code",
      "metadata": {
        "id": "Vd1t8xbfUYTK",
        "colab_type": "code",
        "colab": {}
      },
      "source": [
        "#print(AntonChekhov.find(\"THE SHOEMAKER AND THE DEVIL\"))\n",
        "#print(AntonChekhov_withoutTOC.find(\"THE BET\"))\n",
        "#print(AntonChekhov_withoutTOC[296261:])\n",
        "print(AntonChekhov_withoutTOC[0:296261])"
      ],
      "execution_count": 0,
      "outputs": []
    },
    {
      "cell_type": "code",
      "metadata": {
        "id": "dQ8Z-U3cVZ0j",
        "colab_type": "code",
        "colab": {}
      },
      "source": [
        "AntonChekhov_Train = AntonChekhov_withoutTOC[0:296261]\n",
        "AntonChekhov_Test  = AntonChekhov_withoutTOC[296261:]"
      ],
      "execution_count": 0,
      "outputs": []
    },
    {
      "cell_type": "code",
      "metadata": {
        "id": "cx_yt2HMVpBr",
        "colab_type": "code",
        "colab": {}
      },
      "source": [
        "print(RudyardKipling_withoutTOC.find(\"HOW THE ALPHABET WAS MADE\"))\n",
        "#print(AntonChekhov_withoutTOC.find(\"THE BET\"))\n",
        "#print(RudyardKipling_withoutTOC[84289:])\n",
        "#print(RudyardKipling_withoutTOC[0:84289])"
      ],
      "execution_count": 0,
      "outputs": []
    },
    {
      "cell_type": "code",
      "metadata": {
        "id": "NavZxUMnWOwE",
        "colab_type": "code",
        "colab": {}
      },
      "source": [
        "RudyardKipling_Train = RudyardKipling_withoutTOC[0:84289]\n",
        "RudyardKipling_Test  = RudyardKipling_withoutTOC[84289:]"
      ],
      "execution_count": 0,
      "outputs": []
    },
    {
      "cell_type": "code",
      "metadata": {
        "id": "-OD7JRnLmZ5m",
        "colab_type": "code",
        "colab": {
          "base_uri": "https://localhost:8080/",
          "height": 34
        },
        "outputId": "3d6d91be-6c87-43c5-dfb0-7b00ec364fc3"
      },
      "source": [
        "type(RudyardKipling_Train)"
      ],
      "execution_count": 29,
      "outputs": [
        {
          "output_type": "execute_result",
          "data": {
            "text/plain": [
              "str"
            ]
          },
          "metadata": {
            "tags": []
          },
          "execution_count": 29
        }
      ]
    },
    {
      "cell_type": "code",
      "metadata": {
        "id": "6BFREolbTXLh",
        "colab_type": "code",
        "colab": {
          "base_uri": "https://localhost:8080/",
          "height": 54
        },
        "outputId": "bf707e53-6090-4bf2-88f5-b859747159c2"
      },
      "source": [
        "complete_corpora = RudyardKipling_Train"
      ],
      "execution_count": 128,
      "outputs": [
        {
          "output_type": "execute_result",
          "data": {
            "text/plain": [
              "'HOW THE WHALE GOT HIS THROAT\\r\\n\\r\\nIN the sea, once upon a time, O my Best Beloved, there was a Whale, and\\r\\nhe ate fishes. He ate the starfish and the garfish, and the crab and the\\r\\ndab, and the plaice and the dace, and the skate and his mate, and the\\r\\nmackereel and the pickereel, and the really truly twirly-whirly eel. All\\r\\nthe fishes he could find in all the sea he ate with his mouth--so! Till\\r\\nat last there was only one small fish left in all the sea, and he was a\\r\\nsmall ‘Stute Fish, and he swam a little behind the Whale’s right ear,\\r\\nso as to be out of harm’s way. Then the Whale stood up on his tail and\\r\\nsaid, ‘I’m hungry.’ And the small ‘Stute Fish said in a small ‘stute\\r\\nvoice, ‘Noble and generous Cetacean, have you ever tasted Man?’\\r\\n\\r\\n‘No,’ said the Whale. ‘What is it like?’\\r\\n\\r\\n‘Nice,’ said the small ‘Stute Fish. ‘Nice but nubbly.’\\r\\n\\r\\n‘Then fetch me some,’ said the Whale, and he made the sea froth up with\\r\\nhis tail.\\r\\n\\r\\n‘One at a time is enough,’ said the ‘Stute Fish. ‘If you swim to\\r\\nlatitude Fifty North, longitude Forty West (that is magic), you will\\r\\nfind, sitting _on_ a raft, _in_ the middle of the sea, with nothing on\\r\\nbut a pair of blue canvas breeches, a pair of suspenders (you must _not_\\r\\nforget the suspenders, Best Beloved), and a jack-knife, one\\r\\nship-wrecked Mariner, who, it is only fair to tell you, is a man of\\r\\ninfinite-resource-and-sagacity.’\\r\\n\\r\\nSo the Whale swam and swam to latitude Fifty North, longitude Forty\\r\\nWest, as fast as he could swim, and _on_ a raft, _in_ the middle of the\\r\\nsea, _with_ nothing to wear except a pair of blue canvas breeches, a\\r\\npair of suspenders (you must particularly remember the suspenders, Best\\r\\nBeloved), _and_ a jack-knife, he found one single, solitary shipwrecked\\r\\nMariner, trailing his toes in the water. (He had his mummy’s leave to\\r\\npaddle, or else he would never have done it, because he was a man of\\r\\ninfinite-resource-and-sagacity.)\\r\\n\\r\\nThen the Whale opened his mouth back and back and back till it nearly\\r\\ntouched his tail, and he swallowed the shipwrecked Mariner, and the\\r\\nraft he was sitting on, and his blue canvas breeches, and the suspenders\\r\\n(which you _must_ not forget), _and_ the jack-knife--He swallowed them\\r\\nall down into his warm, dark, inside cup-boards, and then he smacked his\\r\\nlips--so, and turned round three times on his tail.\\r\\n\\r\\nBut as soon as the Mariner, who was a man of\\r\\ninfinite-resource-and-sagacity, found himself truly inside the Whale’s\\r\\nwarm, dark, inside cup-boards, he stumped and he jumped and he thumped\\r\\nand he bumped, and he pranced and he danced, and he banged and he\\r\\nclanged, and he hit and he bit, and he leaped and he creeped, and he\\r\\nprowled and he howled, and he hopped and he dropped, and he cried and he\\r\\nsighed, and he crawled and he bawled, and he stepped and he lepped, and\\r\\nhe danced hornpipes where he shouldn’t, and the Whale felt most unhappy\\r\\nindeed. (_Have_ you forgotten the suspenders?)\\r\\n\\r\\nSo he said to the ‘Stute Fish, ‘This man is very nubbly, and besides he\\r\\nis making me hiccough. What shall I do?’\\r\\n\\r\\n‘Tell him to come out,’ said the ‘Stute Fish.\\r\\n\\r\\nSo the Whale called down his own throat to the shipwrecked Mariner,\\r\\n‘Come out and behave yourself. I’ve got the hiccoughs.’\\r\\n\\r\\n‘Nay, nay!’ said the Mariner. ‘Not so, but far otherwise. Take me to my\\r\\nnatal-shore and the white-cliffs-of-Albion, and I’ll think about it.’\\r\\nAnd he began to dance more than ever.\\r\\n\\r\\n ‘You had better take him home,’ said the ‘Stute Fish to the Whale.\\r\\n ‘I ought to have warned you that he is a man of infinite-resource-and-sagacity.’\\r\\n\\r\\nSo the Whale swam and swam and swam, with both flippers and his tail,\\r\\nas hard as he could for the hiccoughs; and at last he saw the Mariner’s\\r\\nnatal-shore and the white-cliffs-of-Albion, and he rushed half-way\\r\\nup the beach, and opened his mouth wide and wide and wide, and said,\\r\\n‘Change here for Winchester, Ashuelot, Nashua, Keene, and stations on\\r\\nthe _Fitch_burg Road;’ and just as he said ‘Fitch’ the Mariner walked\\r\\nout of his mouth. But while the Whale had been swimming, the Mariner,\\r\\nwho was indeed a person of infinite-resource-and-sagacity, had taken his\\r\\njack-knife and cut up the raft into a little square grating all running\\r\\ncriss-cross, and he had tied it firm with his suspenders (_now_, you\\r\\nknow why you were not to forget the suspenders!), and he dragged that\\r\\ngrating good and tight into the Whale’s throat, and there it stuck! Then\\r\\nhe recited the following _Sloka_, which, as you have not heard it, I\\r\\nwill now proceed to relate--\\r\\n\\r\\n  By means of a grating\\r\\n  I have stopped your ating.\\r\\n\\r\\nFor the Mariner he was also an Hi-ber-ni-an. And he stepped out on the\\r\\nshingle, and went home to his mother, who had given him leave to trail\\r\\nhis toes in the water; and he married and lived happily ever afterward.\\r\\nSo did the Whale. But from that day on, the grating in his throat,\\r\\nwhich he could neither cough up nor swallow down, prevented him eating\\r\\nanything except very, very small fish; and that is the reason why whales\\r\\nnowadays never eat men or boys or little girls.\\r\\n\\r\\nThe small ‘Stute Fish went and hid himself in the mud under the\\r\\nDoor-sills of the Equator. He was afraid that the Whale might be angry\\r\\nwith him.\\r\\n\\r\\nThe Sailor took the jack-knife home. He was wearing the blue canvas\\r\\nbreeches when he walked out on the shingle. The suspenders were left\\r\\nbehind, you see, to tie the grating with; and that is the end of _that_\\r\\ntale.\\r\\n\\r\\n\\r\\n     WHEN the cabin port-holes are dark and green\\r\\n       Because of the seas outside;\\r\\n     When the ship goes _wop_ (with a wiggle between)\\r\\n     And the steward falls into the soup-tureen,\\r\\n       And the trunks begin to slide;\\r\\n     When Nursey lies on the floor in a heap,\\r\\n     And Mummy tells you to let her sleep,\\r\\n     And you aren’t waked or washed or dressed,\\r\\n     Why, then you will know (if you haven’t guessed)\\r\\n     You’re ‘Fifty North and Forty West!’\\r\\n\\r\\n\\r\\n\\r\\n\\r\\nHOW THE CAMEL GOT HIS HUMP\\r\\n\\r\\nNOW this is the next tale, and it tells how the Camel got his big hump.\\r\\n\\r\\nIn the beginning of years, when the world was so new and all, and the\\r\\nAnimals were just beginning to work for Man, there was a Camel, and he\\r\\nlived in the middle of a Howling Desert because he did not want to work;\\r\\nand besides, he was a Howler himself. So he ate sticks and thorns and\\r\\ntamarisks and milkweed and prickles, most ‘scruciating idle; and when\\r\\nanybody spoke to him he said ‘Humph!’ Just ‘Humph!’ and no more.\\r\\n\\r\\nPresently the Horse came to him on Monday morning, with a saddle on his\\r\\nback and a bit in his mouth, and said, ‘Camel, O Camel, come out and\\r\\ntrot like the rest of us.’\\r\\n\\r\\n‘Humph!’ said the Camel; and the Horse went away and told the Man.\\r\\n\\r\\nPresently the Dog came to him, with a stick in his mouth, and said,\\r\\n‘Camel, O Camel, come and fetch and carry like the rest of us.’\\r\\n\\r\\n‘Humph!’ said the Camel; and the Dog went away and told the Man.\\r\\n\\r\\nPresently the Ox came to him, with the yoke on his neck and said,\\r\\n‘Camel, O Camel, come and plough like the rest of us.’\\r\\n\\r\\n‘Humph!’ said the Camel; and the Ox went away and told the Man.\\r\\n\\r\\nAt the end of the day the Man called the Horse and the Dog and the Ox\\r\\ntogether, and said, ‘Three, O Three, I’m very sorry for you (with the\\r\\nworld so new-and-all); but that Humph-thing in the Desert can’t work,\\r\\nor he would have been here by now, so I am going to leave him alone, and\\r\\nyou must work double-time to make up for it.’\\r\\n\\r\\nThat made the Three very angry (with the world so new-and-all), and they\\r\\nheld a palaver, and an _indaba_, and a _punchayet_, and a pow-wow on\\r\\nthe edge of the Desert; and the Camel came chewing on milkweed _most_\\r\\n‘scruciating idle, and laughed at them. Then he said ‘Humph!’ and went\\r\\naway again.\\r\\n\\r\\nPresently there came along the Djinn in charge of All Deserts, rolling\\r\\nin a cloud of dust (Djinns always travel that way because it is Magic),\\r\\nand he stopped to palaver and pow-pow with the Three.\\r\\n\\r\\n‘Djinn of All Deserts,’ said the Horse, ‘is it right for any one to be\\r\\nidle, with the world so new-and-all?’\\r\\n\\r\\n‘Certainly not,’ said the Djinn.\\r\\n\\r\\n‘Well,’ said the Horse, ‘there’s a thing in the middle of your Howling\\r\\nDesert (and he’s a Howler himself) with a long neck and long legs, and\\r\\nhe hasn’t done a stroke of work since Monday morning. He won’t trot.’\\r\\n\\r\\n‘Whew!’ said the Djinn, whistling, ‘that’s my Camel, for all the gold in\\r\\nArabia! What does he say about it?’\\r\\n\\r\\n‘He says “Humph!”’ said the Dog; ‘and he won’t fetch and carry.’\\r\\n\\r\\n‘Does he say anything else?’\\r\\n\\r\\n‘Only “Humph!”; and he won’t plough,’ said the Ox.\\r\\n\\r\\n‘Very good,’ said the Djinn. ‘I’ll humph him if you will kindly wait a\\r\\nminute.’\\r\\n\\r\\nThe Djinn rolled himself up in his dust-cloak, and took a bearing across\\r\\nthe desert, and found the Camel most ‘scruciatingly idle, looking at his\\r\\nown reflection in a pool of water.\\r\\n\\r\\n‘My long and bubbling friend,’ said the Djinn, ‘what’s this I hear of\\r\\nyour doing no work, with the world so new-and-all?’\\r\\n\\r\\n‘Humph!’ said the Camel.\\r\\n\\r\\nThe Djinn sat down, with his chin in his hand, and began to think a\\r\\nGreat Magic, while the Camel looked at his own reflection in the pool of\\r\\nwater.\\r\\n\\r\\n‘You’ve given the Three extra work ever since Monday morning, all on\\r\\naccount of your ‘scruciating idleness,’ said the Djinn; and he went on\\r\\nthinking Magics, with his chin in his hand.\\r\\n\\r\\n‘Humph!’ said the Camel.\\r\\n\\r\\n‘I shouldn’t say that again if I were you,’ said the Djinn; you might\\r\\nsay it once too often. Bubbles, I want you to work.’\\r\\n\\r\\nAnd the Camel said ‘Humph!’ again; but no sooner had he said it than he\\r\\nsaw his back, that he was so proud of, puffing up and puffing up into a\\r\\ngreat big lolloping humph.\\r\\n\\r\\n‘Do you see that?’ said the Djinn. ‘That’s your very own humph that\\r\\nyou’ve brought upon your very own self by not working. To-day is\\r\\nThursday, and you’ve done no work since Monday, when the work began. Now\\r\\nyou are going to work.’\\r\\n\\r\\n‘How can I,’ said the Camel, ‘with this humph on my back?’\\r\\n\\r\\n‘That’s made a-purpose,’ said the Djinn, ‘all because you missed those\\r\\nthree days. You will be able to work now for three days without eating,\\r\\nbecause you can live on your humph; and don’t you ever say I never\\r\\ndid anything for you. Come out of the Desert and go to the Three, and\\r\\nbehave. Humph yourself!’\\r\\n\\r\\nAnd the Camel humphed himself, humph and all, and went away to join the\\r\\nThree. And from that day to this the Camel always wears a humph (we call\\r\\nit ‘hump’ now, not to hurt his feelings); but he has never yet caught up\\r\\nwith the three days that he missed at the beginning of the world, and he\\r\\nhas never yet learned how to behave.\\r\\n\\r\\n\\r\\n     THE Camel’s hump is an ugly lump\\r\\n       Which well you may see at the Zoo;\\r\\n     But uglier yet is the hump we get\\r\\n       From having too little to do.\\r\\n\\r\\n     Kiddies and grown-ups too-oo-oo,\\r\\n     If we haven’t enough to do-oo-oo,\\r\\n         We get the hump--\\r\\n         Cameelious hump--\\r\\n     The hump that is black and blue!\\r\\n\\r\\n     We climb out of bed with a frouzly head\\r\\n       And a snarly-yarly voice.\\r\\n     We shiver and scowl and we grunt and we growl\\r\\n       At our bath and our boots and our toys;\\r\\n\\r\\n     And there ought to be a corner for me\\r\\n     (And I know there is one for you)\\r\\n         When we get the hump--\\r\\n         Cameelious hump--\\r\\n     The hump that is black and blue!\\r\\n\\r\\n     The cure for this ill is not to sit still,\\r\\n       Or frowst with a book by the fire;\\r\\n     But to take a large hoe and a shovel also,\\r\\n       And dig till you gently perspire;\\r\\n\\r\\n     And then you will find that the sun and the wind.\\r\\n     And the Djinn of the Garden too,\\r\\n         Have lifted the hump--\\r\\n         The horrible hump--\\r\\n     The hump that is black and blue!\\r\\n\\r\\n     I get it as well as you-oo-oo--\\r\\n     If I haven’t enough to do-oo-oo--\\r\\n         We all get hump--\\r\\n         Cameelious hump--\\r\\n     Kiddies and grown-ups too!\\r\\n\\r\\n\\r\\n\\r\\n\\r\\nHOW THE RHINOCEROS GOT HIS SKIN\\r\\n\\r\\nONCE upon a time, on an uninhabited island on the shores of the Red Sea,\\r\\nthere lived a Parsee from whose hat the rays of the sun were reflected\\r\\nin more-than-oriental splendour. And the Parsee lived by the Red Sea\\r\\nwith nothing but his hat and his knife and a cooking-stove of the kind\\r\\nthat you must particularly never touch. And one day he took flour and\\r\\nwater and currants and plums and sugar and things, and made himself one\\r\\ncake which was two feet across and three feet thick. It was indeed a\\r\\nSuperior Comestible (that’s magic), and he put it on stove because he\\r\\nwas allowed to cook on the stove, and he baked it and he baked it till\\r\\nit was all done brown and smelt most sentimental. But just as he\\r\\nwas going to eat it there came down to the beach from the Altogether\\r\\nUninhabited Interior one Rhinoceros with a horn on his nose, two piggy\\r\\neyes, and few manners. In those days the Rhinoceros’s skin fitted him\\r\\nquite tight. There were no wrinkles in it anywhere. He looked exactly\\r\\nlike a Noah’s Ark Rhinoceros, but of course much bigger. All the same,\\r\\nhe had no manners then, and he has no manners now, and he never will\\r\\nhave any manners. He said, ‘How!’ and the Parsee left that cake and\\r\\nclimbed to the top of a palm tree with nothing on but his hat, from\\r\\nwhich the rays of the sun were always reflected in more-than-oriental\\r\\nsplendour. And the Rhinoceros upset the oil-stove with his nose, and\\r\\nthe cake rolled on the sand, and he spiked that cake on the horn of his\\r\\nnose, and he ate it, and he went away, waving his tail, to the desolate\\r\\nand Exclusively Uninhabited Interior which abuts on the islands of\\r\\nMazanderan, Socotra, and Promontories of the Larger Equinox. Then the\\r\\nParsee came down from his palm-tree and put the stove on its legs and\\r\\nrecited the following Sloka, which, as you have not heard, I will now\\r\\nproceed to relate:--\\r\\n\\r\\n  Them that takes cakes\\r\\n  Which the Parsee-man bakes\\r\\n  Makes dreadful mistakes.\\r\\n\\r\\nAnd there was a great deal more in that than you would think.\\r\\n\\r\\nBecause, five weeks later, there was a heat wave in the Red Sea, and\\r\\neverybody took off all the clothes they had. The Parsee took off his\\r\\nhat; but the Rhinoceros took off his skin and carried it over his\\r\\nshoulder as he came down to the beach to bathe. In those days it\\r\\nbuttoned underneath with three buttons and looked like a waterproof. He\\r\\nsaid nothing whatever about the Parsee’s cake, because he had eaten\\r\\nit all; and he never had any manners, then, since, or henceforward.\\r\\nHe waddled straight into the water and blew bubbles through his nose,\\r\\nleaving his skin on the beach.\\r\\n\\r\\nPresently the Parsee came by and found the skin, and he smiled one smile\\r\\nthat ran all round his face two times. Then he danced three times round\\r\\nthe skin and rubbed his hands. Then he went to his camp and filled his\\r\\nhat with cake-crumbs, for the Parsee never ate anything but cake, and\\r\\nnever swept out his camp. He took that skin, and he shook that skin, and\\r\\nhe scrubbed that skin, and he rubbed that skin just as full of old,\\r\\ndry, stale, tickly cake-crumbs and some burned currants as ever it could\\r\\npossibly hold. Then he climbed to the top of his palm-tree and waited\\r\\nfor the Rhinoceros to come out of the water and put it on.\\r\\n\\r\\nAnd the Rhinoceros did. He buttoned it up with the three buttons, and\\r\\nit tickled like cake crumbs in bed. Then he wanted to scratch, but that\\r\\nmade it worse; and then he lay down on the sands and rolled and rolled\\r\\nand rolled, and every time he rolled the cake crumbs tickled him worse\\r\\nand worse and worse. Then he ran to the palm-tree and rubbed and rubbed\\r\\nand rubbed himself against it. He rubbed so much and so hard that he\\r\\nrubbed his skin into a great fold over his shoulders, and another fold\\r\\nunderneath, where the buttons used to be (but he rubbed the buttons\\r\\noff), and he rubbed some more folds over his legs. And it spoiled his\\r\\ntemper, but it didn’t make the least difference to the cake-crumbs.\\r\\nThey were inside his skin and they tickled. So he went home, very angry\\r\\nindeed and horribly scratchy; and from that day to this every rhinoceros\\r\\nhas great folds in his skin and a very bad temper, all on account of the\\r\\ncake-crumbs inside.\\r\\n\\r\\nBut the Parsee came down from his palm-tree, wearing his hat, from which\\r\\nthe rays of the sun were reflected in more-than-oriental splendour,\\r\\npacked up his cooking-stove, and went away in the direction of Orotavo,\\r\\nAmygdala, the Upland Meadows of Anantarivo, and the Marshes of Sonaput.\\r\\n\\r\\n\\r\\n     THIS Uninhabited Island\\r\\n       Is off Cape Gardafui,\\r\\n     By the Beaches of Socotra\\r\\n       And the Pink Arabian Sea:\\r\\n     But it’s hot--too hot from Suez\\r\\n       For the likes of you and me\\r\\n         Ever to go\\r\\n         In a P. and O.\\r\\n     And call on the Cake-Parsee!\\r\\n\\r\\n\\r\\n\\r\\n\\r\\nHOW THE LEOPARD GOT HIS SPOTS\\r\\n\\r\\nIN the days when everybody started fair, Best Beloved, the Leopard lived\\r\\nin a place called the High Veldt. ‘Member it wasn’t the Low Veldt, or\\r\\nthe Bush Veldt, or the Sour Veldt, but the ‘sclusively bare, hot, shiny\\r\\nHigh Veldt, where there was sand and sandy-coloured rock and ‘sclusively\\r\\ntufts of sandy-yellowish grass. The Giraffe and the Zebra and the Eland\\r\\nand the Koodoo and the Hartebeest lived there; and they were ‘sclusively\\r\\nsandy-yellow-brownish all over; but the Leopard, he was the ‘sclusivest\\r\\nsandiest-yellowish-brownest of them all--a greyish-yellowish\\r\\ncatty-shaped kind of beast, and he matched the ‘sclusively\\r\\nyellowish-greyish-brownish colour of the High Veldt to one hair. This\\r\\nwas very bad for the Giraffe and the Zebra and the rest of them; for\\r\\nhe would lie down by a ‘sclusively yellowish-greyish-brownish stone or\\r\\nclump of grass, and when the Giraffe or the Zebra or the Eland or the\\r\\nKoodoo or the Bush-Buck or the Bonte-Buck came by he would surprise them\\r\\nout of their jumpsome lives. He would indeed! And, also, there was an\\r\\nEthiopian with bows and arrows (a ‘sclusively greyish-brownish-yellowish\\r\\nman he was then), who lived on the High Veldt with the Leopard; and the\\r\\ntwo used to hunt together--the Ethiopian with his bows and arrows, and\\r\\nthe Leopard ‘sclusively with his teeth and claws--till the Giraffe and\\r\\nthe Eland and the Koodoo and the Quagga and all the rest of them didn’t\\r\\nknow which way to jump, Best Beloved. They didn’t indeed!\\r\\n\\r\\nAfter a long time--things lived for ever so long in those days--they\\r\\nlearned to avoid anything that looked like a Leopard or an Ethiopian;\\r\\nand bit by bit--the Giraffe began it, because his legs were the\\r\\nlongest--they went away from the High Veldt. They scuttled for days\\r\\nand days and days till they came to a great forest, ‘sclusively full of\\r\\ntrees and bushes and stripy, speckly, patchy-blatchy shadows, and there\\r\\nthey hid: and after another long time, what with standing half in the\\r\\nshade and half out of it, and what with the slippery-slidy shadows of\\r\\nthe trees falling on them, the Giraffe grew blotchy, and the Zebra grew\\r\\nstripy, and the Eland and the Koodoo grew darker, with little wavy grey\\r\\nlines on their backs like bark on a tree trunk; and so, though you could\\r\\nhear them and smell them, you could very seldom see them, and then only\\r\\nwhen you knew precisely where to look. They had a beautiful time in the\\r\\n‘sclusively speckly-spickly shadows of the forest, while the Leopard and\\r\\nthe Ethiopian ran about over the ‘sclusively greyish-yellowish-reddish\\r\\nHigh Veldt outside, wondering where all their breakfasts and their\\r\\ndinners and their teas had gone. At last they were so hungry that they\\r\\nate rats and beetles and rock-rabbits, the Leopard and the Ethiopian,\\r\\nand then they had the Big Tummy-ache, both together; and then they met\\r\\nBaviaan--the dog-headed, barking Baboon, who is Quite the Wisest Animal\\r\\nin All South Africa.\\r\\n\\r\\nSaid Leopard to Baviaan (and it was a very hot day), ‘Where has all the\\r\\ngame gone?’\\r\\n\\r\\nAnd Baviaan winked. He knew.\\r\\n\\r\\nSaid the Ethiopian to Baviaan, ‘Can you tell me the present habitat\\r\\nof the aboriginal Fauna?’ (That meant just the same thing, but the\\r\\nEthiopian always used long words. He was a grown-up.)\\r\\n\\r\\nAnd Baviaan winked. He knew.\\r\\n\\r\\nThen said Baviaan, ‘The game has gone into other spots; and my advice to\\r\\nyou, Leopard, is to go into other spots as soon as you can.’\\r\\n\\r\\nAnd the Ethiopian said, ‘That is all very fine, but I wish to know\\r\\nwhither the aboriginal Fauna has migrated.’\\r\\n\\r\\nThen said Baviaan, ‘The aboriginal Fauna has joined the aboriginal Flora\\r\\nbecause it was high time for a change; and my advice to you, Ethiopian,\\r\\nis to change as soon as you can.’\\r\\n\\r\\nThat puzzled the Leopard and the Ethiopian, but they set off to look for\\r\\nthe aboriginal Flora, and presently, after ever so many days, they saw\\r\\na great, high, tall forest full of tree trunks all ‘sclusively speckled\\r\\nand sprottled and spottled, dotted and splashed and slashed and hatched\\r\\nand cross-hatched with shadows. (Say that quickly aloud, and you will\\r\\nsee how very shadowy the forest must have been.)\\r\\n\\r\\n‘What is this,’ said the Leopard, ‘that is so ‘sclusively dark, and yet\\r\\nso full of little pieces of light?’\\r\\n\\r\\n‘I don’t know, said the Ethiopian, ‘but it ought to be the aboriginal\\r\\nFlora. I can smell Giraffe, and I can hear Giraffe, but I can’t see\\r\\nGiraffe.’\\r\\n\\r\\n‘That’s curious,’ said the Leopard. ‘I suppose it is because we have\\r\\njust come in out of the sunshine. I can smell Zebra, and I can hear\\r\\nZebra, but I can’t see Zebra.’\\r\\n\\r\\n‘Wait a bit, said the Ethiopian. ‘It’s a long time since we’ve hunted\\r\\n‘em. Perhaps we’ve forgotten what they were like.’\\r\\n\\r\\n‘Fiddle!’ said the Leopard. ‘I remember them perfectly on the High\\r\\nVeldt, especially their marrow-bones. Giraffe is about seventeen feet\\r\\nhigh, of a ‘sclusively fulvous golden-yellow from head to heel; and\\r\\nZebra is about four and a half feet high, of a’sclusively grey-fawn\\r\\ncolour from head to heel.’\\r\\n\\r\\n‘Umm, said the Ethiopian, looking into the speckly-spickly shadows of\\r\\nthe aboriginal Flora-forest. ‘Then they ought to show up in this dark\\r\\nplace like ripe bananas in a smokehouse.’\\r\\n\\r\\nBut they didn’t. The Leopard and the Ethiopian hunted all day; and\\r\\nthough they could smell them and hear them, they never saw one of them.\\r\\n\\r\\n‘For goodness’ sake,’ said the Leopard at tea-time, ‘let us wait till it\\r\\ngets dark. This daylight hunting is a perfect scandal.’\\r\\n\\r\\nSo they waited till dark, and then the Leopard heard something breathing\\r\\nsniffily in the starlight that fell all stripy through the branches, and\\r\\nhe jumped at the noise, and it smelt like Zebra, and it felt like Zebra,\\r\\nand when he knocked it down it kicked like Zebra, but he couldn’t see\\r\\nit. So he said, ‘Be quiet, O you person without any form. I am going to\\r\\nsit on your head till morning, because there is something about you that\\r\\nI don’t understand.’\\r\\n\\r\\nPresently he heard a grunt and a crash and a scramble, and the Ethiopian\\r\\ncalled out, ‘I’ve caught a thing that I can’t see. It smells like\\r\\nGiraffe, and it kicks like Giraffe, but it hasn’t any form.’\\r\\n\\r\\n‘Don’t you trust it,’ said the Leopard. ‘Sit on its head till the\\r\\nmorning--same as me. They haven’t any form--any of ‘em.’\\r\\n\\r\\nSo they sat down on them hard till bright morning-time, and then Leopard\\r\\nsaid, ‘What have you at your end of the table, Brother?’\\r\\n\\r\\nThe Ethiopian scratched his head and said, ‘It ought to be ‘sclusively a\\r\\nrich fulvous orange-tawny from head to heel, and it ought to be Giraffe;\\r\\nbut it is covered all over with chestnut blotches. What have you at your\\r\\nend of the table, Brother?’\\r\\n\\r\\nAnd the Leopard scratched his head and said, ‘It ought to be ‘sclusively\\r\\na delicate greyish-fawn, and it ought to be Zebra; but it is covered\\r\\nall over with black and purple stripes. What in the world have you been\\r\\ndoing to yourself, Zebra? Don’t you know that if you were on the High\\r\\nVeldt I could see you ten miles off? You haven’t any form.’\\r\\n\\r\\n‘Yes,’ said the Zebra, ‘but this isn’t the High Veldt. Can’t you see?’\\r\\n\\r\\n‘I can now,’ said the Leopard. ‘But I couldn’t all yesterday. How is it\\r\\ndone?’\\r\\n\\r\\n‘Let us up,’ said the Zebra, ‘and we will show you.\\r\\n\\r\\nThey let the Zebra and the Giraffe get up; and Zebra moved away to some\\r\\nlittle thorn-bushes where the sunlight fell all stripy, and Giraffe\\r\\nmoved off to some tallish trees where the shadows fell all blotchy.\\r\\n\\r\\n‘Now watch,’ said the Zebra and the Giraffe. ‘This is the way it’s done.\\r\\nOne--two--three! And where’s your breakfast?’\\r\\n\\r\\nLeopard stared, and Ethiopian stared, but all they could see were stripy\\r\\nshadows and blotched shadows in the forest, but never a sign of Zebra\\r\\nand Giraffe. They had just walked off and hidden themselves in the\\r\\nshadowy forest.\\r\\n\\r\\n‘Hi! Hi!’ said the Ethiopian. ‘That’s a trick worth learning. Take a\\r\\nlesson by it, Leopard. You show up in this dark place like a bar of soap\\r\\nin a coal-scuttle.’\\r\\n\\r\\n‘Ho! Ho!’ said the Leopard. ‘Would it surprise you very much to know\\r\\nthat you show up in this dark place like a mustard-plaster on a sack of\\r\\ncoals?’\\r\\n\\r\\n‘Well, calling names won’t catch dinner, said the Ethiopian. ‘The long\\r\\nand the little of it is that we don’t match our backgrounds. I’m going\\r\\nto take Baviaan’s advice. He told me I ought to change; and as I’ve\\r\\nnothing to change except my skin I’m going to change that.’\\r\\n\\r\\n‘What to?’ said the Leopard, tremendously excited.\\r\\n\\r\\n‘To a nice working blackish-brownish colour, with a little purple in\\r\\nit, and touches of slaty-blue. It will be the very thing for hiding in\\r\\nhollows and behind trees.’\\r\\n\\r\\nSo he changed his skin then and there, and the Leopard was more excited\\r\\nthan ever; he had never seen a man change his skin before.\\r\\n\\r\\n‘But what about me?’ he said, when the Ethiopian had worked his last\\r\\nlittle finger into his fine new black skin.\\r\\n\\r\\n‘You take Baviaan’s advice too. He told you to go into spots.’\\r\\n\\r\\n‘So I did,’ said the Leopard. I went into other spots as fast as I\\r\\ncould. I went into this spot with you, and a lot of good it has done\\r\\nme.’\\r\\n\\r\\n‘Oh,’ said the Ethiopian, ‘Baviaan didn’t mean spots in South Africa. He\\r\\nmeant spots on your skin.’\\r\\n\\r\\n‘What’s the use of that?’ said the Leopard.\\r\\n\\r\\n‘Think of Giraffe,’ said the Ethiopian. ‘Or if you prefer stripes,\\r\\nthink of Zebra. They find their spots and stripes give them per-feet\\r\\nsatisfaction.’\\r\\n\\r\\n‘Umm,’ said the Leopard. ‘I wouldn’t look like Zebra--not for ever so.’\\r\\n\\r\\n‘Well, make up your mind,’ said the Ethiopian, ‘because I’d hate to\\r\\ngo hunting without you, but I must if you insist on looking like a\\r\\nsun-flower against a tarred fence.’\\r\\n\\r\\n‘I’ll take spots, then,’ said the Leopard; ‘but don’t make ‘em too\\r\\nvulgar-big. I wouldn’t look like Giraffe--not for ever so.’\\r\\n\\r\\n‘I’ll make ‘em with the tips of my fingers,’ said the Ethiopian.\\r\\n‘There’s plenty of black left on my skin still. Stand over!’\\r\\n\\r\\nThen the Ethiopian put his five fingers close together (there was plenty\\r\\nof black left on his new skin still) and pressed them all over the\\r\\nLeopard, and wherever the five fingers touched they left five little\\r\\nblack marks, all close together. You can see them on any Leopard’s skin\\r\\nyou like, Best Beloved. Sometimes the fingers slipped and the marks got\\r\\na little blurred; but if you look closely at any Leopard now you will\\r\\nsee that there are always five spots--off five fat black finger-tips.\\r\\n\\r\\n‘Now you are a beauty!’ said the Ethiopian. ‘You can lie out on the bare\\r\\nground and look like a heap of pebbles. You can lie out on the naked\\r\\nrocks and look like a piece of pudding-stone. You can lie out on a leafy\\r\\nbranch and look like sunshine sifting through the leaves; and you\\r\\ncan lie right across the centre of a path and look like nothing in\\r\\nparticular. Think of that and purr!’\\r\\n\\r\\n‘But if I’m all this,’ said the Leopard, ‘why didn’t you go spotty too?’\\r\\n\\r\\n‘Oh, plain black’s best for a nigger,’ said the Ethiopian. ‘Now come\\r\\nalong and we’ll see if we can’t get even with Mr. One-Two-Three Where’s\\r\\nyour Breakfast!’\\r\\n\\r\\nSo they went away and lived happily ever afterward, Best Beloved. That\\r\\nis all.\\r\\n\\r\\nOh, now and then you will hear grown-ups say, ‘Can the Ethiopian change\\r\\nhis skin or the Leopard his spots?’ I don’t think even grown-ups would\\r\\nkeep on saying such a silly thing if the Leopard and the Ethiopian\\r\\nhadn’t done it once--do you? But they will never do it again, Best\\r\\nBeloved. They are quite contented as they are.\\r\\n\\r\\n\\r\\n   I AM the Most Wise Baviaan, saying in most wise tones,\\r\\n   ‘Let us melt into the landscape--just us two by our lones.’\\r\\n   People have come--in a carriage--calling. But Mummy is there....\\r\\n   Yes, I can go if you take me--Nurse says she don’t care.\\r\\n   Let’s go up to the pig-sties and sit on the farmyard rails!\\r\\n   Let’s say things to the bunnies, and watch ‘em skitter their tails!\\r\\n   Let’s--oh, anything, daddy, so long as it’s you and me,\\r\\n   And going truly exploring, and not being in till tea!\\r\\n   Here’s your boots (I’ve brought ‘em), and here’s your cap and stick,\\r\\n   And here’s your pipe and tobacco. Oh, come along out of it--quick.\\r\\n\\r\\n\\r\\n\\r\\n\\r\\nTHE ELEPHANT’S CHILD\\r\\n\\r\\nIN the High and Far-Off Times the Elephant, O Best Beloved, had no\\r\\ntrunk. He had only a blackish, bulgy nose, as big as a boot, that he\\r\\ncould wriggle about from side to side; but he couldn’t pick up things\\r\\nwith it. But there was one Elephant--a new Elephant--an Elephant’s\\r\\nChild--who was full of ‘satiable curtiosity, and that means he asked\\r\\never so many questions. And he lived in Africa, and he filled all Africa\\r\\nwith his ‘satiable curtiosities. He asked his tall aunt, the Ostrich,\\r\\nwhy her tail-feathers grew just so, and his tall aunt the Ostrich\\r\\nspanked him with her hard, hard claw. He asked his tall uncle, the\\r\\nGiraffe, what made his skin spotty, and his tall uncle, the Giraffe,\\r\\nspanked him with his hard, hard hoof. And still he was full of ‘satiable\\r\\ncurtiosity! He asked his broad aunt, the Hippopotamus, why her eyes were\\r\\nred, and his broad aunt, the Hippopotamus, spanked him with her broad,\\r\\nbroad hoof; and he asked his hairy uncle, the Baboon, why melons tasted\\r\\njust so, and his hairy uncle, the Baboon, spanked him with his hairy,\\r\\nhairy paw. And still he was full of ‘satiable curtiosity! He asked\\r\\nquestions about everything that he saw, or heard, or felt, or smelt, or\\r\\ntouched, and all his uncles and his aunts spanked him. And still he was\\r\\nfull of ‘satiable curtiosity!\\r\\n\\r\\nOne fine morning in the middle of the Precession of the Equinoxes this\\r\\n‘satiable Elephant’s Child asked a new fine question that he had never\\r\\nasked before. He asked, ‘What does the Crocodile have for dinner?’ Then\\r\\neverybody said, ‘Hush!’ in a loud and dretful tone, and they spanked him\\r\\nimmediately and directly, without stopping, for a long time.\\r\\n\\r\\nBy and by, when that was finished, he came upon Kolokolo Bird sitting\\r\\nin the middle of a wait-a-bit thorn-bush, and he said, ‘My father has\\r\\nspanked me, and my mother has spanked me; all my aunts and uncles have\\r\\nspanked me for my ‘satiable curtiosity; and still I want to know what\\r\\nthe Crocodile has for dinner!’\\r\\n\\r\\nThen Kolokolo Bird said, with a mournful cry, ‘Go to the banks of the\\r\\ngreat grey-green, greasy Limpopo River, all set about with fever-trees,\\r\\nand find out.’\\r\\n\\r\\nThat very next morning, when there was nothing left of the Equinoxes,\\r\\nbecause the Precession had preceded according to precedent, this\\r\\n‘satiable Elephant’s Child took a hundred pounds of bananas (the little\\r\\nshort red kind), and a hundred pounds of sugar-cane (the long purple\\r\\nkind), and seventeen melons (the greeny-crackly kind), and said to all\\r\\nhis dear families, ‘Goodbye. I am going to the great grey-green, greasy\\r\\nLimpopo River, all set about with fever-trees, to find out what the\\r\\nCrocodile has for dinner.’ And they all spanked him once more for luck,\\r\\nthough he asked them most politely to stop.\\r\\n\\r\\nThen he went away, a little warm, but not at all astonished, eating\\r\\nmelons, and throwing the rind about, because he could not pick it up.\\r\\n\\r\\nHe went from Graham’s Town to Kimberley, and from Kimberley to Khama’s\\r\\nCountry, and from Khama’s Country he went east by north, eating melons\\r\\nall the time, till at last he came to the banks of the great grey-green,\\r\\ngreasy Limpopo River, all set about with fever-trees, precisely as\\r\\nKolokolo Bird had said.\\r\\n\\r\\nNow you must know and understand, O Best Beloved, that till that very\\r\\nweek, and day, and hour, and minute, this ‘satiable Elephant’s Child had\\r\\nnever seen a Crocodile, and did not know what one was like. It was all\\r\\nhis ‘satiable curtiosity.\\r\\n\\r\\nThe first thing that he found was a Bi-Coloured-Python-Rock-Snake curled\\r\\nround a rock.\\r\\n\\r\\n‘’Scuse me,’ said the Elephant’s Child most politely, ‘but have you seen\\r\\nsuch a thing as a Crocodile in these promiscuous parts?’\\r\\n\\r\\n‘Have I seen a Crocodile?’ said the Bi-Coloured-Python-Rock-Snake, in a\\r\\nvoice of dretful scorn. ‘What will you ask me next?’\\r\\n\\r\\n‘’Scuse me,’ said the Elephant’s Child, ‘but could you kindly tell me\\r\\nwhat he has for dinner?’\\r\\n\\r\\nThen the Bi-Coloured-Python-Rock-Snake uncoiled himself very quickly\\r\\nfrom the rock, and spanked the Elephant’s Child with his scalesome,\\r\\nflailsome tail.\\r\\n\\r\\n‘That is odd,’ said the Elephant’s Child, ‘because my father and my\\r\\nmother, and my uncle and my aunt, not to mention my other aunt, the\\r\\nHippopotamus, and my other uncle, the Baboon, have all spanked me for my\\r\\n‘satiable curtiosity--and I suppose this is the same thing.\\r\\n\\r\\nSo he said good-bye very politely to the Bi-Coloured-Python-Rock-Snake,\\r\\nand helped to coil him up on the rock again, and went on, a little warm,\\r\\nbut not at all astonished, eating melons, and throwing the rind about,\\r\\nbecause he could not pick it up, till he trod on what he thought was\\r\\na log of wood at the very edge of the great grey-green, greasy Limpopo\\r\\nRiver, all set about with fever-trees.\\r\\n\\r\\nBut it was really the Crocodile, O Best Beloved, and the Crocodile\\r\\nwinked one eye--like this!\\r\\n\\r\\n‘’Scuse me,’ said the Elephant’s Child most politely, ‘but do you happen\\r\\nto have seen a Crocodile in these promiscuous parts?’\\r\\n\\r\\nThen the Crocodile winked the other eye, and lifted half his tail out of\\r\\nthe mud; and the Elephant’s Child stepped back most politely, because he\\r\\ndid not wish to be spanked again.\\r\\n\\r\\n‘Come hither, Little One,’ said the Crocodile. ‘Why do you ask such\\r\\nthings?’\\r\\n\\r\\n‘’Scuse me,’ said the Elephant’s Child most politely, ‘but my father has\\r\\nspanked me, my mother has spanked me, not to mention my tall aunt, the\\r\\nOstrich, and my tall uncle, the Giraffe, who can kick ever so hard, as\\r\\nwell as my broad aunt, the Hippopotamus, and my hairy uncle, the Baboon,\\r\\nand including the Bi-Coloured-Python-Rock-Snake, with the scalesome,\\r\\nflailsome tail, just up the bank, who spanks harder than any of them;\\r\\nand so, if it’s quite all the same to you, I don’t want to be spanked\\r\\nany more.’\\r\\n\\r\\n‘Come hither, Little One,’ said the Crocodile, ‘for I am the Crocodile,’\\r\\nand he wept crocodile-tears to show it was quite true.\\r\\n\\r\\nThen the Elephant’s Child grew all breathless, and panted, and kneeled\\r\\ndown on the bank and said, ‘You are the very person I have been looking\\r\\nfor all these long days. Will you please tell me what you have for\\r\\ndinner?’\\r\\n\\r\\n‘Come hither, Little One,’ said the Crocodile, ‘and I’ll whisper.’\\r\\n\\r\\nThen the Elephant’s Child put his head down close to the Crocodile’s\\r\\nmusky, tusky mouth, and the Crocodile caught him by his little nose,\\r\\nwhich up to that very week, day, hour, and minute, had been no bigger\\r\\nthan a boot, though much more useful.\\r\\n\\r\\n‘I think, said the Crocodile--and he said it between his teeth, like\\r\\nthis--‘I think to-day I will begin with Elephant’s Child!’\\r\\n\\r\\nAt this, O Best Beloved, the Elephant’s Child was much annoyed, and he\\r\\nsaid, speaking through his nose, like this, ‘Led go! You are hurtig be!’\\r\\n\\r\\nThen the Bi-Coloured-Python-Rock-Snake scuffled down from the bank and\\r\\nsaid, ‘My young friend, if you do not now, immediately and instantly,\\r\\npull as hard as ever you can, it is my opinion that your acquaintance in\\r\\nthe large-pattern leather ulster’ (and by this he meant the Crocodile)\\r\\n‘will jerk you into yonder limpid stream before you can say Jack\\r\\nRobinson.’\\r\\n\\r\\nThis is the way Bi-Coloured-Python-Rock-Snakes always talk.\\r\\n\\r\\nThen the Elephant’s Child sat back on his little haunches, and pulled,\\r\\nand pulled, and pulled, and his nose began to stretch. And the Crocodile\\r\\nfloundered into the water, making it all creamy with great sweeps of his\\r\\ntail, and he pulled, and pulled, and pulled.\\r\\n\\r\\nAnd the Elephant’s Child’s nose kept on stretching; and the Elephant’s\\r\\nChild spread all his little four legs and pulled, and pulled, and\\r\\npulled, and his nose kept on stretching; and the Crocodile threshed his\\r\\ntail like an oar, and he pulled, and pulled, and pulled, and at each\\r\\npull the Elephant’s Child’s nose grew longer and longer--and it hurt him\\r\\nhijjus!\\r\\n\\r\\nThen the Elephant’s Child felt his legs slipping, and he said through\\r\\nhis nose, which was now nearly five feet long, ‘This is too butch for\\r\\nbe!’\\r\\n\\r\\nThen the Bi-Coloured-Python-Rock-Snake came down from the bank, and\\r\\nknotted himself in a double-clove-hitch round the Elephant’s Child’s\\r\\nhind legs, and said, ‘Rash and inexperienced traveller, we will now\\r\\nseriously devote ourselves to a little high tension, because if we do\\r\\nnot, it is my impression that yonder self-propelling man-of-war with\\r\\nthe armour-plated upper deck’ (and by this, O Best Beloved, he meant the\\r\\nCrocodile), ‘will permanently vitiate your future career.\\r\\n\\r\\nThat is the way all Bi-Coloured-Python-Rock-Snakes always talk.\\r\\n\\r\\nSo he pulled, and the Elephant’s Child pulled, and the Crocodile pulled;\\r\\nbut the Elephant’s Child and the Bi-Coloured-Python-Rock-Snake pulled\\r\\nhardest; and at last the Crocodile let go of the Elephant’s Child’s nose\\r\\nwith a plop that you could hear all up and down the Limpopo.\\r\\n\\r\\nThen the Elephant’s Child sat down most hard and sudden; but first he\\r\\nwas careful to say ‘Thank you’ to the Bi-Coloured-Python-Rock-Snake; and\\r\\nnext he was kind to his poor pulled nose, and wrapped it all up in cool\\r\\nbanana leaves, and hung it in the great grey-green, greasy Limpopo to\\r\\ncool.\\r\\n\\r\\n‘What are you doing that for?’ said the Bi-Coloured-Python-Rock-Snake.\\r\\n\\r\\n‘’Scuse me,’ said the Elephant’s Child, ‘but my nose is badly out of\\r\\nshape, and I am waiting for it to shrink.\\r\\n\\r\\n‘Then you will have to wait a long time, said the\\r\\nBi-Coloured-Python-Rock-Snake. ‘Some people do not know what is good for\\r\\nthem.’\\r\\n\\r\\nThe Elephant’s Child sat there for three days waiting for his nose to\\r\\nshrink. But it never grew any shorter, and, besides, it made him squint.\\r\\nFor, O Best Beloved, you will see and understand that the Crocodile\\r\\nhad pulled it out into a really truly trunk same as all Elephants have\\r\\nto-day.\\r\\n\\r\\nAt the end of the third day a fly came and stung him on the shoulder,\\r\\nand before he knew what he was doing he lifted up his trunk and hit that\\r\\nfly dead with the end of it.\\r\\n\\r\\n‘’Vantage number one!’ said the Bi-Coloured-Python-Rock-Snake. ‘You\\r\\ncouldn’t have done that with a mere-smear nose. Try and eat a little\\r\\nnow.’\\r\\n\\r\\nBefore he thought what he was doing the Elephant’s Child put out his\\r\\ntrunk and plucked a large bundle of grass, dusted it clean against his\\r\\nfore-legs, and stuffed it into his own mouth.\\r\\n\\r\\n‘Vantage number two!’ said the Bi-Coloured-Python-Rock-Snake. ‘You\\r\\ncouldn’t have done that with a mear-smear nose. Don’t you think the sun\\r\\nis very hot here?’\\r\\n\\r\\n‘It is,’ said the Elephant’s Child, and before he thought what he was\\r\\ndoing he schlooped up a schloop of mud from the banks of the great\\r\\ngrey-green, greasy Limpopo, and slapped it on his head, where it made a\\r\\ncool schloopy-sloshy mud-cap all trickly behind his ears.\\r\\n\\r\\n‘Vantage number three!’ said the Bi-Coloured-Python-Rock-Snake. ‘You\\r\\ncouldn’t have done that with a mere-smear nose. Now how do you feel\\r\\nabout being spanked again?’\\r\\n\\r\\n‘’Scuse me,’ said the Elephant’s Child, ‘but I should not like it at\\r\\nall.’\\r\\n\\r\\n‘How would you like to spank somebody?’ said the\\r\\nBi-Coloured-Python-Rock-Snake.\\r\\n\\r\\n‘I should like it very much indeed,’ said the Elephant’s Child.\\r\\n\\r\\n‘Well,’ said the Bi-Coloured-Python-Rock-Snake, ‘you will find that new\\r\\nnose of yours very useful to spank people with.’\\r\\n\\r\\n‘Thank you,’ said the Elephant’s Child, ‘I’ll remember that; and now I\\r\\nthink I’ll go home to all my dear families and try.’\\r\\n\\r\\nSo the Elephant’s Child went home across Africa frisking and whisking\\r\\nhis trunk. When he wanted fruit to eat he pulled fruit down from a tree,\\r\\ninstead of waiting for it to fall as he used to do. When he wanted grass\\r\\nhe plucked grass up from the ground, instead of going on his knees as he\\r\\nused to do. When the flies bit him he broke off the branch of a tree\\r\\nand used it as fly-whisk; and he made himself a new, cool, slushy-squshy\\r\\nmud-cap whenever the sun was hot. When he felt lonely walking through\\r\\nAfrica he sang to himself down his trunk, and the noise was louder than\\r\\nseveral brass bands.\\r\\n\\r\\nHe went especially out of his way to find a broad Hippopotamus (she was\\r\\nno relation of his), and he spanked her very hard, to make sure that the\\r\\nBi-Coloured-Python-Rock-Snake had spoken the truth about his new trunk.\\r\\nThe rest of the time he picked up the melon rinds that he had dropped on\\r\\nhis way to the Limpopo--for he was a Tidy Pachyderm.\\r\\n\\r\\nOne dark evening he came back to all his dear families, and he coiled up\\r\\nhis trunk and said, ‘How do you do?’ They were very glad to see him,\\r\\nand immediately said, ‘Come here and be spanked for your ‘satiable\\r\\ncurtiosity.’\\r\\n\\r\\n‘Pooh,’ said the Elephant’s Child. ‘I don’t think you peoples know\\r\\nanything about spanking; but I do, and I’ll show you.’ Then he uncurled\\r\\nhis trunk and knocked two of his dear brothers head over heels.\\r\\n\\r\\n‘O Bananas!’ said they, ‘where did you learn that trick, and what have\\r\\nyou done to your nose?’\\r\\n\\r\\n‘I got a new one from the Crocodile on the banks of the great\\r\\ngrey-green, greasy Limpopo River,’ said the Elephant’s Child. ‘I asked\\r\\nhim what he had for dinner, and he gave me this to keep.’\\r\\n\\r\\n‘It looks very ugly,’ said his hairy uncle, the Baboon.\\r\\n\\r\\n‘It does,’ said the Elephant’s Child. ‘But it’s very useful,’ and he\\r\\npicked up his hairy uncle, the Baboon, by one hairy leg, and hove him\\r\\ninto a hornet’s nest.\\r\\n\\r\\nThen that bad Elephant’s Child spanked all his dear families for a long\\r\\ntime, till they were very warm and greatly astonished. He pulled out\\r\\nhis tall Ostrich aunt’s tail-feathers; and he caught his tall uncle, the\\r\\nGiraffe, by the hind-leg, and dragged him through a thorn-bush; and he\\r\\nshouted at his broad aunt, the Hippopotamus, and blew bubbles into her\\r\\near when she was sleeping in the water after meals; but he never let any\\r\\none touch Kolokolo Bird.\\r\\n\\r\\nAt last things grew so exciting that his dear families went off one\\r\\nby one in a hurry to the banks of the great grey-green, greasy Limpopo\\r\\nRiver, all set about with fever-trees, to borrow new noses from the\\r\\nCrocodile. When they came back nobody spanked anybody any more; and ever\\r\\nsince that day, O Best Beloved, all the Elephants you will ever see,\\r\\nbesides all those that you won’t, have trunks precisely like the trunk\\r\\nof the ‘satiable Elephant’s Child.\\r\\n\\r\\n\\r\\n     I Keep six honest serving-men:\\r\\n       (They taught me all I knew)\\r\\n     Their names are What and Where and When\\r\\n       And How and Why and Who.\\r\\n     I send them over land and sea,\\r\\n       I send them east and west;\\r\\n     But after they have worked for me,\\r\\n       I give them all a rest.\\r\\n\\r\\n     I let them rest from nine till five.\\r\\n       For I am busy then,\\r\\n     As well as breakfast, lunch, and tea,\\r\\n       For they are hungry men:\\r\\n     But different folk have different views:\\r\\n       I know a person small--\\r\\n     She keeps ten million serving-men,\\r\\n       Who get no rest at all!\\r\\n     She sends ‘em abroad on her own affairs,\\r\\n       From the second she opens her eyes--\\r\\n     One million Hows, two million Wheres,\\r\\n       And seven million Whys!\\r\\n\\r\\n\\r\\n\\r\\n\\r\\nTHE SING-SONG OF OLD MAN KANGAROO\\r\\n\\r\\nNOT always was the Kangaroo as now we do behold him, but a Different\\r\\nAnimal with four short legs. He was grey and he was woolly, and\\r\\nhis pride was inordinate: he danced on an outcrop in the middle of\\r\\nAustralia, and he went to the Little God Nqa.\\r\\n\\r\\nHe went to Nqa at six before breakfast, saying, ‘Make me different from\\r\\nall other animals by five this afternoon.’\\r\\n\\r\\nUp jumped Nqa from his seat on the sandflat and shouted, ‘Go away!’\\r\\n\\r\\nHe was grey and he was woolly, and his pride was inordinate: he danced\\r\\non a rock-ledge in the middle of Australia, and he went to the Middle\\r\\nGod Nquing.\\r\\n\\r\\nHe went to Nquing at eight after breakfast, saying, ‘Make me different\\r\\nfrom all other animals; make me, also, wonderfully popular by five this\\r\\nafternoon.’\\r\\n\\r\\nUp jumped Nquing from his burrow in the spinifex and shouted, ‘Go away!’\\r\\n\\r\\nHe was grey and he was woolly, and his pride was inordinate: he danced\\r\\non a sandbank in the middle of Australia, and he went to the Big God\\r\\nNqong.\\r\\n\\r\\nHe went to Nqong at ten before dinner-time, saying, ‘Make me different\\r\\nfrom all other animals; make me popular and wonderfully run after by\\r\\nfive this afternoon.’\\r\\n\\r\\nUp jumped Nqong from his bath in the salt-pan and shouted, ‘Yes, I\\r\\nwill!’\\r\\n\\r\\nNqong called Dingo--Yellow-Dog Dingo--always hungry, dusty in the\\r\\nsunshine, and showed him Kangaroo. Nqong said, ‘Dingo! Wake up, Dingo!\\r\\nDo you see that gentleman dancing on an ashpit? He wants to be popular\\r\\nand very truly run after. Dingo, make him SO!’\\r\\n\\r\\nUp jumped Dingo--Yellow-Dog Dingo--and said, ‘What, that cat-rabbit?’\\r\\n\\r\\nOff ran Dingo--Yellow-Dog Dingo--always hungry, grinning like a\\r\\ncoal-scuttle,--ran after Kangaroo.\\r\\n\\r\\nOff went the proud Kangaroo on his four little legs like a bunny.\\r\\n\\r\\nThis, O Beloved of mine, ends the first part of the tale!\\r\\n\\r\\nHe ran through the desert; he ran through the mountains; he ran through\\r\\nthe salt-pans; he ran through the reed-beds; he ran through the blue\\r\\ngums; he ran through the spinifex; he ran till his front legs ached.\\r\\n\\r\\nHe had to!\\r\\n\\r\\nStill ran Dingo--Yellow-Dog Dingo--always hungry, grinning like a\\r\\nrat-trap, never getting nearer, never getting farther,--ran after\\r\\nKangaroo.\\r\\n\\r\\nHe had to!\\r\\n\\r\\nStill ran Kangaroo--Old Man Kangaroo. He ran through the ti-trees; he\\r\\nran through the mulga; he ran through the long grass; he ran through the\\r\\nshort grass; he ran through the Tropics of Capricorn and Cancer; he ran\\r\\ntill his hind legs ached.\\r\\n\\r\\nHe had to!\\r\\n\\r\\nStill ran Dingo--Yellow-Dog Dingo--hungrier and hungrier, grinning like\\r\\na horse-collar, never getting nearer, never getting farther; and they\\r\\ncame to the Wollgong River.\\r\\n\\r\\nNow, there wasn’t any bridge, and there wasn’t any ferry-boat, and\\r\\nKangaroo didn’t know how to get over; so he stood on his legs and\\r\\nhopped.\\r\\n\\r\\nHe had to!\\r\\n\\r\\nHe hopped through the Flinders; he hopped through the Cinders; he\\r\\nhopped through the deserts in the middle of Australia. He hopped like a\\r\\nKangaroo.\\r\\n\\r\\nFirst he hopped one yard; then he hopped three yards; then he hopped\\r\\nfive yards; his legs growing stronger; his legs growing longer. He\\r\\nhadn’t any time for rest or refreshment, and he wanted them very much.\\r\\n\\r\\nStill ran Dingo--Yellow-Dog Dingo--very much bewildered, very much\\r\\nhungry, and wondering what in the world or out of it made Old Man\\r\\nKangaroo hop.\\r\\n\\r\\nFor he hopped like a cricket; like a pea in a saucepan; or a new rubber\\r\\nball on a nursery floor.\\r\\n\\r\\nHe had to!\\r\\n\\r\\nHe tucked up his front legs; he hopped on his hind legs; he stuck out\\r\\nhis tail for a balance-weight behind him; and he hopped through the\\r\\nDarling Downs.\\r\\n\\r\\nHe had to!\\r\\n\\r\\nStill ran Dingo--Tired-Dog Dingo--hungrier and hungrier, very much\\r\\nbewildered, and wondering when in the world or out of it would Old Man\\r\\nKangaroo stop.\\r\\n\\r\\nThen came Nqong from his bath in the salt-pans, and said, ‘It’s five\\r\\no’clock.’\\r\\n\\r\\nDown sat Dingo--Poor Dog Dingo--always hungry, dusky in the sunshine;\\r\\nhung out his tongue and howled.\\r\\n\\r\\nDown sat Kangaroo--Old Man Kangaroo--stuck out his tail like a\\r\\nmilking-stool behind him, and said, ‘Thank goodness that’s finished!’\\r\\n\\r\\nThen said Nqong, who is always a gentleman, ‘Why aren’t you grateful to\\r\\nYellow-Dog Dingo? Why don’t you thank him for all he has done for you?’\\r\\n\\r\\nThen said Kangaroo--Tired Old Kangaroo--He’s chased me out of the homes\\r\\nof my childhood; he’s chased me out of my regular meal-times; he’s\\r\\naltered my shape so I’ll never get it back; and he’s played Old Scratch\\r\\nwith my legs.’\\r\\n\\r\\nThen said Nqong, ‘Perhaps I’m mistaken, but didn’t you ask me to make\\r\\nyou different from all other animals, as well as to make you very truly\\r\\nsought after? And now it is five o’clock.’\\r\\n\\r\\n‘Yes,’ said Kangaroo. ‘I wish that I hadn’t. I thought you would do it\\r\\nby charms and incantations, but this is a practical joke.’\\r\\n\\r\\n‘Joke!’ said Nqong from his bath in the blue gums. ‘Say that again and\\r\\nI’ll whistle up Dingo and run your hind legs off.’\\r\\n\\r\\n‘No,’ said the Kangaroo. ‘I must apologise. Legs are legs, and you\\r\\nneedn’t alter ‘em so far as I am concerned. I only meant to explain to\\r\\nYour Lordliness that I’ve had nothing to eat since morning, and I’m very\\r\\nempty indeed.’\\r\\n\\r\\n‘Yes,’ said Dingo--Yellow-Dog Dingo,--‘I am just in the same situation.\\r\\nI’ve made him different from all other animals; but what may I have for\\r\\nmy tea?’\\r\\n\\r\\nThen said Nqong from his bath in the salt-pan, ‘Come and ask me about it\\r\\ntomorrow, because I’m going to wash.’\\r\\n\\r\\nSo they were left in the middle of Australia, Old Man Kangaroo and\\r\\nYellow-Dog Dingo, and each said, ‘That’s your fault.’\\r\\n\\r\\n\\r\\n     THIS is the mouth-filling song\\r\\n     Of the race that was run by a Boomer,\\r\\n     Run in a single burst--only event of its kind--\\r\\n     Started by big God Nqong from Warrigaborrigarooma,\\r\\n     Old Man Kangaroo first: Yellow-Dog Dingo behind.\\r\\n\\r\\n     Kangaroo bounded away,\\r\\n     His back-legs working like pistons--\\r\\n     Bounded from morning till dark,\\r\\n     Twenty-five feet to a bound.\\r\\n     Yellow-Dog Dingo lay\\r\\n     Like a yellow cloud in the distance--\\r\\n     Much too busy to bark.\\r\\n     My! but they covered the ground!\\r\\n\\r\\n     Nobody knows where they went,\\r\\n     Or followed the track that they flew in,\\r\\n     For that Continent\\r\\n     Hadn’t been given a name.\\r\\n     They ran thirty degrees,\\r\\n     From Torres Straits to the Leeuwin\\r\\n     (Look at the Atlas, please),\\r\\n     And they ran back as they came.\\r\\n\\r\\n     S’posing you could trot\\r\\n     From Adelaide to the Pacific,\\r\\n     For an afternoon’s run\\r\\n     Half what these gentlemen did\\r\\n     You would feel rather hot,\\r\\n     But your legs would develop terrific--\\r\\n     Yes, my importunate son,\\r\\n     You’d be a Marvellous Kid!\\r\\n\\r\\n\\r\\n\\r\\n\\r\\nTHE BEGINNING OF THE ARMADILLOS\\r\\n\\r\\nTHIS, O Best Beloved, is another story of the High and Far-Off Times.\\r\\nIn the very middle of those times was a Stickly-Prickly Hedgehog, and\\r\\nhe lived on the banks of the turbid Amazon, eating shelly snails and\\r\\nthings. And he had a friend, a Slow-Solid Tortoise, who lived on the\\r\\nbanks of the turbid Amazon, eating green lettuces and things. And so\\r\\nthat was all right, Best Beloved. Do you see?\\r\\n\\r\\nBut also, and at the same time, in those High and Far-Off Times, there\\r\\nwas a Painted Jaguar, and he lived on the banks of the turbid Amazon\\r\\ntoo; and he ate everything that he could catch. When he could not catch\\r\\ndeer or monkeys he would eat frogs and beetles; and when he could not\\r\\ncatch frogs and beetles he went to his Mother Jaguar, and she told him\\r\\nhow to eat hedgehogs and tortoises.\\r\\n\\r\\nShe said to him ever so many times, graciously waving her tail, ‘My son,\\r\\nwhen you find a Hedgehog you must drop him into the water and then he\\r\\nwill uncoil, and when you catch a Tortoise you must scoop him out of his\\r\\nshell with your paw.’ And so that was all right, Best Beloved.\\r\\n\\r\\nOne beautiful night on the banks of the turbid Amazon, Painted Jaguar\\r\\nfound Stickly-Prickly Hedgehog and Slow-Solid Tortoise sitting under the\\r\\ntrunk of a fallen tree. They could not run away, and so Stickly-Prickly\\r\\ncurled himself up into a ball, because he was a Hedgehog, and Slow-Solid\\r\\nTortoise drew in his head and feet into his shell as far as they would\\r\\ngo, because he was a Tortoise; and so that was all right, Best Beloved.\\r\\nDo you see?\\r\\n\\r\\n‘Now attend to me,’ said Painted Jaguar, ‘because this is very\\r\\nimportant. My mother said that when I meet a Hedgehog I am to drop him\\r\\ninto the water and then he will uncoil, and when I meet a Tortoise I am\\r\\nto scoop him out of his shell with my paw. Now which of you is Hedgehog\\r\\nand which is Tortoise? because, to save my spots, I can’t tell.’\\r\\n\\r\\n‘Are you sure of what your Mummy told you?’ said Stickly-Prickly\\r\\nHedgehog. ‘Are you quite sure? Perhaps she said that when you uncoil a\\r\\nTortoise you must shell him out the water with a scoop, and when you paw\\r\\na Hedgehog you must drop him on the shell.’\\r\\n\\r\\n‘Are you sure of what your Mummy told you?’ said Slow-and-Solid\\r\\nTortoise. ‘Are you quite sure? Perhaps she said that when you water a\\r\\nHedgehog you must drop him into your paw, and when you meet a Tortoise\\r\\nyou must shell him till he uncoils.’\\r\\n\\r\\n‘I don’t think it was at all like that,’ said Painted Jaguar, but he\\r\\nfelt a little puzzled; ‘but, please, say it again more distinctly.’\\r\\n\\r\\n‘When you scoop water with your paw you uncoil it with a Hedgehog,’ said\\r\\nStickly-Prickly. ‘Remember that, because it’s important.’\\r\\n\\r\\n‘But,’ said the Tortoise, ‘when you paw your meat you drop it into a\\r\\nTortoise with a scoop. Why can’t you understand?’\\r\\n\\r\\n‘You are making my spots ache,’ said Painted Jaguar; ‘and besides, I\\r\\ndidn’t want your advice at all. I only wanted to know which of you is\\r\\nHedgehog and which is Tortoise.’\\r\\n\\r\\n‘I shan’t tell you,’ said Stickly-Prickly, ‘but you can scoop me out of\\r\\nmy shell if you like.’\\r\\n\\r\\n‘Aha!’ said Painted Jaguar. ‘Now I know you’re Tortoise. You thought I\\r\\nwouldn’t! Now I will.’ Painted Jaguar darted out his paddy-paw just as\\r\\nStickly-Prickly curled himself up, and of course Jaguar’s paddy-paw was\\r\\njust filled with prickles. Worse than that, he knocked Stickly-Prickly\\r\\naway and away into the woods and the bushes, where it was too dark to\\r\\nfind him. Then he put his paddy-paw into his mouth, and of course the\\r\\nprickles hurt him worse than ever. As soon as he could speak he said,\\r\\n‘Now I know he isn’t Tortoise at all. But’--and then he scratched\\r\\nhis head with his un-prickly paw--‘how do I know that this other is\\r\\nTortoise?’\\r\\n\\r\\n‘But I am Tortoise,’ said Slow-and-Solid. Your mother was quite right.\\r\\nShe said that you were to scoop me out of my shell with your paw.\\r\\nBegin.’\\r\\n\\r\\n‘You didn’t say she said that a minute ago, said Painted Jaguar, sucking\\r\\nthe prickles out of his paddy-paw. ‘You said she said something quite\\r\\ndifferent.’\\r\\n\\r\\n‘Well, suppose you say that I said that she said something quite\\r\\ndifferent, I don’t see that it makes any difference; because if she said\\r\\nwhat you said I said she said, it’s just the same as if I said what she\\r\\nsaid she said. On the other hand, if you think she said that you were to\\r\\nuncoil me with a scoop, instead of pawing me into drops with a shell, I\\r\\ncan’t help that, can I?’\\r\\n\\r\\n‘But you said you wanted to be scooped out of your shell with my paw,’\\r\\nsaid Painted Jaguar.\\r\\n\\r\\n‘If you’ll think again you’ll find that I didn’t say anything of the\\r\\nkind. I said that your mother said that you were to scoop me out of my\\r\\nshell,’ said Slow-and-Solid.\\r\\n\\r\\n‘What will happen if I do?’ said the Jaguar most sniffily and most\\r\\ncautious.\\r\\n\\r\\n‘I don’t know, because I’ve never been scooped out of my shell before;\\r\\nbut I tell you truly, if you want to see me swim away you’ve only got to\\r\\ndrop me into the water.\\r\\n\\r\\n‘I don’t believe it,’ said Painted Jaguar. ‘You’ve mixed up all the\\r\\nthings my mother told me to do with the things that you asked me whether\\r\\nI was sure that she didn’t say, till I don’t know whether I’m on my\\r\\nhead or my painted tail; and now you come and tell me something I can\\r\\nunderstand, and it makes me more mixy than before. My mother told me\\r\\nthat I was to drop one of you two into the water, and as you seem so\\r\\nanxious to be dropped I think you don’t want to be dropped. So jump into\\r\\nthe turbid Amazon and be quick about it.’\\r\\n\\r\\n‘I warn you that your Mummy won’t be pleased. Don’t tell her I didn’t\\r\\ntell you,’ said Slow-Solid.\\r\\n\\r\\n‘If you say another word about what my mother said--’ the Jaguar\\r\\nanswered, but he had not finished the sentence before Slow-and-Solid\\r\\nquietly dived into the turbid Amazon, swam under water for a long way,\\r\\nand came out on the bank where Stickly-Prickly was waiting for him.\\r\\n\\r\\n‘That was a very narrow escape,’ said Stickly-Prickly. ‘I don’t rib\\r\\nPainted Jaguar. What did you tell him that you were?’\\r\\n\\r\\n‘I told him truthfully that I was a truthful Tortoise, but he wouldn’t\\r\\nbelieve it, and he made me jump into the river to see if I was, and I\\r\\nwas, and he is surprised. Now he’s gone to tell his Mummy. Listen to\\r\\nhim!’\\r\\n\\r\\nThey could hear Painted Jaguar roaring up and down among the trees and\\r\\nthe bushes by the side of the turbid Amazon, till his Mummy came.\\r\\n\\r\\n‘Son, son!’ said his mother ever so many times, graciously waving her\\r\\ntail, ‘what have you been doing that you shouldn’t have done?’\\r\\n\\r\\n‘I tried to scoop something that said it wanted to be scooped out of\\r\\nits shell with my paw, and my paw is full of per-ickles,’ said Painted\\r\\nJaguar.\\r\\n\\r\\n‘Son, son!’ said his mother ever so many times, graciously waving her\\r\\ntail, ‘by the prickles in your paddy-paw I see that that must have been\\r\\na Hedgehog. You should have dropped him into the water.\\r\\n\\r\\n‘I did that to the other thing; and he said he was a Tortoise, and I\\r\\ndidn’t believe him, and it was quite true, and he has dived under the\\r\\nturbid Amazon, and he won’t come up again, and I haven’t anything at all\\r\\nto eat, and I think we had better find lodgings somewhere else. They are\\r\\ntoo clever on the turbid Amazon for poor me!’\\r\\n\\r\\n‘Son, son!’ said his mother ever so many times, graciously waving\\r\\nher tail, ‘now attend to me and remember what I say. A Hedgehog curls\\r\\nhimself up into a ball and his prickles stick out every which way at\\r\\nonce. By this you may know the Hedgehog.’\\r\\n\\r\\n‘I don’t like this old lady one little bit,’ said Stickly-Prickly, under\\r\\nthe shadow of a large leaf. ‘I wonder what else she knows?’\\r\\n\\r\\n‘A Tortoise can’t curl himself up,’ Mother Jaguar went on, ever so many\\r\\ntimes, graciously waving her tail. ‘He only draws his head and legs into\\r\\nhis shell. By this you may know the tortoise.’\\r\\n\\r\\n‘I don’t like this old lady at all--at all,’ said Slow-and-Solid\\r\\nTortoise. ‘Even Painted Jaguar can’t forget those directions. It’s a\\r\\ngreat pity that you can’t swim, Stickly-Prickly.’\\r\\n\\r\\n‘Don’t talk to me,’ said Stickly-Prickly. ‘Just think how much better\\r\\nit would be if you could curl up. This is a mess! Listen to Painted\\r\\nJaguar.’\\r\\n\\r\\nPainted Jaguar was sitting on the banks of the turbid Amazon sucking\\r\\nprickles out of his Paws and saying to himself--\\r\\n\\r\\n  ‘Can’t curl, but can swim--\\r\\n  Slow-Solid, that’s him!\\r\\n  Curls up, but can’t swim--\\r\\n  Stickly-Prickly, that’s him!’\\r\\n\\r\\n‘He’ll never forget that this month of Sundays,’ said Stickly-Prickly.\\r\\n‘Hold up my chin, Slow-and-Solid. I’m going to try to learn to swim. It\\r\\nmay be useful.’\\r\\n\\r\\n‘Excellent!’ said Slow-and-Solid; and he held up Stickly-Prickly’s chin,\\r\\nwhile Stickly-Prickly kicked in the waters of the turbid Amazon.\\r\\n\\r\\n‘You’ll make a fine swimmer yet,’ said Slow-and-Solid. ‘Now, if you can\\r\\nunlace my back-plates a little, I’ll see what I can do towards curling\\r\\nup. It may be useful.’\\r\\n\\r\\nStickly-Prickly helped to unlace Tortoise’s back-plates, so that by\\r\\ntwisting and straining Slow-and-Solid actually managed to curl up a\\r\\ntiddy wee bit.\\r\\n\\r\\n‘Excellent!’ said Stickly-Prickly; ‘but I shouldn’t do any more just\\r\\nnow. It’s making you black in the face. Kindly lead me into the water\\r\\nonce again and I’ll practice that side-stroke which you say is so easy.’\\r\\nAnd so Stickly-Prickly practiced, and Slow-Solid swam alongside.\\r\\n\\r\\n‘Excellent!’ said Slow-and-Solid. ‘A little more practice will make you\\r\\na regular whale. Now, if I may trouble you to unlace my back and front\\r\\nplates two holes more, I’ll try that fascinating bend that you say is so\\r\\neasy. Won’t Painted Jaguar be surprised!’\\r\\n\\r\\n‘Excellent!’ said Stickly-Prickly, all wet from the turbid Amazon. ‘I\\r\\ndeclare, I shouldn’t know you from one of my own family. Two holes, I\\r\\nthink, you said? A little more expression, please, and don’t grunt quite\\r\\nso much, or Painted Jaguar may hear us. When you’ve finished, I want\\r\\nto try that long dive which you say is so easy. Won’t Painted Jaguar be\\r\\nsurprised!’\\r\\n\\r\\nAnd so Stickly-Prickly dived, and Slow-and-Solid dived alongside.\\r\\n\\r\\n‘Excellent!’ said Slow-and-Solid. ‘A leetle more attention to holding\\r\\nyour breath and you will be able to keep house at the bottom of the\\r\\nturbid Amazon. Now I’ll try that exercise of putting my hind legs round\\r\\nmy ears which you say is so peculiarly comfortable. Won’t Painted Jaguar\\r\\nbe surprised!’\\r\\n\\r\\n‘Excellent!’ said Stickly-Prickly. ‘But it’s straining your back-plates\\r\\na little. They are all overlapping now, instead of lying side by side.’\\r\\n\\r\\n‘Oh, that’s the result of exercise,’ said Slow-and-Solid. ‘I’ve noticed\\r\\nthat your prickles seem to be melting into one another, and that\\r\\nyou’re growing to look rather more like a pinecone, and less like a\\r\\nchestnut-burr, than you used to.’\\r\\n\\r\\n‘Am I?’ said Stickly-Prickly. ‘That comes from my soaking in the water.\\r\\nOh, won’t Painted Jaguar be surprised!’\\r\\n\\r\\nThey went on with their exercises, each helping the other, till morning\\r\\ncame; and when the sun was high they rested and dried themselves. Then\\r\\nthey saw that they were both of them quite different from what they had\\r\\nbeen.\\r\\n\\r\\n‘Stickly-Prickly,’ said Tortoise after breakfast, ‘I am not what I was\\r\\nyesterday; but I think that I may yet amuse Painted Jaguar.\\r\\n\\r\\n‘That was the very thing I was thinking just now,’ said Stickly-Prickly.\\r\\n‘I think scales are a tremendous improvement on prickles--to say nothing\\r\\nof being able to swim. Oh, won’t Painted Jaguar be surprised! Let’s go\\r\\nand find him.’\\r\\n\\r\\nBy and by they found Painted Jaguar, still nursing his paddy-paw that\\r\\nhad been hurt the night before. He was so astonished that he fell three\\r\\ntimes backward over his own painted tail without stopping.\\r\\n\\r\\n‘Good morning!’ said Stickly-Prickly. ‘And how is your dear gracious\\r\\nMummy this morning?’\\r\\n\\r\\n‘She is quite well, thank you,’ said Painted Jaguar; ‘but you must\\r\\nforgive me if I do not at this precise moment recall your name.’\\r\\n\\r\\n‘That’s unkind of you,’ said Stickly-Prickly, ‘seeing that this time\\r\\nyesterday you tried to scoop me out of my shell with your paw.’\\r\\n\\r\\n‘But you hadn’t any shell. It was all prickles,’ said Painted Jaguar. ‘I\\r\\nknow it was. Just look at my paw!’\\r\\n\\r\\n‘You told me to drop into the turbid Amazon and be drowned,’ said\\r\\nSlow-Solid. ‘Why are you so rude and forgetful to-day?’\\r\\n\\r\\n‘Don’t you remember what your mother told you?’ said Stickly-Prickly,--\\r\\n\\r\\n  ‘Can’t curl, but can swim--\\r\\n  Stickly-Prickly, that’s him!\\r\\n  Curls up, but can’t swim--\\r\\n  Slow-Solid, that’s him!’\\r\\n\\r\\nThen they both curled themselves up and rolled round and round Painted\\r\\nJaguar till his eyes turned truly cart-wheels in his head.\\r\\n\\r\\nThen he went to fetch his mother.\\r\\n\\r\\n‘Mother,’ he said, ‘there are two new animals in the woods to-day, and\\r\\nthe one that you said couldn’t swim, swims, and the one that you said\\r\\ncouldn’t curl up, curls; and they’ve gone shares in their prickles, I\\r\\nthink, because both of them are scaly all over, instead of one being\\r\\nsmooth and the other very prickly; and, besides that, they are rolling\\r\\nround and round in circles, and I don’t feel comfy.’\\r\\n\\r\\n‘Son, son!’ said Mother Jaguar ever so many times, graciously waving her\\r\\ntail, ‘a Hedgehog is a Hedgehog, and can’t be anything but a Hedgehog;\\r\\nand a Tortoise is a Tortoise, and can never be anything else.’\\r\\n\\r\\n‘But it isn’t a Hedgehog, and it isn’t a Tortoise. It’s a little bit of\\r\\nboth, and I don’t know its proper name.’\\r\\n\\r\\n‘Nonsense!’ said Mother Jaguar. ‘Everything has its proper name. I\\r\\nshould call it “Armadillo” till I found out the real one. And I should\\r\\nleave it alone.’\\r\\n\\r\\nSo Painted Jaguar did as he was told, especially about leaving them\\r\\nalone; but the curious thing is that from that day to this, O Best\\r\\nBeloved, no one on the banks of the turbid Amazon has ever called\\r\\nStickly-Prickly and Slow-Solid anything except Armadillo. There are\\r\\nHedgehogs and Tortoises in other places, of course (there are some in\\r\\nmy garden); but the real old and clever kind, with their scales lying\\r\\nlippety-lappety one over the other, like pine-cone scales, that lived on\\r\\nthe banks of the turbid Amazon in the High and Far-Off Days, are always\\r\\ncalled Armadillos, because they were so clever.\\r\\n\\r\\nSo that; all right, Best Beloved. Do you see?\\r\\n\\r\\n     I’VE never sailed the Amazon,\\r\\n       I’ve never reached Brazil;\\r\\n     But the Don and Magdelana,\\r\\n       They can go there when they will!\\r\\n\\r\\n             Yes, weekly from Southampton,\\r\\n             Great steamers, white and gold,\\r\\n             Go rolling down to Rio\\r\\n             (Roll down--roll down to Rio!)\\r\\n             And I’d like to roll to Rio\\r\\n             Some day before I’m old!\\r\\n\\r\\n     I’ve never seen a Jaguar,\\r\\n       Nor yet an Armadill\\r\\n     O dilloing in his armour,\\r\\n       And I s’pose I never will,\\r\\n\\r\\n             Unless I go to Rio\\r\\n             These wonders to behold--\\r\\n             Roll down--roll down to Rio--\\r\\n             Roll really down to Rio!\\r\\n             Oh, I’d love to roll to Rio\\r\\n             Some day before I’m old!\\r\\n\\r\\n\\r\\n\\r\\n\\r\\nHOW THE FIRST LETTER WAS WRITTEN\\r\\n\\r\\nONCE upon a most early time was a Neolithic man. He was not a Jute or an\\r\\nAngle, or even a Dravidian, which he might well have been, Best Beloved,\\r\\nbut never mind why. He was a Primitive, and he lived cavily in a Cave,\\r\\nand he wore very few clothes, and he couldn’t read and he couldn’t write\\r\\nand he didn’t want to, and except when he was hungry he was\\r\\nquite happy. His name was Tegumai Bopsulai, and that means,\\r\\n‘Man-who-does-not-put-his-foot-forward-in-a-hurry’; but we, O Best\\r\\nBeloved, will call him Tegumai, for short. And his wife’s name\\r\\nwas Teshumai Tewindrow, and that means,\\r\\n‘Lady-who-asks-a-very-many-questions’; but we, O Best Beloved, will\\r\\ncall her Teshumai, for short. And his little girl-daughter’s name\\r\\nwas Taffimai Metallumai, and that means,\\r\\n‘Small-person-without-any-manners-who-ought-to-be-spanked’; but I’m\\r\\ngoing to call her Taffy. And she was Tegumai Bopsulai’s Best Beloved and\\r\\nher own Mummy’s Best Beloved, and she was not spanked half as much as\\r\\nwas good for her; and they were all three very happy. As soon as\\r\\nTaffy could run about she went everywhere with her Daddy Tegumai, and\\r\\nsometimes they would not come home to the Cave till they were hungry,\\r\\nand then Teshumai Tewindrow would say, ‘Where in the world have you two\\r\\nbeen to, to get so shocking dirty? Really, my Tegumai, you’re no better\\r\\nthan my Taffy.’\\r\\n\\r\\nNow attend and listen!\\r\\n\\r\\nOne day Tegumai Bopsulai went down through the beaver-swamp to the Wagai\\r\\nriver to spear carp-fish for dinner, and Taffy went too. Tegumai’s spear\\r\\nwas made of wood with shark’s teeth at the end, and before he had caught\\r\\nany fish at all he accidentally broke it clean across by jabbing it down\\r\\ntoo hard on the bottom of the river. They were miles and miles from home\\r\\n(of course they had their lunch with them in a little bag), and Tegumai\\r\\nhad forgotten to bring any extra spears.\\r\\n\\r\\n‘Here’s a pretty kettle of fish!’ said Tegumai. ‘It will take me half\\r\\nthe day to mend this.’\\r\\n\\r\\n‘There’s your big black spear at home,’ said Taffy. ‘Let me run back to\\r\\nthe Cave and ask Mummy to give it me.’\\r\\n\\r\\n‘It’s too far for your little fat legs,’ said Tegumai. ‘Besides, you\\r\\nmight fall into the beaver-swamp and be drowned. We must make the best\\r\\nof a bad job.’ He sat down and took out a little leather mendy-bag, full\\r\\nof reindeer-sinews and strips of leather, and lumps of bee’s-wax and\\r\\nresin, and began to mend the spear.\\r\\n\\r\\nTaffy sat down too, with her toes in the water and her chin in her\\r\\nhand, and thought very hard. Then she said--‘I say, Daddy, it’s an awful\\r\\nnuisance that you and I don’t know how to write, isn’t it? If we did we\\r\\ncould send a message for the new spear.’\\r\\n\\r\\n‘Taffy,’ said Tegumai, ‘how often have I told you not to use slang?\\r\\n“Awful” isn’t a pretty word, but it could be a convenience, now you\\r\\nmention it, if we could write home.’\\r\\n\\r\\nJust then a Stranger-man came along the river, but he belonged to a\\r\\nfar tribe, the Tewaras, and he did not understand one word of Tegumai’s\\r\\nlanguage. He stood on the bank and smiled at Taffy, because he had\\r\\na little girl-daughter Of his own at home. Tegumai drew a hank of\\r\\ndeer-sinews from his mendy-bag and began to mend his spear.\\r\\n\\r\\n‘Come here, said Taffy. ‘Do you know where my Mummy lives?’ And the\\r\\nStranger-man said ‘Um!’ being, as you know, a Tewara.\\r\\n\\r\\n‘Silly!’ said Taffy, and she stamped her foot, because she saw a shoal\\r\\nof very big carp going up the river just when her Daddy couldn’t use his\\r\\nspear.\\r\\n\\r\\n‘Don’t bother grown-ups,’ said Tegumai, so busy with his spear-mending\\r\\nthat he did not turn round.\\r\\n\\r\\n‘I aren’t, said Taffy. ‘I only want him to do what I want him to do, and\\r\\nhe won’t understand.’\\r\\n\\r\\n‘Then don’t bother me, said Tegumai, and he went on pulling and\\r\\nstraining at the deer-sinews with his mouth full of loose ends. The\\r\\nStranger-man--a genuine Tewara he was--sat down on the grass, and Taffy\\r\\nshowed him what her Daddy was doing. The Stranger-man thought, this is a\\r\\nvery wonderful child. She stamps her foot at me and she makes faces. She\\r\\nmust be the daughter of that noble Chief who is so great that he won’t\\r\\ntake any notice of me.’ So he smiled more politely than ever.\\r\\n\\r\\n‘Now,’ said Taffy, ‘I want you to go to my Mummy, because your legs are\\r\\nlonger than mine, and you won’t fall into the beaver-swamp, and ask for\\r\\nDaddy’s other spear--the one with the black handle that hangs over our\\r\\nfireplace.’\\r\\n\\r\\nThe Stranger-man (and he was a Tewara) thought, ‘This is a very, very\\r\\nwonderful child. She waves her arms and she shouts at me, but I don’t\\r\\nunderstand a word of what she says. But if I don’t do what she wants, I\\r\\ngreatly fear that that haughty Chief, Man-who-turns-his-back-on-callers,\\r\\nwill be angry.’ He got up and twisted a big flat piece of bark off a\\r\\nbirch-tree and gave it to Taffy. He did this, Best Beloved, to show that\\r\\nhis heart was as white as the birch-bark and that he meant no harm; but\\r\\nTaffy didn’t quite understand.\\r\\n\\r\\n‘Oh!’ said she. ‘Now I see! You want my Mummy’s living-address? Of\\r\\ncourse I can’t write, but I can draw pictures if I’ve anything sharp to\\r\\nscratch with. Please lend me the shark’s tooth off your necklace.’\\r\\n\\r\\nThe Stranger-man (and he was a Tewara) didn’t say anything, So Taffy\\r\\nput up her little hand and pulled at the beautiful bead and seed and\\r\\nshark-tooth necklace round his neck.\\r\\n\\r\\nThe Stranger-man (and he was a Tewara) thought, ‘This is a very, very,\\r\\nvery wonderful child. The shark’s tooth on my necklace is a magic\\r\\nshark’s tooth, and I was always told that if anybody touched it without\\r\\nmy leave they would immediately swell up or burst, but this\\r\\nchild doesn’t swell up or burst, and that important Chief,\\r\\nMan-who-attends-strictly-to-his-business, who has not yet taken any\\r\\nnotice of me at all, doesn’t seem to be afraid that she will swell up or\\r\\nburst. I had better be more polite.’\\r\\n\\r\\nSo he gave Taffy the shark’s tooth, and she lay down flat on her tummy\\r\\nwith her legs in the air, like some people on the drawing-room floor\\r\\nwhen they want to draw pictures, and she said, ‘Now I’ll draw you some\\r\\nbeautiful pictures! You can look over my shoulder, but you mustn’t\\r\\njoggle. First I’ll draw Daddy fishing. It isn’t very like him; but Mummy\\r\\nwill know, because I’ve drawn his spear all broken. Well, now I’ll draw\\r\\nthe other spear that he wants, the black-handled spear. It looks as if\\r\\nit was sticking in Daddy’s back, but that’s because the shark’s tooth\\r\\nslipped and this piece of bark isn’t big enough. That’s the spear I want\\r\\nyou to fetch; so I’ll draw a picture of me myself ‘splaining to you. My\\r\\nhair doesn’t stand up like I’ve drawn, but it’s easier to draw that way.\\r\\nNow I’ll draw you. I think you’re very nice really, but I can’t make you\\r\\npretty in the picture, so you mustn’t be ‘fended. Are you ‘fended?’\\r\\n\\r\\nThe Stranger-man (and he was a Tewara) smiled. He thought, ‘There must\\r\\nbe a big battle going to be fought somewhere, and this extraordinary\\r\\nchild, who takes my magic shark’s tooth but who does not swell up or\\r\\nburst, is telling me to call all the great Chief’s tribe to help him. He\\r\\nis a great Chief, or he would have noticed me.\\r\\n\\r\\n‘Look,’ said Taffy, drawing very hard and rather scratchily, ‘now I’ve\\r\\ndrawn you, and I’ve put the spear that Daddy wants into your hand, just\\r\\nto remind you that you’re to bring it. Now I’ll show you how to find my\\r\\nMummy’s living-address. You go along till you come to two trees (those\\r\\nare trees), and then you go over a hill (that’s a hill), and then you\\r\\ncome into a beaver-swamp all full of beavers. I haven’t put in all the\\r\\nbeavers, because I can’t draw beavers, but I’ve drawn their heads, and\\r\\nthat’s all you’ll see of them when you cross the swamp. Mind you don’t\\r\\nfall in! Then our Cave is just beyond the beaver-swamp. It isn’t as high\\r\\nas the hills really, but I can’t draw things very small. That’s my Mummy\\r\\noutside. She is beautiful. She is the most beautifullest Mummy there\\r\\never was, but she won’t be ‘fended when she sees I’ve drawn her so\\r\\nplain. She’ll be pleased of me because I can draw. Now, in case you\\r\\nforget, I’ve drawn the spear that Daddy wants outside our Cave. It’s\\r\\ninside really, but you show the picture to my Mummy and she’ll give it\\r\\nyou. I’ve made her holding up her hands, because I know she’ll be so\\r\\npleased to see you. Isn’t it a beautiful picture? And do you quite\\r\\nunderstand, or shall I ‘splain again?’\\r\\n\\r\\nThe Stranger-man (and he was a Tewara) looked at the picture and nodded\\r\\nvery hard. He said to himself,’ If I do not fetch this great Chief’s\\r\\ntribe to help him, he will be slain by his enemies who are coming up on\\r\\nall sides with spears. Now I see why the great Chief pretended not to\\r\\nnotice me! He feared that his enemies were hiding in the bushes and\\r\\nwould see him. Therefore he turned to me his back, and let the wise and\\r\\nwonderful child draw the terrible picture showing me his difficulties.\\r\\nI will away and get help for him from his tribe.’ He did not even ask\\r\\nTaffy the road, but raced off into the bushes like the wind, with the\\r\\nbirch-bark in his hand, and Taffy sat down most pleased.\\r\\n\\r\\nNow this is the picture that Taffy had drawn for him!\\r\\n\\r\\n‘What have you been doing, Taffy?’ said Tegumai. He had mended his spear\\r\\nand was carefully waving it to and fro.\\r\\n\\r\\n‘It’s a little berangement of my own, Daddy dear,’ said Taffy. ‘If you\\r\\nwon’t ask me questions, you’ll know all about it in a little time, and\\r\\nyou’ll be surprised. You don’t know how surprised you’ll be, Daddy!\\r\\nPromise you’ll be surprised.’\\r\\n\\r\\n‘Very well,’ said Tegumai, and went on fishing.\\r\\n\\r\\nThe Stranger-man--did you know he was a Tewara?--hurried away with the\\r\\npicture and ran for some miles, till quite by accident he found Teshumai\\r\\nTewindrow at the door of her Cave, talking to some other Neolithic\\r\\nladies who had come in to a Primitive lunch. Taffy was very like\\r\\nTeshumai, especially about the upper part of the face and the eyes,\\r\\nso the Stranger-man--always a pure Tewara--smiled politely and handed\\r\\nTeshumai the birch-bark. He had run hard, so that he panted, and his\\r\\nlegs were scratched with brambles, but he still tried to be polite.\\r\\n\\r\\nAs soon as Teshumai saw the picture she screamed like anything and flew\\r\\nat the Stranger-man. The other Neolithic ladies at once knocked him down\\r\\nand sat on him in a long line of six, while Teshumai pulled his hair.\\r\\n\\r\\n‘It’s as plain as the nose on this Stranger-man’s face,’ she said. ‘He\\r\\nhas stuck my Tegumai all full of spears, and frightened poor Taffy so\\r\\nthat her hair stands all on end; and not content with that, he brings\\r\\nme a horrid picture of how it was done. Look!’ She showed the picture to\\r\\nall the Neolithic ladies sitting patiently on the Stranger-man. ‘Here is\\r\\nmy Tegumai with his arm broken; here is a spear sticking into his back;\\r\\nhere is a man with a spear ready to throw; here is another man throwing\\r\\na spear from a Cave, and here are a whole pack of people’ (they were\\r\\nTaffy’s beavers really, but they did look rather like people) ‘coming up\\r\\nbehind Tegumai. Isn’t it shocking!’\\r\\n\\r\\n‘Most shocking!’ said the Neolithic ladies, and they filled the\\r\\nStranger-man’s hair with mud (at which he was surprised), and they beat\\r\\nupon the Reverberating Tribal Drums, and called together all the chiefs\\r\\nof the Tribe of Tegumai, with their Hetmans and Dolmans, all Neguses,\\r\\nWoons, and Akhoonds of the organisation, in addition to the Warlocks,\\r\\nAngekoks, Juju-men, Bonzes, and the rest, who decided that before they\\r\\nchopped the Stranger-man’s head off he should instantly lead them down\\r\\nto the river and show them where he had hidden poor Taffy.\\r\\n\\r\\nBy this time the Stranger-man (in spite of being a Tewara) was really\\r\\nannoyed. They had filled his hair quite solid with mud; they had rolled\\r\\nhim up and down on knobby pebbles; they had sat upon him in a long\\r\\nline of six; they had thumped him and bumped him till he could hardly\\r\\nbreathe; and though he did not understand their language, he was almost\\r\\nsure that the names the Neolithic ladies called him were not ladylike.\\r\\nHowever, he said nothing till all the Tribe of Tegumai were assembled,\\r\\nand then he led them back to the bank of the Wagai river, and there they\\r\\nfound Taffy making daisy-chains, and Tegumai carefully spearing small\\r\\ncarp with his mended spear.\\r\\n\\r\\n‘Well, you have been quick!’ said Taffy. ‘But why did you bring so many\\r\\npeople? Daddy dear, this is my surprise. Are you surprised, Daddy?’\\r\\n\\r\\n‘Very,’ said Tegumai; ‘but it has ruined all my fishing for the day.\\r\\nWhy, the whole dear, kind, nice, clean, quiet Tribe is here, Taffy.’\\r\\n\\r\\nAnd so they were. First of all walked Teshumai Tewindrow and the\\r\\nNeolithic ladies, tightly holding on to the Stranger-man, whose hair was\\r\\nfull of mud (although he was a Tewara). Behind them came the Head Chief,\\r\\nthe Vice-Chief, the Deputy and Assistant Chiefs (all armed to the upper\\r\\nteeth), the Hetmans and Heads of Hundreds, Platoffs with their Platoons,\\r\\nand Dolmans with their Detachments; Woons, Neguses, and Akhoonds ranking\\r\\nin the rear (still armed to the teeth). Behind them was the Tribe in\\r\\nhierarchical order, from owners of four caves (one for each season), a\\r\\nprivate reindeer-run, and two salmon-leaps, to feudal and prognathous\\r\\nVilleins, semi-entitled to half a bearskin of winter nights, seven yards\\r\\nfrom the fire, and adscript serfs, holding the reversion of a scraped\\r\\nmarrow-bone under heriot (Aren’t those beautiful words, Best Beloved?).\\r\\nThey were all there, prancing and shouting, and they frightened every\\r\\nfish for twenty miles, and Tegumai thanked them in a fluid Neolithic\\r\\noration.\\r\\n\\r\\nThen Teshumai Tewindrow ran down and kissed and hugged Taffy very much\\r\\nindeed; but the Head Chief of the Tribe of Tegumai took Tegumai by the\\r\\ntop-knot feathers and shook him severely.\\r\\n\\r\\n‘Explain! Explain! Explain!’ cried all the Tribe of Tegumai.\\r\\n\\r\\n‘Goodness’ sakes alive!’ said Tegumai. ‘Let go of my top-knot. Can’t\\r\\na man break his carp-spear without the whole countryside descending on\\r\\nhim? You’re a very interfering people.’\\r\\n\\r\\n‘I don’t believe you’ve brought my Daddy’s black-handled spear after\\r\\nall,’ said Taffy. ‘And what are you doing to my nice Stranger-man?’\\r\\n\\r\\nThey were thumping him by twos and threes and tens till his eyes turned\\r\\nround and round. He could only gasp and point at Taffy.\\r\\n\\r\\n‘Where are the bad people who speared you, my darling?’ said Teshumai\\r\\nTewindrow.\\r\\n\\r\\n‘There weren’t any,’ said Tegumai. ‘My only visitor this morning was the\\r\\npoor fellow that you are trying to choke. Aren’t you well, or are you\\r\\nill, O Tribe of Tegumai?’\\r\\n\\r\\n‘He came with a horrible picture,’ said the Head Chief,--‘a picture that\\r\\nshowed you were full of spears.’\\r\\n\\r\\n‘Er-um-Pr’aps I’d better ‘splain that I gave him that picture,’ said\\r\\nTaffy, but she did not feel quite comfy.\\r\\n\\r\\n‘You!’ said the Tribe of Tegumai all together.\\r\\n‘Small-person-with-no-manners-who-ought-to-be-spanked! You?’\\r\\n\\r\\n‘Taffy dear, I’m afraid we’re in for a little trouble,’ said her Daddy,\\r\\nand put his arm round her, so she didn’t care.\\r\\n\\r\\n‘Explain! Explain! Explain!’ said the Head Chief of the Tribe of\\r\\nTegumai, and he hopped on one foot.\\r\\n\\r\\n‘I wanted the Stranger-man to fetch Daddy’s spear, so I drawded it,’\\r\\nsaid Taffy. ‘There wasn’t lots of spears. There was only one spear. I\\r\\ndrawded it three times to make sure. I couldn’t help it looking as if it\\r\\nstuck into Daddy’s head--there wasn’t room on the birch-bark; and those\\r\\nthings that Mummy called bad people are my beavers. I drawded them to\\r\\nshow him the way through the swamp; and I drawded Mummy at the mouth of\\r\\nthe Cave looking pleased because he is a nice Stranger-man, and I think\\r\\nyou are just the stupidest people in the world,’ said Taffy. ‘He is a\\r\\nvery nice man. Why have you filled his hair with mud? Wash him!’\\r\\n\\r\\nNobody said anything at all for a longtime, till the Head Chief laughed;\\r\\nthen the Stranger-man (who was at least a Tewara) laughed; then Tegumai\\r\\nlaughed till he fell down flat on the bank; then all the Tribe laughed\\r\\nmore and worse and louder. The only people who did not laugh were\\r\\nTeshumai Tewindrow and all the Neolithic ladies. They were very polite\\r\\nto all their husbands, and said ‘Idiot!’ ever so often.\\r\\n\\r\\nThen the Head Chief of the Tribe of Tegumai cried and said and sang, ‘O\\r\\nSmall-person-with-out-any-manners-who-ought-to-be-spanked, you’ve hit\\r\\nupon a great invention!’\\r\\n\\r\\n‘I didn’t intend to; I only wanted Daddy’s black-handled spear,’ said\\r\\nTaffy.\\r\\n\\r\\n‘Never mind. It is a great invention, and some day men will call it\\r\\nwriting. At present it is only pictures, and, as we have seen to-day,\\r\\npictures are not always properly understood. But a time will come, O\\r\\nBabe of Tegumai, when we shall make letters--all twenty-six of ‘em,--and\\r\\nwhen we shall be able to read as well as to write, and then we shall\\r\\nalways say exactly what we mean without any mistakes. Let the Neolithic\\r\\nladies wash the mud out of the stranger’s hair.’\\r\\n\\r\\n‘I shall be glad of that,’ said Taffy, ‘because, after all, though\\r\\nyou’ve brought every single other spear in the Tribe of Tegumai, you’ve\\r\\nforgotten my Daddy’s black-handled spear.’\\r\\n\\r\\nThen the Head Chief cried and said and sang, ‘Taffy dear, the next time\\r\\nyou write a picture-letter, you’d better send a man who can talk our\\r\\nlanguage with it, to explain what it means. I don’t mind it myself,\\r\\nbecause I am a Head Chief, but it’s very bad for the rest of the Tribe\\r\\nof Tegumai, and, as you can see, it surprises the stranger.’\\r\\n\\r\\nThen they adopted the Stranger-man (a genuine Tewara of Tewar) into the\\r\\nTribe of Tegumai, because he was a gentleman and did not make a fuss\\r\\nabout the mud that the Neolithic ladies had put into his hair. But\\r\\nfrom that day to this (and I suppose it is all Taffy’s fault), very few\\r\\nlittle girls have ever liked learning to read or write. Most of them\\r\\nprefer to draw pictures and play about with their Daddies--just like\\r\\nTaffy.\\r\\n\\r\\n\\r\\n     THERE runs a road by Merrow Down--\\r\\n       A grassy track to-day it is\\r\\n     An hour out of Guildford town,\\r\\n       Above the river Wey it is.\\r\\n\\r\\n     Here, when they heard the horse-bells ring,\\r\\n       The ancient Britons dressed and rode\\r\\n     To watch the dark Phoenicians bring\\r\\n       Their goods along the Western Road.\\r\\n\\r\\n     And here, or hereabouts, they met\\r\\n       To hold their racial talks and such--\\r\\n     To barter beads for Whitby jet,\\r\\n       And tin for gay shell torques and such.\\r\\n\\r\\n     But long and long before that time\\r\\n       (When bison used to roam on it)\\r\\n     Did Taffy and her Daddy climb\\r\\n       That down, and had their home on it.\\r\\n\\r\\n     Then beavers built in Broadstone brook\\r\\n       And made a swamp where Bramley stands:\\r\\n     And bears from Shere would come and look\\r\\n       For Taffimai where Shamley stands.\\r\\n\\r\\n     The Wey, that Taffy called Wagai,\\r\\n       Was more than six times bigger then;\\r\\n     And all the Tribe of Tegumai\\r\\n       They cut a noble figure then!\\r\\n\\r\\n\\r\\n\\r\\n\\r\\n'"
            ]
          },
          "metadata": {
            "tags": []
          },
          "execution_count": 128
        }
      ]
    },
    {
      "cell_type": "markdown",
      "metadata": {
        "id": "mIC7IE8lmFDA",
        "colab_type": "text"
      },
      "source": [
        "## Stage 2: Experiment with Handcrafted features representation\n",
        "\n",
        "**Stylometry: ** is the quantitative study of literary style through computational distant reading methods. It is based on the observation that authors tend to write in relatively consistent, recognizable and unique ways. For example:\n",
        "\n",
        "Each person has their own unique vocabulary, sometimes rich, sometimes limited. Although a larger vocabulary is usually associated with literary quality, this is not always the case. Ernest Hemingway is famous for using a surprisingly small number of different words in his writing,1 which did not prevent him from winning the Nobel Prize for Literature in 1954.\n",
        "Some people write in short sentences, while others prefer long blocks of text consisting of many clauses.\n",
        "No two people use semicolons, em-dashes, and other forms of punctuation in the exact same way.\n",
        "\n",
        "\n",
        "\n",
        "\n",
        "**You may explore the following ways to analyze the text and generate handcrafted features by searching text in a probing way:**\n",
        "\n",
        "a) Could  style of punctuation usage help as an handcrafted feature? Both by those who follow punctuations and by those who don't? Interesting [link](https://qwiklit.com/2014/03/05/top-10-authors-who-ignored-the-basic-rules-of-punctuation/) \n",
        "\n",
        "b) The same word can sometimes be used in different contexts repeatedly by different authors. Could this fact be converted as a handcrafted feature? [link](https://www.nltk.org/book/ch01.html)\n",
        "\n",
        "c) The above two are merely examples; As you might have noticed already the NLTK book [link](https://www.nltk.org/book/) offers several methods of analyzing and understanding text. Each of these analyses is in itself capable of being an handcrafted feature. **However for your evaluation a minimal set of useful handcrafted features which is helping you prove a classification of an is sufficient**\n",
        "\n",
        "d) Could most command words be used to distinguish authors?  Refer \"Counting Vocabulary\" section of the [link](https://www.nltk.org/book/ch01.html)\n",
        "\n",
        "e) How about using a count of most frequently used bi-gram, tri-grams and using it to classify an author?\n",
        "\n",
        "f) How about using the frequency historgram of the most frequently used words across the stories by a given author a useful feature? \n",
        "\n",
        "The limit here is endless limited only by your imagination, and of course your accuracy ! :)\n"
      ]
    },
    {
      "cell_type": "markdown",
      "metadata": {
        "id": "ZmJX5Jl1CRKg",
        "colab_type": "text"
      },
      "source": [
        "### 2 Marks-> a) Identify 10 handcrafted features of the kind described by the  story above\n",
        " \n",
        "\n",
        "\n"
      ]
    },
    {
      "cell_type": "code",
      "metadata": {
        "id": "TUJlJdy_EGAP",
        "colab_type": "code",
        "outputId": "35860546-ca76-40be-f6a0-425e3542dd07",
        "colab": {
          "base_uri": "https://localhost:8080/",
          "height": 34
        }
      },
      "source": [
        "#A simple example: \n",
        "#If a particular book by Shakespeare, has x unique words, y average sentence lenght then the feature vector for this author would look as follows:\n",
        "\n",
        "# UniqueWords    AvgSentLenth     Label \n",
        "#      x             y              1 \n",
        "\n",
        "import numpy as np\n",
        "import nltk\n",
        "import glob\n",
        "import os\n",
        "from sklearn.feature_extraction.text import CountVectorizer\n",
        "from sklearn.cluster import KMeans\n",
        "from scipy.cluster.vq import whiten\n",
        "sentence_tokenizer = nltk.data.load('tokenizers/punkt/english.pickle')\n",
        "word_tokenizer = nltk.tokenize.RegexpTokenizer(r'\\w+')\n",
        "\n",
        "tokens = word_tokenize(RudyardKipling_Train)\n",
        "sentences = sentence_tokenizer.tokenize(RudyardKipling_Train)\n",
        "type(tokens)\n",
        "len(tokens)\n",
        "#tokens[:100]\n",
        "print(len(sentences))"
      ],
      "execution_count": 0,
      "outputs": [
        {
          "output_type": "stream",
          "text": [
            "598\n"
          ],
          "name": "stdout"
        }
      ]
    },
    {
      "cell_type": "code",
      "metadata": {
        "id": "n8tfB8CzEpJc",
        "colab_type": "code",
        "colab": {}
      },
      "source": [
        ""
      ],
      "execution_count": 0,
      "outputs": []
    },
    {
      "cell_type": "code",
      "metadata": {
        "id": "WKY7iiO1pgL1",
        "colab_type": "code",
        "colab": {
          "base_uri": "https://localhost:8080/",
          "height": 34
        },
        "outputId": "24685b09-af2c-4ffa-dcd4-73f4a7b2c841"
      },
      "source": [
        "import numpy as np\n",
        "import nltk\n",
        "import glob\n",
        "import os\n",
        "from sklearn.feature_extraction.text import CountVectorizer\n",
        "from sklearn.cluster import KMeans\n",
        "from scipy.cluster.vq import whiten\n",
        "sentence_tokenizer = nltk.data.load('tokenizers/punkt/english.pickle')\n",
        "word_tokenizer = nltk.tokenize.RegexpTokenizer(r'\\w+')\n",
        "\n",
        "# create feature vectors\n",
        "num_chapters = 12\n",
        "fvs_lexical = np.zeros((1, 2), np.float64)\n",
        "fvs_punct = np.zeros((1, 3), np.float64)\n",
        "\n",
        "fvs_lexical"
      ],
      "execution_count": 97,
      "outputs": [
        {
          "output_type": "execute_result",
          "data": {
            "text/plain": [
              "array([[0., 0.]])"
            ]
          },
          "metadata": {
            "tags": []
          },
          "execution_count": 97
        }
      ]
    },
    {
      "cell_type": "code",
      "metadata": {
        "id": "AlJVTn2pxWQm",
        "colab_type": "code",
        "colab": {}
      },
      "source": [
        "def split_stories(raw,index):\n",
        "  short_stories=[]\n",
        "  for i in range(0,len(index) -1):\n",
        "    short_stories.append( raw[raw.rfind(index[i]):raw.rfind(index[i+1])] )\n",
        "\n",
        "  return short_stories\n",
        "\n",
        "\n",
        "\n",
        "url_kipling = \"http://www.gutenberg.org/files/2781/2781-0.txt\"\n",
        "response_kipling = request.urlopen(url_kipling)\n",
        "raw_kipling = response_kipling.read().decode('utf8')\n",
        "index_kipling=['HOW THE WHALE GOT HIS THROAT',\n",
        "               'HOW THE CAMEL GOT HIS HUMP',\n",
        "               'HOW THE RHINOCEROS GOT HIS SKIN',\n",
        "               'HOW THE LEOPARD GOT HIS SPOTS',\n",
        "               'THE ELEPHANT’S CHILD',\n",
        "               'THE SING-SONG OF OLD MAN KANGAROO',\n",
        "               'THE BEGINNING OF THE ARMADILLOS',\n",
        "               'HOW THE FIRST LETTER WAS WRITTEN',\n",
        "               'HOW THE ALPHABET WAS MADE',\n",
        "               'THE CRAB THAT PLAYED WITH THE SEA',\n",
        "               'THE CAT THAT WALKED BY HIMSELF',\n",
        "               'THE BUTTERFLY THAT STAMPED',\n",
        "               'End of the Project Gutenberg EBook of Just So Stories, by Rudyard Kipling']\n",
        "\n",
        "\n",
        "url_chekov = \"http://www.gutenberg.org/files/1732/1732-0.txt\"\n",
        "response_chekov = request.urlopen(url_chekov)\n",
        "raw_chekov = response_chekov.read().decode('utf8')\n",
        "index_chekov=['THE SCHOOLMISTRESS',\n",
        "              'A NERVOUS BREAKDOWN',\n",
        "              'MISERY',\n",
        "              'CHAMPAGNE',\n",
        "              'AFTER THE THEATRE',\n",
        "              'A LADY’S STORY',\n",
        "              'IN EXILE',\n",
        "              'THE CATTLE-DEALERS',\n",
        "              'SORROW',\n",
        "              'ON OFFICIAL DUTY',\n",
        "              'THE FIRST-CLASS PASSENGER',\n",
        "              'A TRAGIC ACTOR',\n",
        "              'A TRANSGRESSION',\n",
        "              'SMALL FRY',\n",
        "              'THE REQUIEM',\n",
        "              'IN THE COACH-HOUSE',\n",
        "              'PANIC FEARS',\n",
        "              'THE BET',\n",
        "              'THE HEAD-GARDENER’S STORY',\n",
        "              'THE BEAUTIES',\n",
        "              'THE SHOEMAKER AND THE DEVIL',\n",
        "              'End of the Project Gutenberg EBook of The Schoolmistress and Other Stories, by Anton Chekhov']\n",
        "\n",
        "\n",
        "chekov_stories = split_stories(raw_chekov,index_chekov)\n",
        "rk_stories = split_stories(raw_kipling,index_kipling)"
      ],
      "execution_count": 0,
      "outputs": []
    },
    {
      "cell_type": "code",
      "metadata": {
        "id": "zaLDDIaO_pw3",
        "colab_type": "code",
        "colab": {
          "base_uri": "https://localhost:8080/",
          "height": 54
        },
        "outputId": "015fc147-95f9-44ca-b314-d01edef71fe5"
      },
      "source": [
        "chekov_stories[2]"
      ],
      "execution_count": 131,
      "outputs": [
        {
          "output_type": "execute_result",
          "data": {
            "text/plain": [
              "'MISERY\\r\\n\\r\\n“To whom shall I tell my grief?”\\r\\n\\r\\nTHE twilight of evening. Big flakes of wet snow are whirling lazily\\r\\nabout the street lamps, which have just been lighted, and lying in a\\r\\nthin soft layer on roofs, horses’ backs, shoulders, caps. Iona Potapov,\\r\\nthe sledge-driver, is all white like a ghost. He sits on the box without\\r\\nstirring, bent as double as the living body can be bent. If a regular\\r\\nsnowdrift fell on him it seems as though even then he would not think it\\r\\nnecessary to shake it off.... His little mare is white and motionless\\r\\ntoo. Her stillness, the angularity of her lines, and the stick-like\\r\\nstraightness of her legs make her look like a halfpenny gingerbread\\r\\nhorse. She is probably lost in thought. Anyone who has been torn away\\r\\nfrom the plough, from the familiar gray landscapes, and cast into this\\r\\nslough, full of monstrous lights, of unceasing uproar and hurrying\\r\\npeople, is bound to think.\\r\\n\\r\\nIt is a long time since Iona and his nag have budged. They came out of\\r\\nthe yard before dinnertime and not a single fare yet. But now the shades\\r\\nof evening are falling on the town. The pale light of the street lamps\\r\\nchanges to a vivid color, and the bustle of the street grows noisier.\\r\\n\\r\\n“Sledge to Vyborgskaya!” Iona hears. “Sledge!”\\r\\n\\r\\nIona starts, and through his snow-plastered eyelashes sees an officer in\\r\\na military overcoat with a hood over his head.\\r\\n\\r\\n“To Vyborgskaya,” repeats the officer. “Are you asleep? To Vyborgskaya!”\\r\\n\\r\\nIn token of assent Iona gives a tug at the reins which sends cakes of\\r\\nsnow flying from the horse’s back and shoulders. The officer gets into\\r\\nthe sledge. The sledge-driver clicks to the horse, cranes his neck like\\r\\na swan, rises in his seat, and more from habit than necessity brandishes\\r\\nhis whip. The mare cranes her neck, too, crooks her stick-like legs, and\\r\\nhesitatingly sets of....\\r\\n\\r\\n“Where are you shoving, you devil?” Iona immediately hears shouts from\\r\\nthe dark mass shifting to and fro before him. “Where the devil are you\\r\\ngoing? Keep to the r-right!”\\r\\n\\r\\n“You don’t know how to drive! Keep to the right,” says the officer\\r\\nangrily.\\r\\n\\r\\nA coachman driving a carriage swears at him; a pedestrian crossing\\r\\nthe road and brushing the horse’s nose with his shoulder looks at him\\r\\nangrily and shakes the snow off his sleeve. Iona fidgets on the box as\\r\\nthough he were sitting on thorns, jerks his elbows, and turns his eyes\\r\\nabout like one possessed as though he did not know where he was or why\\r\\nhe was there.\\r\\n\\r\\n“What rascals they all are!” says the officer jocosely. “They are simply\\r\\ndoing their best to run up against you or fall under the horse’s feet.\\r\\nThey must be doing it on purpose.”\\r\\n\\r\\nIona looks as his fare and moves his lips.... Apparently he means to\\r\\nsay something, but nothing comes but a sniff.\\r\\n\\r\\n“What?” inquires the officer.\\r\\n\\r\\nIona gives a wry smile, and straining his throat, brings out huskily:\\r\\n“My son... er... my son died this week, sir.”\\r\\n\\r\\n“H’m! What did he die of?”\\r\\n\\r\\nIona turns his whole body round to his fare, and says:\\r\\n\\r\\n“Who can tell! It must have been from fever.... He lay three days in\\r\\nthe hospital and then he died.... God’s will.”\\r\\n\\r\\n“Turn round, you devil!” comes out of the darkness. “Have you gone\\r\\ncracked, you old dog? Look where you are going!”\\r\\n\\r\\n“Drive on! drive on!...” says the officer. “We shan’t get there till\\r\\nto-morrow going on like this. Hurry up!”\\r\\n\\r\\nThe sledge-driver cranes his neck again, rises in his seat, and with\\r\\nheavy grace swings his whip. Several times he looks round at the\\r\\nofficer, but the latter keeps his eyes shut and is apparently\\r\\ndisinclined to listen. Putting his fare down at Vyborgskaya, Iona stops\\r\\nby a restaurant, and again sits huddled up on the box.... Again\\r\\nthe wet snow paints him and his horse white. One hour passes, and then\\r\\nanother....\\r\\n\\r\\nThree young men, two tall and thin, one short and hunchbacked, come up,\\r\\nrailing at each other and loudly stamping on the pavement with their\\r\\ngoloshes.\\r\\n\\r\\n“Cabby, to the Police Bridge!” the hunchback cries in a cracked voice.\\r\\n“The three of us,... twenty kopecks!”\\r\\n\\r\\nIona tugs at the reins and clicks to his horse. Twenty kopecks is not a\\r\\nfair price, but he has no thoughts for that. Whether it is a rouble or\\r\\nwhether it is five kopecks does not matter to him now so long as he\\r\\nhas a fare.... The three young men, shoving each other and using bad\\r\\nlanguage, go up to the sledge, and all three try to sit down at once.\\r\\nThe question remains to be settled: Which are to sit down and which one\\r\\nis to stand? After a long altercation, ill-temper, and abuse, they\\r\\ncome to the conclusion that the hunchback must stand because he is the\\r\\nshortest.\\r\\n\\r\\n“Well, drive on,” says the hunchback in his cracked voice, settling\\r\\nhimself and breathing down Iona’s neck. “Cut along! What a cap you’ve\\r\\ngot, my friend! You wouldn’t find a worse one in all Petersburg....”\\r\\n\\r\\n“He-he!... he-he!...” laughs Iona. “It’s nothing to boast of!”\\r\\n\\r\\n“Well, then, nothing to boast of, drive on! Are you going to drive like\\r\\nthis all the way? Eh? Shall I give you one in the neck?”\\r\\n\\r\\n“My head aches,” says one of the tall ones. “At the Dukmasovs’ yesterday\\r\\nVaska and I drank four bottles of brandy between us.”\\r\\n\\r\\n“I can’t make out why you talk such stuff,” says the other tall one\\r\\nangrily. “You lie like a brute.”\\r\\n\\r\\n“Strike me dead, it’s the truth!...”\\r\\n\\r\\n“It’s about as true as that a louse coughs.”\\r\\n\\r\\n“He-he!” grins Iona. “Me-er-ry gentlemen!”\\r\\n\\r\\n“Tfoo! the devil take you!” cries the hunchback indignantly. “Will you\\r\\nget on, you old plague, or won’t you? Is that the way to drive? Give her\\r\\none with the whip. Hang it all, give it her well.”\\r\\n\\r\\nIona feels behind his back the jolting person and quivering voice of\\r\\nthe hunchback. He hears abuse addressed to him, he sees people, and the\\r\\nfeeling of loneliness begins little by little to be less heavy on his\\r\\nheart. The hunchback swears at him, till he chokes over some elaborately\\r\\nwhimsical string of epithets and is overpowered by his cough. His tall\\r\\ncompanions begin talking of a certain Nadyezhda Petrovna. Iona looks\\r\\nround at them. Waiting till there is a brief pause, he looks round once\\r\\nmore and says:\\r\\n\\r\\n“This week... er... my... er... son died!”\\r\\n\\r\\n“We shall all die,...” says the hunchback with a sigh, wiping his\\r\\nlips after coughing. “Come, drive on! drive on! My friends, I simply\\r\\ncannot stand crawling like this! When will he get us there?”\\r\\n\\r\\n“Well, you give him a little encouragement... one in the neck!”\\r\\n\\r\\n“Do you hear, you old plague? I’ll make you smart. If one stands on\\r\\nceremony with fellows like you one may as well walk. Do you hear, you\\r\\nold dragon? Or don’t you care a hang what we say?”\\r\\n\\r\\nAnd Iona hears rather than feels a slap on the back of his neck.\\r\\n\\r\\n“He-he!...” he laughs. “Merry gentlemen.... God give you\\r\\nhealth!”\\r\\n\\r\\n“Cabman, are you married?” asks one of the tall ones.\\r\\n\\r\\n“I? He he! Me-er-ry gentlemen. The only wife for me now is the damp\\r\\nearth.... He-ho-ho!.... The grave that is!... Here my son’s dead\\r\\nand I am alive.... It’s a strange thing, death has come in at the\\r\\nwrong door.... Instead of coming for me it went for my son....”\\r\\n\\r\\nAnd Iona turns round to tell them how his son died, but at that point\\r\\nthe hunchback gives a faint sigh and announces that, thank God! they\\r\\nhave arrived at last. After taking his twenty kopecks, Iona gazes for a\\r\\nlong while after the revelers, who disappear into a dark entry. Again he\\r\\nis alone and again there is silence for him.... The misery which has\\r\\nbeen for a brief space eased comes back again and tears his heart more\\r\\ncruelly than ever. With a look of anxiety and suffering Iona’s eyes\\r\\nstray restlessly among the crowds moving to and fro on both sides of the\\r\\nstreet: can he not find among those thousands someone who will listen\\r\\nto him? But the crowds flit by heedless of him and his misery.... His\\r\\nmisery is immense, beyond all bounds. If Iona’s heart were to burst and\\r\\nhis misery to flow out, it would flood the whole world, it seems, but\\r\\nyet it is not seen. It has found a hiding-place in such an insignificant\\r\\nshell that one would not have found it with a candle by daylight....\\r\\n\\r\\nIona sees a house-porter with a parcel and makes up his mind to address\\r\\nhim.\\r\\n\\r\\n“What time will it be, friend?” he asks.\\r\\n\\r\\n“Going on for ten.... Why have you stopped here? Drive on!”\\r\\n\\r\\nIona drives a few paces away, bends himself double, and gives himself\\r\\nup to his misery. He feels it is no good to appeal to people. But before\\r\\nfive minutes have passed he draws himself up, shakes his head as though\\r\\nhe feels a sharp pain, and tugs at the reins.... He can bear it no\\r\\nlonger.\\r\\n\\r\\n“Back to the yard!” he thinks. “To the yard!”\\r\\n\\r\\nAnd his little mare, as though she knew his thoughts, falls to trotting.\\r\\nAn hour and a half later Iona is sitting by a big dirty stove. On the\\r\\nstove, on the floor, and on the benches are people snoring. The air\\r\\nis full of smells and stuffiness. Iona looks at the sleeping figures,\\r\\nscratches himself, and regrets that he has come home so early....\\r\\n\\r\\n“I have not earned enough to pay for the oats, even,” he thinks. “That’s\\r\\nwhy I am so miserable. A man who knows how to do his work,... who has\\r\\nhad enough to eat, and whose horse has had enough to eat, is always at\\r\\nease....”\\r\\n\\r\\nIn one of the corners a young cabman gets up, clears his throat\\r\\nsleepily, and makes for the water-bucket.\\r\\n\\r\\n“Want a drink?” Iona asks him.\\r\\n\\r\\n“Seems so.”\\r\\n\\r\\n“May it do you good.... But my son is dead, mate.... Do you hear?\\r\\nThis week in the hospital.... It’s a queer business....”\\r\\n\\r\\nIona looks to see the effect produced by his words, but he sees nothing.\\r\\nThe young man has covered his head over and is already asleep. The old\\r\\nman sighs and scratches himself.... Just as the young man had been\\r\\nthirsty for water, he thirsts for speech. His son will soon have been\\r\\ndead a week, and he has not really talked to anybody yet.... He\\r\\nwants to talk of it properly, with deliberation.... He wants to tell\\r\\nhow his son was taken ill, how he suffered, what he said before he died,\\r\\nhow he died.... He wants to describe the funeral, and how he went to\\r\\nthe hospital to get his son’s clothes. He still has his daughter Anisya\\r\\nin the country.... And he wants to talk about her too.... Yes, he\\r\\nhas plenty to talk about now. His listener ought to sigh and exclaim and\\r\\nlament.... It would be even better to talk to women. Though they are\\r\\nsilly creatures, they blubber at the first word.\\r\\n\\r\\n“Let’s go out and have a look at the mare,” Iona thinks. “There is\\r\\nalways time for sleep.... You’ll have sleep enough, no fear....”\\r\\n\\r\\nHe puts on his coat and goes into the stables where his mare is\\r\\nstanding. He thinks about oats, about hay, about the weather.... He\\r\\ncannot think about his son when he is alone.... To talk about\\r\\nhim with someone is possible, but to think of him and picture him is\\r\\ninsufferable anguish....\\r\\n\\r\\n“Are you munching?” Iona asks his mare, seeing her shining eyes. “There,\\r\\nmunch away, munch away.... Since we have not earned enough for oats,\\r\\nwe will eat hay.... Yes,... I have grown too old to drive....\\r\\nMy son ought to be driving, not I.... He was a real cabman.... He\\r\\nought to have lived....”\\r\\n\\r\\nIona is silent for a while, and then he goes on:\\r\\n\\r\\n“That’s how it is, old girl.... Kuzma Ionitch is gone.... He said\\r\\ngood-by to me.... He went and died for no reason.... Now, suppose\\r\\nyou had a little colt, and you were own mother to that little colt.\\r\\n... And all at once that same little colt went and died.... You’d\\r\\nbe sorry, wouldn’t you?...”\\r\\n\\r\\nThe little mare munches, listens, and breathes on her master’s hands.\\r\\nIona is carried away and tells her all about it.\\r\\n\\r\\n\\r\\n\\r\\n\\r\\n'"
            ]
          },
          "metadata": {
            "tags": []
          },
          "execution_count": 131
        }
      ]
    },
    {
      "cell_type": "code",
      "metadata": {
        "id": "nh6e5txZFt_3",
        "colab_type": "code",
        "colab": {
          "base_uri": "https://localhost:8080/",
          "height": 34
        },
        "outputId": "7490610f-657a-4044-bac0-4cbe9ce20162"
      },
      "source": [
        "type(chekov_stories)"
      ],
      "execution_count": 102,
      "outputs": [
        {
          "output_type": "execute_result",
          "data": {
            "text/plain": [
              "list"
            ]
          },
          "metadata": {
            "tags": []
          },
          "execution_count": 102
        }
      ]
    },
    {
      "cell_type": "code",
      "metadata": {
        "id": "wrF5gAGbEw2M",
        "colab_type": "code",
        "colab": {}
      },
      "source": [
        "for e, ch_text in enumerate(chekov_stories[1]):\n",
        "    # note: the nltk.word_tokenize includes punctuation\n",
        "    tokens = nltk.word_tokenize(ch_text.lower())\n",
        "    words = word_tokenizer.tokenize(ch_text.lower())\n",
        "    sentences = sentence_tokenizer.tokenize(ch_text)\n",
        "    vocab = set(words)\n",
        "    words_per_sentence = np.array([len(word_tokenizer.tokenize(s))\n",
        "                                   for s in sentences])\n",
        "    print(sentences)\n",
        "    "
      ],
      "execution_count": 0,
      "outputs": []
    },
    {
      "cell_type": "code",
      "metadata": {
        "id": "GNde0aew-ITY",
        "colab_type": "code",
        "colab": {
          "base_uri": "https://localhost:8080/",
          "height": 34
        },
        "outputId": "b9815c7d-9fed-421b-f576-1374da7eb02c"
      },
      "source": [
        "for i in range(0, 21):\n",
        "    var1='Story'+ str(i) + '.txt'\n",
        "    with open(var1, 'wb') as fp:\n",
        "      pickle.dump(chekov_stories[i], fp)\n",
        "print('end of loop',var1)"
      ],
      "execution_count": 92,
      "outputs": [
        {
          "output_type": "stream",
          "text": [
            "end of loop Story20.txt\n"
          ],
          "name": "stdout"
        }
      ]
    },
    {
      "cell_type": "code",
      "metadata": {
        "id": "hQNKEkVCX0aP",
        "colab_type": "code",
        "colab": {}
      },
      "source": [
        "import numpy as np\n",
        "import pandas as pd\n",
        "import os\n",
        "\n",
        "import lightgbm as lgb\n",
        "from sklearn.naive_bayes import MultinomialNB\n",
        "\n",
        "from tqdm import tqdm\n",
        "from sklearn.feature_extraction.text import CountVectorizer, TfidfVectorizer\n",
        "from sklearn.model_selection import train_test_split\n",
        "from sklearn.metrics import accuracy_score, log_loss\n",
        "from sklearn.model_selection import KFold\n",
        "\n",
        "tqdm.pandas()"
      ],
      "execution_count": 0,
      "outputs": []
    },
    {
      "cell_type": "code",
      "metadata": {
        "id": "zO7cVrQvX9EE",
        "colab_type": "code",
        "colab": {}
      },
      "source": [
        "author, story = [], []\n",
        "for line in chekov_stories:\n",
        "    content = line.split()\n",
        "    author.append('chekov')\n",
        "    story.append(\" \".join(content[1:]))\n"
      ],
      "execution_count": 0,
      "outputs": []
    },
    {
      "cell_type": "code",
      "metadata": {
        "id": "srIDmqNkZbMJ",
        "colab_type": "code",
        "colab": {}
      },
      "source": [
        "story"
      ],
      "execution_count": 0,
      "outputs": []
    },
    {
      "cell_type": "code",
      "metadata": {
        "id": "__0T-QvhYWhY",
        "colab_type": "code",
        "colab": {}
      },
      "source": [
        "from sklearn import model_selection, preprocessing, linear_model, naive_bayes, metrics, svm\n",
        "from sklearn.feature_extraction.text import TfidfVectorizer, CountVectorizer\n",
        "from sklearn import decomposition, ensemble\n",
        "\n",
        "import pandas, xgboost, numpy, textblob, string\n",
        "from keras.preprocessing import text, sequence\n",
        "from keras import layers, models, optimizers\n",
        "# create a dataframe using texts and lables\n",
        "trainDF = pandas.DataFrame()\n",
        "trainDF['author'] = author\n",
        "trainDF['story'] = story\n",
        "trainDF"
      ],
      "execution_count": 0,
      "outputs": []
    },
    {
      "cell_type": "code",
      "metadata": {
        "id": "dvCDNPvyYojM",
        "colab_type": "code",
        "colab": {}
      },
      "source": [
        "author, story = [], []\n",
        "for line in rk_stories:\n",
        "    content = line.split()\n",
        "    author.append('rk')\n",
        "    story.append(\" \".join(content[1:]))\n",
        "    \n",
        "# create a dataframe using texts and lables\n",
        "trainDF1 = pandas.DataFrame()\n",
        "trainDF1['author'] = author\n",
        "trainDF1['story'] = story\n",
        "trainDF1"
      ],
      "execution_count": 0,
      "outputs": []
    },
    {
      "cell_type": "code",
      "metadata": {
        "id": "Q4C_6kUGatBZ",
        "colab_type": "code",
        "colab": {}
      },
      "source": [
        "authors_corpus = pd.concat([trainDF, trainDF1])\n",
        "authors_corpus"
      ],
      "execution_count": 0,
      "outputs": []
    },
    {
      "cell_type": "code",
      "metadata": {
        "id": "AbHB6ekQa8Oo",
        "colab_type": "code",
        "colab": {}
      },
      "source": [
        "# split the dataset into training and validation datasets \n",
        "train_x, valid_x, train_y, valid_y = model_selection.train_test_split(authors_corpus['story'], authors_corpus['author'])\n",
        "\n",
        "# label encode the target variable \n",
        "encoder = preprocessing.LabelEncoder()\n",
        "train_y = encoder.fit_transform(train_y)\n",
        "valid_y = encoder.fit_transform(valid_y)"
      ],
      "execution_count": 0,
      "outputs": []
    },
    {
      "cell_type": "code",
      "metadata": {
        "id": "4PR481QJbJPX",
        "colab_type": "code",
        "colab": {
          "base_uri": "https://localhost:8080/",
          "height": 34
        },
        "outputId": "c3a94743-ef54-48e6-a7e4-9a2f7bad123b"
      },
      "source": [
        "len(train_x)"
      ],
      "execution_count": 158,
      "outputs": [
        {
          "output_type": "execute_result",
          "data": {
            "text/plain": [
              "24"
            ]
          },
          "metadata": {
            "tags": []
          },
          "execution_count": 158
        }
      ]
    },
    {
      "cell_type": "code",
      "metadata": {
        "id": "w0SO2vhwBKgT",
        "colab_type": "code",
        "colab": {},
        "cellView": "form"
      },
      "source": [
        "#@title\n",
        "import numpy as np\n",
        "import re\n",
        "import nltk\n",
        "import glob\n",
        "import os\n",
        "from sklearn.feature_extraction.text import CountVectorizer\n",
        "from sklearn.cluster import KMeans\n",
        "from scipy.cluster.vq import whiten\n",
        "sentence_tokenizer = nltk.data.load('tokenizers/punkt/english.pickle')\n",
        "word_tokenizer = nltk.tokenize.RegexpTokenizer(r'\\w+')\n",
        " \n",
        "# Load data\n",
        "data_folder = r\"\"\n",
        "files = sorted(glob.glob(os.path.join(data_folder, \"Story*.txt\")))\n",
        "chapters = []\n",
        "for fn in files:\n",
        "    with open(fn) as f:\n",
        "        chapters.append(f.read())\n",
        "    print(fn)\n",
        "all_text = ' '.join(chapters)"
      ],
      "execution_count": 0,
      "outputs": []
    },
    {
      "cell_type": "code",
      "metadata": {
        "id": "99LCk7yZLL_K",
        "colab_type": "code",
        "colab": {
          "base_uri": "https://localhost:8080/",
          "height": 986
        },
        "outputId": "7e9e7fb3-68e4-4620-82a5-c5cb8fe2efda"
      },
      "source": [
        "# create feature vectors\n",
        "num_chapters = len(train_x)\n",
        "fvs_lexical = np.zeros((len(train_x), 3), np.float64)\n",
        "fvs_punct = np.zeros((len(train_x), 3), np.float64)\n",
        "for e, ch_text in enumerate(train_x):\n",
        "    # note: the nltk.word_tokenize includes punctuation\n",
        "    tokens = nltk.word_tokenize(ch_text.lower())\n",
        "    words = word_tokenizer.tokenize(ch_text.lower())\n",
        "    sentences = sentence_tokenizer.tokenize(ch_text)\n",
        "    vocab = set(words)\n",
        "    words_per_sentence = np.array([len(word_tokenizer.tokenize(s))\n",
        "                                   for s in sentences])\n",
        " \n",
        "    # average number of words per sentence\n",
        "    fvs_lexical[e, 0] = words_per_sentence.mean()\n",
        "    # sentence length variation\n",
        "    fvs_lexical[e, 1] = words_per_sentence.std()\n",
        "    # Lexical diversity\n",
        "    if len(words) > 0 :\n",
        "      fvs_lexical[e, 2] = len(vocab) / float(len(words))\n",
        "    else :\n",
        "      fvs_lexical[e, 2] = 0\n",
        "    if len(sentences) > 0 :\n",
        "      fvs_punct[e, 0] = tokens.count(',') / float(len(sentences))\n",
        "      # Semicolons per sentence\n",
        "      fvs_punct[e, 1] = tokens.count(';') / float(len(sentences))\n",
        "      # Colons per sentence\n",
        "      fvs_punct[e, 2] = tokens.count(':') / float(len(sentences))\n",
        "    else :\n",
        "      fvs_punct[e, 0] = 0\n",
        "      # Semicolons per sentence\n",
        "      fvs_punct[e, 1] = 0\n",
        "      # Colons per sentence\n",
        "      fvs_punct[e, 2] = 0\n",
        "\n",
        "      \n",
        "      \n",
        "# apply whitening to decorrelate the features\n",
        "print(fvs_lexical,fvs_punct)"
      ],
      "execution_count": 164,
      "outputs": [
        {
          "output_type": "stream",
          "text": [
            "/usr/local/lib/python3.6/dist-packages/ipykernel_launcher.py:14: RuntimeWarning: Mean of empty slice.\n",
            "  \n",
            "/usr/local/lib/python3.6/dist-packages/numpy/core/_methods.py:85: RuntimeWarning: invalid value encountered in double_scalars\n",
            "  ret = ret.dtype.type(ret / rcount)\n",
            "/usr/local/lib/python3.6/dist-packages/numpy/core/_methods.py:140: RuntimeWarning: Degrees of freedom <= 0 for slice\n",
            "  keepdims=keepdims)\n",
            "/usr/local/lib/python3.6/dist-packages/numpy/core/_methods.py:110: RuntimeWarning: invalid value encountered in true_divide\n",
            "  arrmean, rcount, out=arrmean, casting='unsafe', subok=False)\n",
            "/usr/local/lib/python3.6/dist-packages/numpy/core/_methods.py:132: RuntimeWarning: invalid value encountered in double_scalars\n",
            "  ret = ret.dtype.type(ret / rcount)\n"
          ],
          "name": "stderr"
        },
        {
          "output_type": "stream",
          "text": [
            "[[23.57317073 13.27755348  0.37403001]\n",
            " [22.5049505  15.58599509  0.34095908]\n",
            " [18.8028169  12.08260269  0.39625468]\n",
            " [20.84656085 17.42687675  0.24365482]\n",
            " [35.         26.41240967  0.22380952]\n",
            " [33.2970297  24.77044892  0.29438002]\n",
            " [15.3        10.0389954   0.32212885]\n",
            " [26.26470588 13.94170389  0.33482643]\n",
            " [31.19444444 20.08291071  0.29118433]\n",
            " [28.68217054 25.37745581  0.18891892]\n",
            " [26.17254902 23.65606566  0.21651184]\n",
            " [23.35294118 17.53482831  0.21858382]\n",
            " [        nan         nan  0.        ]\n",
            " [19.78787879 14.37769418  0.22358346]\n",
            " [19.04201681 12.44037542  0.32877317]\n",
            " [20.39170507 15.91563372  0.2080226 ]\n",
            " [23.175      18.53450049  0.18985976]\n",
            " [38.56603774 35.47893844  0.15533268]\n",
            " [32.26470588 31.98097672  0.349134  ]\n",
            " [17.31578947 12.21863388  0.38525836]\n",
            " [17.76470588 13.24962187  0.34381898]\n",
            " [23.30645161 18.95332868  0.23892734]\n",
            " [19.7254902  14.04904355  0.35536779]\n",
            " [23.8        21.98817864  0.31344538]] [[1.68292683 0.13414634 0.09756098]\n",
            " [1.47524752 0.14851485 0.04950495]\n",
            " [1.16901408 0.01408451 0.01408451]\n",
            " [1.63492063 0.22222222 0.07936508]\n",
            " [3.41025641 0.25641026 0.03846154]\n",
            " [3.05940594 0.21782178 0.06930693]\n",
            " [0.96428571 0.00714286 0.04285714]\n",
            " [1.70588235 0.11764706 0.05882353]\n",
            " [2.22222222 0.5        0.        ]\n",
            " [2.11627907 0.31007752 0.        ]\n",
            " [2.36078431 0.29803922 0.08627451]\n",
            " [1.65359477 0.16339869 0.00653595]\n",
            " [0.         0.         0.        ]\n",
            " [1.38292011 0.12121212 0.0523416 ]\n",
            " [1.3697479  0.10084034 0.02521008]\n",
            " [1.73732719 0.13364055 0.06682028]\n",
            " [1.56666667 0.175      0.        ]\n",
            " [2.6509434  0.27358491 0.00943396]\n",
            " [3.26470588 0.20588235 0.        ]\n",
            " [1.39473684 0.09210526 0.05263158]\n",
            " [1.43137255 0.04901961 0.05882353]\n",
            " [1.375      0.0483871  0.13709677]\n",
            " [1.71568627 0.03921569 0.03921569]\n",
            " [1.6        0.62       0.08      ]]\n"
          ],
          "name": "stdout"
        }
      ]
    },
    {
      "cell_type": "markdown",
      "metadata": {
        "id": "6VzunoGiEau5",
        "colab_type": "text"
      },
      "source": [
        "###  5 Marks-> b) Write functions for generated 8 of the above 10 features you described"
      ]
    },
    {
      "cell_type": "code",
      "metadata": {
        "id": "9D1YKTNkeOeS",
        "colab_type": "code",
        "colab": {}
      },
      "source": [
        "def"
      ],
      "execution_count": 0,
      "outputs": []
    },
    {
      "cell_type": "markdown",
      "metadata": {
        "id": "QiJOpSJ0yJod",
        "colab_type": "text"
      },
      "source": [
        "## Stage 3: Experiment with text processing and representation:\n",
        "TFIDF or CountVectorizer or Word2vec features \n"
      ]
    },
    {
      "cell_type": "code",
      "metadata": {
        "id": "5eGKKIpfe2O-",
        "colab_type": "code",
        "colab": {}
      },
      "source": [
        "# create a count vectorizer object \n",
        "count_vect = CountVectorizer(analyzer='word', token_pattern=r'\\w{1,}')\n",
        "count_vect.fit(trainDF['story'])\n",
        "\n",
        "# transform the training and validation data using count vectorizer object\n",
        "xtrain_count =  count_vect.transform(train_x)\n",
        "xvalid_count =  count_vect.transform(valid_x)\n",
        "\n",
        "print(xtrain_count,xvalid_count)"
      ],
      "execution_count": 0,
      "outputs": []
    },
    {
      "cell_type": "code",
      "metadata": {
        "id": "HtJ9ATzHfPZo",
        "colab_type": "code",
        "colab": {}
      },
      "source": [
        "# word level tf-idf\n",
        "tfidf_vect = TfidfVectorizer(analyzer='word', token_pattern=r'\\w{1,}', max_features=5000)\n",
        "tfidf_vect.fit(trainDF['story'])\n",
        "xtrain_tfidf =  tfidf_vect.transform(train_x)\n",
        "xvalid_tfidf =  tfidf_vect.transform(valid_x)\n",
        "\n",
        "print('# word level tf-idf',xtrain_tfidf,xvalid_tfidf)\n",
        "\n",
        "# ngram level tf-idf \n",
        "tfidf_vect_ngram = TfidfVectorizer(analyzer='word', token_pattern=r'\\w{1,}', ngram_range=(2,3), max_features=5000)\n",
        "tfidf_vect_ngram.fit(trainDF['story'])\n",
        "xtrain_tfidf_ngram =  tfidf_vect_ngram.transform(train_x)\n",
        "xvalid_tfidf_ngram =  tfidf_vect_ngram.transform(valid_x)\n",
        "\n",
        "print('# ngram level tf-idf ',xtrain_tfidf_ngram,xvalid_tfidf_ngram)\n",
        "\n",
        "# characters level tf-idf\n",
        "tfidf_vect_ngram_chars = TfidfVectorizer(analyzer='char', token_pattern=r'\\w{1,}', ngram_range=(2,3), max_features=5000)\n",
        "tfidf_vect_ngram_chars.fit(trainDF['story'])\n",
        "xtrain_tfidf_ngram_chars =  tfidf_vect_ngram_chars.transform(train_x) \n",
        "xvalid_tfidf_ngram_chars =  tfidf_vect_ngram_chars.transform(valid_x) \n",
        "\n",
        "print('# characters level tf-idf ',xtrain_tfidf_ngram_chars,xvalid_tfidf_ngram_chars)\n"
      ],
      "execution_count": 0,
      "outputs": []
    },
    {
      "cell_type": "markdown",
      "metadata": {
        "colab_type": "text",
        "id": "ecMmcZfm_Eek"
      },
      "source": [
        "### 3 Marks->  a) Performing basic cleanup operations such as removing the newline characters and removing trailing spaces\n",
        "For example: If you text looks as follows \\[' This is a sentence\\n\\r. Another sentence \\n'], after newline removal your sentence would look like \\['This is sentence a . Another sentence'] . In order to do this you can try using a combination of split() and join()"
      ]
    },
    {
      "cell_type": "code",
      "metadata": {
        "colab_type": "code",
        "id": "vw2DhQGK_Eel",
        "colab": {}
      },
      "source": [
        "##################### YOUR CODE HERE ##################################\n",
        "\n",
        "\n",
        "# Clean text\n",
        "punctuation = ['.', '..', '...', ',', ':', ';', '-', '*', '\"', '!', '?']\n",
        "def clean_text(x):\n",
        "    x.lower()\n",
        "    for p in punctuation:\n",
        "        x.replace(p, '')\n",
        "    return x\n",
        "\n",
        "train_x['story_cleaned'] = train_x['story'].apply(lambda x: clean_text(x))\n",
        "#valid_x['story_cleaned'] = valid_x['text'].apply(lambda x: clean_text(x))\n"
      ],
      "execution_count": 0,
      "outputs": []
    },
    {
      "cell_type": "code",
      "metadata": {
        "id": "lMGFUIB4h-EA",
        "colab_type": "code",
        "colab": {}
      },
      "source": [
        "#df=authors_corpus\n",
        "authors_corpus['story'] = authors_corpus['story'].str.strip(r'\\\\r')\n",
        "authors_corpus['story'] = authors_corpus['story'].str.strip(r'\\\\n')\n",
        "\n",
        "  \n",
        "  "
      ],
      "execution_count": 0,
      "outputs": []
    },
    {
      "cell_type": "code",
      "metadata": {
        "id": "jPd7ERPrpvOG",
        "colab_type": "code",
        "colab": {}
      },
      "source": [
        "authors_corpus=authors_corpus.drop('text_cleaned', axis=1)"
      ],
      "execution_count": 0,
      "outputs": []
    },
    {
      "cell_type": "code",
      "metadata": {
        "id": "OEMLBmBAntXx",
        "colab_type": "code",
        "colab": {}
      },
      "source": [
        "classes = {\n",
        "    'chekov': 0,\n",
        "    'rk': 1\n",
        "}\n",
        "\n",
        "authors_corpus['author'] = authors_corpus['author'].apply(lambda x: classes[x])\n"
      ],
      "execution_count": 0,
      "outputs": []
    },
    {
      "cell_type": "code",
      "metadata": {
        "id": "iA_ewv7mpUr1",
        "colab_type": "code",
        "colab": {}
      },
      "source": [
        "authors_corpus"
      ],
      "execution_count": 0,
      "outputs": []
    },
    {
      "cell_type": "code",
      "metadata": {
        "id": "QN5HJ5_qoECz",
        "colab_type": "code",
        "colab": {}
      },
      "source": [
        "\n",
        "\n",
        "from sklearn.model_selection import train_test_split\n",
        "\n",
        "train, test = train_test_split(authors_corpus, test_size=0.2)\n"
      ],
      "execution_count": 0,
      "outputs": []
    },
    {
      "cell_type": "code",
      "metadata": {
        "id": "OgDe3j0UoK0o",
        "colab_type": "code",
        "colab": {}
      },
      "source": [
        "# Clean text\n",
        "punctuation = ['.', '..', '...', ',', ':', ';', '-', '*', '\"', '!', '?']\n",
        "def clean_text(x):\n",
        "    x.lower()\n",
        "    for p in punctuation:\n",
        "        x.replace(p, '')\n",
        "    return x\n",
        "\n",
        "train['text_cleaned'] = train['story'].apply(lambda x: clean_text(x))\n",
        "test['text_cleaned'] = test['story'].apply(lambda x: clean_text(x))"
      ],
      "execution_count": 0,
      "outputs": []
    },
    {
      "cell_type": "code",
      "metadata": {
        "id": "vUqEvfiKoUw3",
        "colab_type": "code",
        "colab": {}
      },
      "source": [
        "train"
      ],
      "execution_count": 0,
      "outputs": []
    },
    {
      "cell_type": "code",
      "metadata": {
        "id": "khB19afloeED",
        "colab_type": "code",
        "colab": {}
      },
      "source": [
        "# Count Vectorizer\n",
        "cvect = CountVectorizer(ngram_range=(1, 3), stop_words='english')\n",
        "cvect.fit(pd.concat((train['text_cleaned'], test['text_cleaned']), axis=0))\n",
        "cvect_train = cvect.transform(train['text_cleaned'])\n",
        "cvect_test = cvect.transform(test['text_cleaned'])\n",
        "\n",
        "# TFIDF\n",
        "tfidf = TfidfVectorizer(ngram_range=(1, 1), stop_words='english')\n",
        "tfidf.fit(pd.concat((train['text_cleaned'], test['text_cleaned']), axis=0))\n",
        "tfidf_train = tfidf.transform(train['text_cleaned'])\n",
        "tfidf_test = tfidf.transform(test['text_cleaned'])"
      ],
      "execution_count": 0,
      "outputs": []
    },
    {
      "cell_type": "code",
      "metadata": {
        "id": "T8K4g7sEkTBM",
        "colab_type": "code",
        "colab": {}
      },
      "source": [
        "# split the dataset into training and validation datasets \n",
        "train_x, valid_x, train_y, valid_y = model_selection.train_test_split(authors_corpus['story'], authors_corpus['author'])\n",
        "\n",
        "# label encode the target variable \n",
        "encoder = preprocessing.LabelEncoder()\n",
        "train_y = encoder.fit_transform(train_y)\n",
        "valid_y = encoder.fit_transform(valid_y)"
      ],
      "execution_count": 0,
      "outputs": []
    },
    {
      "cell_type": "markdown",
      "metadata": {
        "colab_type": "text",
        "id": "A5cmTI9-_Eeq"
      },
      "source": [
        "### 3 Marks-> b) Tokenize the sentence\n",
        "**Example of a tokenized sentence:** <br/>Using same example from the previous cell, after tokenization the sentence <br/> \\['This is sentence a . Another sentence']  would now be split into two sentences i.e. two elements in the list as follows:  \\['This is a sentence .' , ' Another sentence']  \n",
        "<br/>\n",
        "You may further choose to break sentences to individual words **if needed. **<br/>\n",
        "**Example of sentences as list of words:**<br/>\n",
        "**Before:** ['This is a sentence .' , ' Another sentence']<br/>\n",
        "**After:** ['This', 'is' ,'a', 'sentence' , ' . ' , ' Another ', ' sentence ' ]\n",
        "\n",
        "Hint: Consider using 'List comprehensions', whereby you split the sentence with spaces (using split('')) and populate the resulting output a list comprehension.\n",
        "\n"
      ]
    },
    {
      "cell_type": "code",
      "metadata": {
        "id": "N2ITGLQ4nC8M",
        "colab_type": "code",
        "colab": {}
      },
      "source": [
        ""
      ],
      "execution_count": 0,
      "outputs": []
    },
    {
      "cell_type": "markdown",
      "metadata": {
        "colab_type": "text",
        "id": "lgEtwoYw_Eet"
      },
      "source": [
        "###  1 Mark-> c) Is stop word removal necessary in the context of author identification? Your thoughts below?"
      ]
    },
    {
      "cell_type": "code",
      "metadata": {
        "colab_type": "code",
        "id": "mLrl-HCA_Eeu",
        "colab": {}
      },
      "source": [
        "###### YOUR ANSWER IN TEXT##########\n",
        "import numpy as np\n",
        "import pandas as pd\n",
        "import os\n",
        "\n",
        "import lightgbm as lgb\n",
        "from sklearn.naive_bayes import MultinomialNB\n",
        "\n",
        "from tqdm import tqdm\n",
        "from sklearn.feature_extraction.text import CountVectorizer, TfidfVectorizer\n",
        "from sklearn.model_selection import train_test_split\n",
        "from sklearn.metrics import accuracy_score, log_loss\n",
        "from sklearn.model_selection import KFold\n",
        "\n",
        "\n"
      ],
      "execution_count": 0,
      "outputs": []
    },
    {
      "cell_type": "markdown",
      "metadata": {
        "colab_type": "text",
        "id": "Z64gLpY2_Ee1"
      },
      "source": [
        "###  4 Marks-> c) Construct a labelled dataset of sentences"
      ]
    },
    {
      "cell_type": "markdown",
      "metadata": {
        "id": "rbkfSFT2xXJY",
        "colab_type": "text"
      },
      "source": [
        "To create a representation of text, convert it into vectors (numbers).** Use any one ** of the following algorithms for the task :\n",
        "\n",
        "* Countvectorizer or\n",
        "* TFIDFVectorizer or \n",
        "* Word2Vec \n",
        "\n",
        "References Documents: \n",
        "\n",
        "1.   [Countvectorizer](https://scikit-learn.org/stable/modules/generated/sklearn.feature_extraction.text.CountVectorizer.html)\n",
        "2.  [TFIDFVectorizer](https://scikit-learn.org/stable/modules/generated/sklearn.feature_extraction.text.TfidfVectorizer.html)\n"
      ]
    },
    {
      "cell_type": "code",
      "metadata": {
        "id": "Kyk9-3BRhCf-",
        "colab_type": "code",
        "colab": {}
      },
      "source": [
        "############################ YOUR CODE HERE###########################\n",
        "\n",
        "#Define a vectorizer\n",
        "\n",
        "#fit_transform your data to teh vectorizer\n",
        "\n",
        "#Convert to numpy array if needed"
      ],
      "execution_count": 0,
      "outputs": []
    },
    {
      "cell_type": "code",
      "metadata": {
        "id": "4QhnnX13-bwB",
        "colab_type": "code",
        "colab": {}
      },
      "source": [
        ""
      ],
      "execution_count": 0,
      "outputs": []
    },
    {
      "cell_type": "markdown",
      "metadata": {
        "id": "p9eqZubqiRKi",
        "colab_type": "text"
      },
      "source": [
        "## 4 Marks-> Stage 4: Classification :\n",
        "Perform a classification using either features obtained from Step2 or Step3"
      ]
    },
    {
      "cell_type": "code",
      "metadata": {
        "id": "lKmfqV25a05p",
        "colab_type": "code",
        "colab": {}
      },
      "source": [
        "##############################################YOUR CODE HERE###############################"
      ],
      "execution_count": 0,
      "outputs": []
    },
    {
      "cell_type": "markdown",
      "metadata": {
        "id": "gXGRHmvSJWRd",
        "colab_type": "text"
      },
      "source": [
        "# Further Ideas for exploration after the hackathon:\n",
        "\n",
        "**Statistical analysis** of text using NLP, by analysis meaning of sentences, feature based grammars and analyzing structure of sentences! For all of this you can reference www.nltk.org/book"
      ]
    },
    {
      "cell_type": "markdown",
      "metadata": {
        "id": "g58h65mTksRp",
        "colab_type": "text"
      },
      "source": [
        "### Please answer the questions below to complete the experiment:"
      ]
    },
    {
      "cell_type": "code",
      "metadata": {
        "id": "T8XIzcPTkt4O",
        "colab_type": "code",
        "colab": {}
      },
      "source": [
        "#@title How was the experiment? { run: \"auto\", form-width: \"500px\", display-mode: \"form\" }\n",
        "Complexity = \" \" #@param [\"Too Simple, I am wasting time\", \"Good, But Not Challenging for me\", \"Good and Challenging for me\", \"Was Tough, but I did it\", \"Too Difficult for me\"]\n"
      ],
      "execution_count": 0,
      "outputs": []
    },
    {
      "cell_type": "code",
      "metadata": {
        "id": "CEVU8zoYkwZY",
        "colab_type": "code",
        "colab": {}
      },
      "source": [
        "#@title If it was very easy, what more you would have liked to have been added? If it was very difficult, what would you have liked to have been removed? { run: \"auto\", display-mode: \"form\" }\n",
        "Additional = \" \" #@param {type:\"string\"}"
      ],
      "execution_count": 0,
      "outputs": []
    },
    {
      "cell_type": "code",
      "metadata": {
        "id": "jHaOHS-jkzzR",
        "colab_type": "code",
        "colab": {}
      },
      "source": [
        "#@title Can you identify the concepts from the lecture which this experiment covered? { run: \"auto\", vertical-output: true, display-mode: \"form\" }\n",
        "Concepts = \" \" #@param [\"Yes\", \"No\"]"
      ],
      "execution_count": 0,
      "outputs": []
    },
    {
      "cell_type": "code",
      "metadata": {
        "id": "dMMWMbdGk2se",
        "colab_type": "code",
        "cellView": "form",
        "colab": {}
      },
      "source": [
        "#@title Run this cell to submit your notebook for grading { vertical-output: true }\n",
        "try:\n",
        "  if submission_id:\n",
        "      return_id = submit_notebook()\n",
        "      if return_id : submission_id =return_id\n",
        "  else:\n",
        "      print(\"Please complete the setup first.\")\n",
        "except NameError:\n",
        "  print (\"Please complete the setup first.\")"
      ],
      "execution_count": 0,
      "outputs": []
    },
    {
      "cell_type": "code",
      "metadata": {
        "id": "NwS817hvk52p",
        "colab_type": "code",
        "colab": {}
      },
      "source": [
        ""
      ],
      "execution_count": 0,
      "outputs": []
    }
  ]
}