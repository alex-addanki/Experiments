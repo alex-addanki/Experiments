{
  "nbformat": 4,
  "nbformat_minor": 0,
  "metadata": {
    "kernelspec": {
      "display_name": "Python 3",
      "language": "python",
      "name": "python3"
    },
    "language_info": {
      "codemirror_mode": {
        "name": "ipython",
        "version": 3
      },
      "file_extension": ".py",
      "mimetype": "text/x-python",
      "name": "python",
      "nbconvert_exporter": "python",
      "pygments_lexer": "ipython3",
      "version": "3.7.3"
    },
    "colab": {
      "name": "Untitled1.ipynb",
      "version": "0.3.2",
      "provenance": [],
      "collapsed_sections": [],
      "include_colab_link": true
    }
  },
  "cells": [
    {
      "cell_type": "markdown",
      "metadata": {
        "id": "view-in-github",
        "colab_type": "text"
      },
      "source": [
        "<a href=\"https://colab.research.google.com/github/alex-addanki/Experiments/blob/master/LXNumpy-1-07312019.ipynb\" target=\"_parent\"><img src=\"https://colab.research.google.com/assets/colab-badge.svg\" alt=\"Open In Colab\"/></a>"
      ]
    },
    {
      "cell_type": "code",
      "metadata": {
        "id": "q-keAUkbd2E2",
        "colab_type": "code",
        "colab": {}
      },
      "source": [
        "import numpy as np"
      ],
      "execution_count": 0,
      "outputs": []
    },
    {
      "cell_type": "code",
      "metadata": {
        "id": "AeI-rKqrd2E5",
        "colab_type": "code",
        "colab": {}
      },
      "source": [
        "l1=[1,2,3]"
      ],
      "execution_count": 0,
      "outputs": []
    },
    {
      "cell_type": "code",
      "metadata": {
        "id": "sLlzG3oEd2E7",
        "colab_type": "code",
        "colab": {}
      },
      "source": [
        "l2=[11,22,12]"
      ],
      "execution_count": 0,
      "outputs": []
    },
    {
      "cell_type": "code",
      "metadata": {
        "id": "Fcp5jF0Kd2E9",
        "colab_type": "code",
        "colab": {}
      },
      "source": [
        "#made an list of lists\n",
        "array1=[l1,l2]"
      ],
      "execution_count": 0,
      "outputs": []
    },
    {
      "cell_type": "code",
      "metadata": {
        "id": "TXg0oKu7d2E_",
        "colab_type": "code",
        "colab": {},
        "outputId": "534ae914-f6ba-4940-bbd2-401f36fa806b"
      },
      "source": [
        "array1"
      ],
      "execution_count": 0,
      "outputs": [
        {
          "output_type": "execute_result",
          "data": {
            "text/plain": [
              "[[1, 2, 3], [11, 22, 12]]"
            ]
          },
          "metadata": {
            "tags": []
          },
          "execution_count": 63
        }
      ]
    },
    {
      "cell_type": "code",
      "metadata": {
        "id": "s_Ky2-PKd2FC",
        "colab_type": "code",
        "colab": {},
        "outputId": "e8646595-4386-4f10-8f58-017c02ad85e2"
      },
      "source": [
        "print(type(array1))\n",
        "print(type(l1))\n",
        "print(type(l2))"
      ],
      "execution_count": 0,
      "outputs": [
        {
          "output_type": "stream",
          "text": [
            "<class 'list'>\n",
            "<class 'list'>\n",
            "<class 'list'>\n"
          ],
          "name": "stdout"
        }
      ]
    },
    {
      "cell_type": "code",
      "metadata": {
        "scrolled": true,
        "id": "dcC-Q79Jd2FE",
        "colab_type": "code",
        "colab": {}
      },
      "source": [
        "#array of lists\n",
        "array1 = np.array(l1)"
      ],
      "execution_count": 0,
      "outputs": []
    },
    {
      "cell_type": "code",
      "metadata": {
        "id": "wB3theB6d2FG",
        "colab_type": "code",
        "colab": {},
        "outputId": "1daa4979-de45-4242-eda8-3151a8be4727"
      },
      "source": [
        "print(array1.shape)\n",
        "print(type(array1))"
      ],
      "execution_count": 0,
      "outputs": [
        {
          "output_type": "stream",
          "text": [
            "(3,)\n",
            "<class 'numpy.ndarray'>\n"
          ],
          "name": "stdout"
        }
      ]
    },
    {
      "cell_type": "code",
      "metadata": {
        "id": "T55tjpKed2FI",
        "colab_type": "code",
        "colab": {},
        "outputId": "d772371a-ab1c-429e-a727-6ef701fdafab"
      },
      "source": [
        "array1"
      ],
      "execution_count": 0,
      "outputs": [
        {
          "output_type": "execute_result",
          "data": {
            "text/plain": [
              "array([1, 2, 3])"
            ]
          },
          "metadata": {
            "tags": []
          },
          "execution_count": 74
        }
      ]
    },
    {
      "cell_type": "code",
      "metadata": {
        "id": "QFvZBHhSd2FK",
        "colab_type": "code",
        "colab": {}
      },
      "source": [
        "l3=[l1,l2]"
      ],
      "execution_count": 0,
      "outputs": []
    },
    {
      "cell_type": "code",
      "metadata": {
        "id": "Jfd5EnThd2FN",
        "colab_type": "code",
        "colab": {}
      },
      "source": [
        "array2=np.array(l3)"
      ],
      "execution_count": 0,
      "outputs": []
    },
    {
      "cell_type": "code",
      "metadata": {
        "id": "YvbLs-i-d2FQ",
        "colab_type": "code",
        "colab": {},
        "outputId": "213a39b6-aff4-4a70-fcce-ba8717bf4ef5"
      },
      "source": [
        "array2"
      ],
      "execution_count": 0,
      "outputs": [
        {
          "output_type": "execute_result",
          "data": {
            "text/plain": [
              "array([[ 1,  2,  3],\n",
              "       [11, 22, 12]])"
            ]
          },
          "metadata": {
            "tags": []
          },
          "execution_count": 77
        }
      ]
    },
    {
      "cell_type": "code",
      "metadata": {
        "id": "ZqpxK7Azd2FT",
        "colab_type": "code",
        "colab": {},
        "outputId": "9579c7d9-3341-4357-dc2d-cca3bf197bde"
      },
      "source": [
        "array2.shape"
      ],
      "execution_count": 0,
      "outputs": [
        {
          "output_type": "execute_result",
          "data": {
            "text/plain": [
              "(2, 3)"
            ]
          },
          "metadata": {
            "tags": []
          },
          "execution_count": 78
        }
      ]
    },
    {
      "cell_type": "code",
      "metadata": {
        "id": "HP4yFnc2d2FY",
        "colab_type": "code",
        "colab": {},
        "outputId": "aea98307-1835-46e5-c8e4-103298b3e798"
      },
      "source": [
        "print(type(l3))\n",
        "print(type(l1),type(l2))\n",
        "print(type(array2))\n",
        "print(array2.dtype)"
      ],
      "execution_count": 0,
      "outputs": [
        {
          "output_type": "stream",
          "text": [
            "<class 'list'>\n",
            "<class 'list'> <class 'list'>\n",
            "<class 'numpy.ndarray'>\n",
            "int32\n"
          ],
          "name": "stdout"
        }
      ]
    },
    {
      "cell_type": "code",
      "metadata": {
        "id": "iC_iDAxGd2Fb",
        "colab_type": "code",
        "colab": {}
      },
      "source": [
        "#array of ones\n",
        "a1= np.ones([2,2])"
      ],
      "execution_count": 0,
      "outputs": []
    },
    {
      "cell_type": "code",
      "metadata": {
        "id": "FIYdzjARd2Fe",
        "colab_type": "code",
        "colab": {},
        "outputId": "cbd652d9-3e6e-4694-acec-8b49da5a6d9c"
      },
      "source": [
        "a1"
      ],
      "execution_count": 0,
      "outputs": [
        {
          "output_type": "execute_result",
          "data": {
            "text/plain": [
              "array([[1., 1.],\n",
              "       [1., 1.]])"
            ]
          },
          "metadata": {
            "tags": []
          },
          "execution_count": 52
        }
      ]
    },
    {
      "cell_type": "code",
      "metadata": {
        "id": "AlN64qFbd2Fg",
        "colab_type": "code",
        "colab": {}
      },
      "source": [
        "#identity matrix\n",
        "a2= np.eye(5)"
      ],
      "execution_count": 0,
      "outputs": []
    },
    {
      "cell_type": "code",
      "metadata": {
        "id": "8m-d85iQd2Fi",
        "colab_type": "code",
        "colab": {},
        "outputId": "dfa0e75c-0311-4f78-fc2c-5f2f4ef9a71c"
      },
      "source": [
        "a2"
      ],
      "execution_count": 0,
      "outputs": [
        {
          "output_type": "execute_result",
          "data": {
            "text/plain": [
              "array([[1., 0., 0., 0., 0.],\n",
              "       [0., 1., 0., 0., 0.],\n",
              "       [0., 0., 1., 0., 0.],\n",
              "       [0., 0., 0., 1., 0.],\n",
              "       [0., 0., 0., 0., 1.]])"
            ]
          },
          "metadata": {
            "tags": []
          },
          "execution_count": 56
        }
      ]
    },
    {
      "cell_type": "code",
      "metadata": {
        "id": "89bGGyOkd2Fl",
        "colab_type": "code",
        "colab": {}
      },
      "source": [
        ""
      ],
      "execution_count": 0,
      "outputs": []
    },
    {
      "cell_type": "code",
      "metadata": {
        "id": "f6LlCFTed2Fn",
        "colab_type": "code",
        "colab": {},
        "outputId": "19e09635-4abc-4624-94bc-5404dc69787c"
      },
      "source": [
        "#an array of startwith,end at and step by\n",
        "np.arange(1,10,2)"
      ],
      "execution_count": 0,
      "outputs": [
        {
          "output_type": "execute_result",
          "data": {
            "text/plain": [
              "array([1, 3, 5, 7, 9])"
            ]
          },
          "metadata": {
            "tags": []
          },
          "execution_count": 80
        }
      ]
    },
    {
      "cell_type": "code",
      "metadata": {
        "id": "khdpWggMd2Fr",
        "colab_type": "code",
        "colab": {}
      },
      "source": [
        "#arrays and scalars"
      ],
      "execution_count": 0,
      "outputs": []
    },
    {
      "cell_type": "code",
      "metadata": {
        "id": "hXudfufZd2Fy",
        "colab_type": "code",
        "colab": {},
        "outputId": "7d3077a7-96ce-4e82-816b-8959140c057f"
      },
      "source": [
        "#import __future__ division\n",
        "5/2"
      ],
      "execution_count": 0,
      "outputs": [
        {
          "output_type": "execute_result",
          "data": {
            "text/plain": [
              "2.5"
            ]
          },
          "metadata": {
            "tags": []
          },
          "execution_count": 85
        }
      ]
    },
    {
      "cell_type": "code",
      "metadata": {
        "id": "wv4pNgN6d2F2",
        "colab_type": "code",
        "colab": {}
      },
      "source": [
        "arr1 = np.array([[1,2,3,4,5],[9,10,11,12,13]])"
      ],
      "execution_count": 0,
      "outputs": []
    },
    {
      "cell_type": "code",
      "metadata": {
        "id": "35SjhXTbd2F4",
        "colab_type": "code",
        "colab": {},
        "outputId": "1fe4da0a-5558-44a7-f924-7941fbbd53db"
      },
      "source": [
        "arr1"
      ],
      "execution_count": 0,
      "outputs": [
        {
          "output_type": "execute_result",
          "data": {
            "text/plain": [
              "array([[ 1,  2,  3,  4,  5],\n",
              "       [ 9, 10, 11, 12, 13]])"
            ]
          },
          "metadata": {
            "tags": []
          },
          "execution_count": 94
        }
      ]
    },
    {
      "cell_type": "code",
      "metadata": {
        "id": "LAeC4Eypd2F6",
        "colab_type": "code",
        "colab": {},
        "outputId": "3e800f90-d217-4959-f4cd-6c989a68b62f"
      },
      "source": [
        "arr1 * arr1"
      ],
      "execution_count": 0,
      "outputs": [
        {
          "output_type": "execute_result",
          "data": {
            "text/plain": [
              "array([[  1,   4,   9,  16,  25],\n",
              "       [ 81, 100, 121, 144, 169]])"
            ]
          },
          "metadata": {
            "tags": []
          },
          "execution_count": 95
        }
      ]
    },
    {
      "cell_type": "code",
      "metadata": {
        "id": "xz-Sta_vd2F8",
        "colab_type": "code",
        "colab": {},
        "outputId": "c2d23d5d-514c-4c66-8060-a48ac511cf7e"
      },
      "source": [
        "arr1 - arr1"
      ],
      "execution_count": 0,
      "outputs": [
        {
          "output_type": "execute_result",
          "data": {
            "text/plain": [
              "array([[0, 0, 0, 0, 0],\n",
              "       [0, 0, 0, 0, 0]])"
            ]
          },
          "metadata": {
            "tags": []
          },
          "execution_count": 98
        }
      ]
    },
    {
      "cell_type": "code",
      "metadata": {
        "id": "Z5aGxlR2d2F_",
        "colab_type": "code",
        "colab": {},
        "outputId": "a83dfcb4-dcf9-42e7-c948-1f99a194382d"
      },
      "source": [
        "arr1 / 2"
      ],
      "execution_count": 0,
      "outputs": [
        {
          "output_type": "execute_result",
          "data": {
            "text/plain": [
              "array([[0.5, 1. , 1.5, 2. , 2.5],\n",
              "       [4.5, 5. , 5.5, 6. , 6.5]])"
            ]
          },
          "metadata": {
            "tags": []
          },
          "execution_count": 100
        }
      ]
    },
    {
      "cell_type": "code",
      "metadata": {
        "id": "EaUkxWkQd2GC",
        "colab_type": "code",
        "colab": {},
        "outputId": "ed2ef70b-2338-4c53-9a6b-b7c969c18569"
      },
      "source": [
        "arr1 ^ 1"
      ],
      "execution_count": 0,
      "outputs": [
        {
          "output_type": "execute_result",
          "data": {
            "text/plain": [
              "array([[ 0,  3,  2,  5,  4],\n",
              "       [ 8, 11, 10, 13, 12]], dtype=int32)"
            ]
          },
          "metadata": {
            "tags": []
          },
          "execution_count": 108
        }
      ]
    },
    {
      "cell_type": "code",
      "metadata": {
        "id": "xfWpN76xd2GE",
        "colab_type": "code",
        "colab": {},
        "outputId": "a7267dd7-4f74-46dd-add2-4731ff7565e9"
      },
      "source": [
        "1/arr1"
      ],
      "execution_count": 0,
      "outputs": [
        {
          "output_type": "execute_result",
          "data": {
            "text/plain": [
              "array([[1.        , 0.5       , 0.33333333, 0.25      , 0.2       ],\n",
              "       [0.11111111, 0.1       , 0.09090909, 0.08333333, 0.07692308]])"
            ]
          },
          "metadata": {
            "tags": []
          },
          "execution_count": 106
        }
      ]
    },
    {
      "cell_type": "code",
      "metadata": {
        "id": "fbv1Ld4ed2GG",
        "colab_type": "code",
        "colab": {},
        "outputId": "852d6197-f19a-4ee6-f921-858248c411ca"
      },
      "source": [
        "arr1 ** 2"
      ],
      "execution_count": 0,
      "outputs": [
        {
          "output_type": "execute_result",
          "data": {
            "text/plain": [
              "array([[  1,   4,   9,  16,  25],\n",
              "       [ 81, 100, 121, 144, 169]], dtype=int32)"
            ]
          },
          "metadata": {
            "tags": []
          },
          "execution_count": 110
        }
      ]
    },
    {
      "cell_type": "code",
      "metadata": {
        "id": "voN6rjN3d2GJ",
        "colab_type": "code",
        "colab": {}
      },
      "source": [
        "### Indexing Arrays"
      ],
      "execution_count": 0,
      "outputs": []
    },
    {
      "cell_type": "code",
      "metadata": {
        "id": "qX8wX7m-d2GM",
        "colab_type": "code",
        "colab": {},
        "outputId": "874402af-6a12-445b-c17e-0c7064192d74"
      },
      "source": [
        "arr2 = np.arange(0,11,1)\n",
        "arr2"
      ],
      "execution_count": 0,
      "outputs": [
        {
          "output_type": "execute_result",
          "data": {
            "text/plain": [
              "array([ 0,  1,  2,  3,  4,  5,  6,  7,  8,  9, 10])"
            ]
          },
          "metadata": {
            "tags": []
          },
          "execution_count": 117
        }
      ]
    },
    {
      "cell_type": "code",
      "metadata": {
        "id": "u4Nl0XKWd2GQ",
        "colab_type": "code",
        "colab": {},
        "outputId": "9613d372-3034-44d5-d57a-72a0a7f437b0"
      },
      "source": [
        "arr2[2]"
      ],
      "execution_count": 0,
      "outputs": [
        {
          "output_type": "execute_result",
          "data": {
            "text/plain": [
              "2"
            ]
          },
          "metadata": {
            "tags": []
          },
          "execution_count": 119
        }
      ]
    },
    {
      "cell_type": "code",
      "metadata": {
        "id": "kN7BZ6qud2GT",
        "colab_type": "code",
        "colab": {},
        "outputId": "832d9506-4c8d-4e63-9124-6468a19edbaf"
      },
      "source": [
        "arr2[1:5]"
      ],
      "execution_count": 0,
      "outputs": [
        {
          "output_type": "execute_result",
          "data": {
            "text/plain": [
              "array([1, 2, 3, 4])"
            ]
          },
          "metadata": {
            "tags": []
          },
          "execution_count": 122
        }
      ]
    },
    {
      "cell_type": "code",
      "metadata": {
        "id": "LzRJH93Cd2GV",
        "colab_type": "code",
        "colab": {},
        "outputId": "b11fb775-f5b4-4a7b-9784-138aaef8ff1b"
      },
      "source": [
        "arr2[0:4]"
      ],
      "execution_count": 0,
      "outputs": [
        {
          "output_type": "execute_result",
          "data": {
            "text/plain": [
              "array([0, 1, 2, 3])"
            ]
          },
          "metadata": {
            "tags": []
          },
          "execution_count": 125
        }
      ]
    },
    {
      "cell_type": "code",
      "metadata": {
        "id": "u6BVVzRmd2GZ",
        "colab_type": "code",
        "colab": {},
        "outputId": "2e8d59c6-f3c8-40f9-c60d-9fc55ff92ded"
      },
      "source": [
        "arr2[0:-1]"
      ],
      "execution_count": 0,
      "outputs": [
        {
          "output_type": "execute_result",
          "data": {
            "text/plain": [
              "array([0, 1, 2, 3, 4, 5, 6, 7, 8, 9])"
            ]
          },
          "metadata": {
            "tags": []
          },
          "execution_count": 129
        }
      ]
    },
    {
      "cell_type": "code",
      "metadata": {
        "id": "_nLa4OZgd2Gb",
        "colab_type": "code",
        "colab": {},
        "outputId": "82af0a6b-2a88-49c8-83f1-355f2402a59b"
      },
      "source": [
        "arr2[:3]"
      ],
      "execution_count": 0,
      "outputs": [
        {
          "output_type": "execute_result",
          "data": {
            "text/plain": [
              "array([0, 1, 2])"
            ]
          },
          "metadata": {
            "tags": []
          },
          "execution_count": 131
        }
      ]
    },
    {
      "cell_type": "code",
      "metadata": {
        "id": "LTQm1cJud2Gf",
        "colab_type": "code",
        "colab": {},
        "outputId": "7d85239a-4d8b-4967-e967-64a6aac6cc52"
      },
      "source": [
        "arr2[:-2]"
      ],
      "execution_count": 0,
      "outputs": [
        {
          "output_type": "execute_result",
          "data": {
            "text/plain": [
              "array([0, 1, 2, 3, 4, 5, 6, 7, 8])"
            ]
          },
          "metadata": {
            "tags": []
          },
          "execution_count": 133
        }
      ]
    },
    {
      "cell_type": "code",
      "metadata": {
        "id": "WvlrSzevd2Gh",
        "colab_type": "code",
        "colab": {},
        "outputId": "70a7e2a0-a403-4a5b-c105-9e998f04cf67"
      },
      "source": [
        "arr2[:5]"
      ],
      "execution_count": 0,
      "outputs": [
        {
          "output_type": "execute_result",
          "data": {
            "text/plain": [
              "array([0, 1, 2, 3, 4])"
            ]
          },
          "metadata": {
            "tags": []
          },
          "execution_count": 135
        }
      ]
    },
    {
      "cell_type": "code",
      "metadata": {
        "id": "ieNNnKzId2Gk",
        "colab_type": "code",
        "colab": {},
        "outputId": "bdcc9dde-2ef4-4eb6-c6c6-b583312b01de"
      },
      "source": [
        "arr2[0:2] = 100\n",
        "arr2"
      ],
      "execution_count": 0,
      "outputs": [
        {
          "output_type": "execute_result",
          "data": {
            "text/plain": [
              "array([100, 100,   2,   3,   4,   5,   6,   7,   8,   9,  10])"
            ]
          },
          "metadata": {
            "tags": []
          },
          "execution_count": 139
        }
      ]
    },
    {
      "cell_type": "code",
      "metadata": {
        "id": "lfAlbnrSd2Gm",
        "colab_type": "code",
        "colab": {},
        "outputId": "ee42e171-808a-41a3-8e62-7a2e3892a885"
      },
      "source": [
        "arr2"
      ],
      "execution_count": 0,
      "outputs": [
        {
          "output_type": "execute_result",
          "data": {
            "text/plain": [
              "array([100, 100,   2,   3,   4,   5,   6,   7,   8,   9,  10])"
            ]
          },
          "metadata": {
            "tags": []
          },
          "execution_count": 141
        }
      ]
    },
    {
      "cell_type": "code",
      "metadata": {
        "id": "t8lfkwtkd2Gp",
        "colab_type": "code",
        "colab": {
          "base_uri": "https://localhost:8080/",
          "height": 34
        },
        "outputId": "04ab0133-d863-462e-b30d-230e7adb5e5b"
      },
      "source": [
        "arr2 = np.arange(0,10)\n",
        "arr2"
      ],
      "execution_count": 2,
      "outputs": [
        {
          "output_type": "execute_result",
          "data": {
            "text/plain": [
              "array([0, 1, 2, 3, 4, 5, 6, 7, 8, 9])"
            ]
          },
          "metadata": {
            "tags": []
          },
          "execution_count": 2
        }
      ]
    },
    {
      "cell_type": "code",
      "metadata": {
        "id": "JqRDQ_Mhd2Gr",
        "colab_type": "code",
        "colab": {
          "base_uri": "https://localhost:8080/",
          "height": 34
        },
        "outputId": "dbcafea1-a795-4682-d9e3-c4dc2da6cdd9"
      },
      "source": [
        "slice1= arr2[0:6]\n",
        "slice1"
      ],
      "execution_count": 3,
      "outputs": [
        {
          "output_type": "execute_result",
          "data": {
            "text/plain": [
              "array([0, 1, 2, 3, 4, 5])"
            ]
          },
          "metadata": {
            "tags": []
          },
          "execution_count": 3
        }
      ]
    },
    {
      "cell_type": "code",
      "metadata": {
        "id": "TiD8dZcRd2Gt",
        "colab_type": "code",
        "colab": {
          "base_uri": "https://localhost:8080/",
          "height": 34
        },
        "outputId": "8ceef383-7216-4397-a4bb-542a82b71cee"
      },
      "source": [
        "slice2=arr2[:]\n",
        "slice2"
      ],
      "execution_count": 4,
      "outputs": [
        {
          "output_type": "execute_result",
          "data": {
            "text/plain": [
              "array([0, 1, 2, 3, 4, 5, 6, 7, 8, 9])"
            ]
          },
          "metadata": {
            "tags": []
          },
          "execution_count": 4
        }
      ]
    },
    {
      "cell_type": "code",
      "metadata": {
        "id": "6kDLlzBxd2G0",
        "colab_type": "code",
        "colab": {
          "base_uri": "https://localhost:8080/",
          "height": 34
        },
        "outputId": "155f5eb8-a9cc-47dd-cfe0-dd555680ebbf"
      },
      "source": [
        "slice2[0:2] =77\n",
        "slice2"
      ],
      "execution_count": 5,
      "outputs": [
        {
          "output_type": "execute_result",
          "data": {
            "text/plain": [
              "array([77, 77,  2,  3,  4,  5,  6,  7,  8,  9])"
            ]
          },
          "metadata": {
            "tags": []
          },
          "execution_count": 5
        }
      ]
    },
    {
      "cell_type": "code",
      "metadata": {
        "id": "FFNQ_GPGeMJq",
        "colab_type": "code",
        "colab": {
          "base_uri": "https://localhost:8080/",
          "height": 34
        },
        "outputId": "7b10ad19-1e40-47bb-fa53-4f13ebc9b5ee"
      },
      "source": [
        "arr2"
      ],
      "execution_count": 6,
      "outputs": [
        {
          "output_type": "execute_result",
          "data": {
            "text/plain": [
              "array([77, 77,  2,  3,  4,  5,  6,  7,  8,  9])"
            ]
          },
          "metadata": {
            "tags": []
          },
          "execution_count": 6
        }
      ]
    },
    {
      "cell_type": "code",
      "metadata": {
        "id": "ghtSCoSkeSZj",
        "colab_type": "code",
        "colab": {}
      },
      "source": [
        "arr3 = arr2.copy()"
      ],
      "execution_count": 0,
      "outputs": []
    },
    {
      "cell_type": "code",
      "metadata": {
        "id": "lF_HXtB62ajz",
        "colab_type": "code",
        "colab": {
          "base_uri": "https://localhost:8080/",
          "height": 34
        },
        "outputId": "6d64548a-8939-4b3c-f960-3b5992407f47"
      },
      "source": [
        "arr3"
      ],
      "execution_count": 12,
      "outputs": [
        {
          "output_type": "execute_result",
          "data": {
            "text/plain": [
              "array([77, 77,  2,  3,  4,  5,  6,  7,  8,  9])"
            ]
          },
          "metadata": {
            "tags": []
          },
          "execution_count": 12
        }
      ]
    },
    {
      "cell_type": "code",
      "metadata": {
        "id": "s3dsD-bp2kjA",
        "colab_type": "code",
        "colab": {}
      },
      "source": [
        "arr3[0:1] =777"
      ],
      "execution_count": 0,
      "outputs": []
    },
    {
      "cell_type": "code",
      "metadata": {
        "id": "TW3V6IY_2cGD",
        "colab_type": "code",
        "colab": {
          "base_uri": "https://localhost:8080/",
          "height": 34
        },
        "outputId": "e519b044-a8ac-49d2-f10b-7e265bb5c93b"
      },
      "source": [
        "arr3"
      ],
      "execution_count": 14,
      "outputs": [
        {
          "output_type": "execute_result",
          "data": {
            "text/plain": [
              "array([777,  77,   2,   3,   4,   5,   6,   7,   8,   9])"
            ]
          },
          "metadata": {
            "tags": []
          },
          "execution_count": 14
        }
      ]
    },
    {
      "cell_type": "code",
      "metadata": {
        "id": "w2OuqZC62rhi",
        "colab_type": "code",
        "colab": {
          "base_uri": "https://localhost:8080/",
          "height": 34
        },
        "outputId": "c468bfc7-85e0-410b-af41-78811e3f456d"
      },
      "source": [
        "arr2"
      ],
      "execution_count": 15,
      "outputs": [
        {
          "output_type": "execute_result",
          "data": {
            "text/plain": [
              "array([77, 77,  2,  3,  4,  5,  6,  7,  8,  9])"
            ]
          },
          "metadata": {
            "tags": []
          },
          "execution_count": 15
        }
      ]
    },
    {
      "cell_type": "code",
      "metadata": {
        "id": "fN901AZg221t",
        "colab_type": "code",
        "colab": {}
      },
      "source": [
        "arr_indx=np.array([[1,2,3],[10,11,12],[20,21,22]])"
      ],
      "execution_count": 0,
      "outputs": []
    },
    {
      "cell_type": "code",
      "metadata": {
        "id": "kUugNe0M3H9b",
        "colab_type": "code",
        "colab": {
          "base_uri": "https://localhost:8080/",
          "height": 68
        },
        "outputId": "1e1315f4-260d-4931-a7d0-141c0dd68013"
      },
      "source": [
        "arr_indx"
      ],
      "execution_count": 37,
      "outputs": [
        {
          "output_type": "execute_result",
          "data": {
            "text/plain": [
              "array([[ 1,  2,  3],\n",
              "       [10, 11, 12],\n",
              "       [20, 21, 22]])"
            ]
          },
          "metadata": {
            "tags": []
          },
          "execution_count": 37
        }
      ]
    },
    {
      "cell_type": "code",
      "metadata": {
        "id": "YQfjdLEU3PFJ",
        "colab_type": "code",
        "colab": {
          "base_uri": "https://localhost:8080/",
          "height": 68
        },
        "outputId": "4cce6127-1821-4c20-99de-93722437ef4f"
      },
      "source": [
        "print(arr_indx[0])\n",
        "print(arr_indx[1])\n",
        "print(arr_indx[2])"
      ],
      "execution_count": 38,
      "outputs": [
        {
          "output_type": "stream",
          "text": [
            "[1 2 3]\n",
            "[10 11 12]\n",
            "[20 21 22]\n"
          ],
          "name": "stdout"
        }
      ]
    },
    {
      "cell_type": "code",
      "metadata": {
        "id": "-OpjOkjv3Vpx",
        "colab_type": "code",
        "colab": {
          "base_uri": "https://localhost:8080/",
          "height": 68
        },
        "outputId": "a4503b95-c993-4c40-8793-b8449e5f47eb"
      },
      "source": [
        "print(arr_indx[0][2])\n",
        "print(arr_indx[1][1])\n",
        "print(arr_indx[2][2])"
      ],
      "execution_count": 39,
      "outputs": [
        {
          "output_type": "stream",
          "text": [
            "3\n",
            "11\n",
            "22\n"
          ],
          "name": "stdout"
        }
      ]
    },
    {
      "cell_type": "code",
      "metadata": {
        "id": "JdhyjLlm_8tJ",
        "colab_type": "code",
        "colab": {
          "base_uri": "https://localhost:8080/",
          "height": 68
        },
        "outputId": "566c6ab2-4164-4328-f573-4f836b475745"
      },
      "source": [
        "arr_indx"
      ],
      "execution_count": 45,
      "outputs": [
        {
          "output_type": "execute_result",
          "data": {
            "text/plain": [
              "array([[ 1,  2,  3],\n",
              "       [10, 11, 12],\n",
              "       [20, 21, 22]])"
            ]
          },
          "metadata": {
            "tags": []
          },
          "execution_count": 45
        }
      ]
    },
    {
      "cell_type": "code",
      "metadata": {
        "id": "K_LYG00bBll4",
        "colab_type": "code",
        "colab": {
          "base_uri": "https://localhost:8080/",
          "height": 51
        },
        "outputId": "55733047-9d1c-4f1f-a678-7ae3a6a02068"
      },
      "source": [
        "arr_indx[:2,1:]"
      ],
      "execution_count": 58,
      "outputs": [
        {
          "output_type": "execute_result",
          "data": {
            "text/plain": [
              "array([[ 2,  3],\n",
              "       [11, 12]])"
            ]
          },
          "metadata": {
            "tags": []
          },
          "execution_count": 58
        }
      ]
    },
    {
      "cell_type": "code",
      "metadata": {
        "id": "ps3v3lF4CIMx",
        "colab_type": "code",
        "colab": {
          "base_uri": "https://localhost:8080/",
          "height": 34
        },
        "outputId": "ebd9630c-2612-4b7d-e821-79cadf7f437d"
      },
      "source": [
        "arr_indx[1]"
      ],
      "execution_count": 60,
      "outputs": [
        {
          "output_type": "execute_result",
          "data": {
            "text/plain": [
              "array([10, 11, 12])"
            ]
          },
          "metadata": {
            "tags": []
          },
          "execution_count": 60
        }
      ]
    },
    {
      "cell_type": "code",
      "metadata": {
        "id": "mzqMbC07CMpE",
        "colab_type": "code",
        "colab": {
          "base_uri": "https://localhost:8080/",
          "height": 187
        },
        "outputId": "16e909d9-2a86-4538-f9a8-93eebeedb05d"
      },
      "source": [
        "ar_0s=np.zeros((10,10))\n",
        "ar_0s"
      ],
      "execution_count": 76,
      "outputs": [
        {
          "output_type": "execute_result",
          "data": {
            "text/plain": [
              "array([[0., 0., 0., 0., 0., 0., 0., 0., 0., 0.],\n",
              "       [0., 0., 0., 0., 0., 0., 0., 0., 0., 0.],\n",
              "       [0., 0., 0., 0., 0., 0., 0., 0., 0., 0.],\n",
              "       [0., 0., 0., 0., 0., 0., 0., 0., 0., 0.],\n",
              "       [0., 0., 0., 0., 0., 0., 0., 0., 0., 0.],\n",
              "       [0., 0., 0., 0., 0., 0., 0., 0., 0., 0.],\n",
              "       [0., 0., 0., 0., 0., 0., 0., 0., 0., 0.],\n",
              "       [0., 0., 0., 0., 0., 0., 0., 0., 0., 0.],\n",
              "       [0., 0., 0., 0., 0., 0., 0., 0., 0., 0.],\n",
              "       [0., 0., 0., 0., 0., 0., 0., 0., 0., 0.]])"
            ]
          },
          "metadata": {
            "tags": []
          },
          "execution_count": 76
        }
      ]
    },
    {
      "cell_type": "code",
      "metadata": {
        "id": "ExD3z9MUCg8d",
        "colab_type": "code",
        "colab": {
          "base_uri": "https://localhost:8080/",
          "height": 34
        },
        "outputId": "ee562f55-b708-4b30-a6bc-181304485a9e"
      },
      "source": [
        "ar_0s_len=ar_0s.shape[1]\n",
        "ar_0s_len"
      ],
      "execution_count": 68,
      "outputs": [
        {
          "output_type": "execute_result",
          "data": {
            "text/plain": [
              "10"
            ]
          },
          "metadata": {
            "tags": []
          },
          "execution_count": 68
        }
      ]
    },
    {
      "cell_type": "code",
      "metadata": {
        "id": "N95oanwpDAiq",
        "colab_type": "code",
        "colab": {
          "base_uri": "https://localhost:8080/",
          "height": 187
        },
        "outputId": "91e94c8c-334e-478d-d269-1a4a78f93912"
      },
      "source": [
        "for i in range(ar_0s_len):\n",
        "  ar_0s[i]=1\n",
        "ar_0s"
      ],
      "execution_count": 69,
      "outputs": [
        {
          "output_type": "execute_result",
          "data": {
            "text/plain": [
              "array([[1., 1., 1., 1., 1., 1., 1., 1., 1., 1.],\n",
              "       [1., 1., 1., 1., 1., 1., 1., 1., 1., 1.],\n",
              "       [1., 1., 1., 1., 1., 1., 1., 1., 1., 1.],\n",
              "       [1., 1., 1., 1., 1., 1., 1., 1., 1., 1.],\n",
              "       [1., 1., 1., 1., 1., 1., 1., 1., 1., 1.],\n",
              "       [1., 1., 1., 1., 1., 1., 1., 1., 1., 1.],\n",
              "       [1., 1., 1., 1., 1., 1., 1., 1., 1., 1.],\n",
              "       [1., 1., 1., 1., 1., 1., 1., 1., 1., 1.],\n",
              "       [1., 1., 1., 1., 1., 1., 1., 1., 1., 1.],\n",
              "       [1., 1., 1., 1., 1., 1., 1., 1., 1., 1.]])"
            ]
          },
          "metadata": {
            "tags": []
          },
          "execution_count": 69
        }
      ]
    },
    {
      "cell_type": "code",
      "metadata": {
        "id": "XigJD2IvDmFg",
        "colab_type": "code",
        "colab": {}
      },
      "source": [
        "for i in range(ar_0s_len):\n",
        "  ar_0s[i]=i\n",
        "ar_0s"
      ],
      "execution_count": 0,
      "outputs": []
    },
    {
      "cell_type": "code",
      "metadata": {
        "id": "Om9nr2yVDL4j",
        "colab_type": "code",
        "colab": {
          "base_uri": "https://localhost:8080/",
          "height": 187
        },
        "outputId": "3e8e608e-06c4-4c1a-d59a-36ae8cc5a612"
      },
      "source": [
        "for i in range(ar_0s_len):\n",
        "  ar_0s[i][2]=i\n",
        "ar_0s"
      ],
      "execution_count": 78,
      "outputs": [
        {
          "output_type": "execute_result",
          "data": {
            "text/plain": [
              "array([[0., 0., 0., 0., 0., 0., 0., 0., 0., 0.],\n",
              "       [0., 0., 1., 0., 0., 0., 0., 0., 0., 0.],\n",
              "       [0., 0., 2., 0., 0., 0., 0., 0., 0., 0.],\n",
              "       [0., 0., 3., 0., 0., 0., 0., 0., 0., 0.],\n",
              "       [0., 0., 4., 0., 0., 0., 0., 0., 0., 0.],\n",
              "       [0., 0., 5., 0., 0., 0., 0., 0., 0., 0.],\n",
              "       [0., 0., 6., 0., 0., 0., 0., 0., 0., 0.],\n",
              "       [0., 0., 7., 0., 0., 0., 0., 0., 0., 0.],\n",
              "       [0., 0., 8., 0., 0., 0., 0., 0., 0., 0.],\n",
              "       [0., 0., 9., 0., 0., 0., 0., 0., 0., 0.]])"
            ]
          },
          "metadata": {
            "tags": []
          },
          "execution_count": 78
        }
      ]
    },
    {
      "cell_type": "code",
      "metadata": {
        "id": "G-GuYi76D1yn",
        "colab_type": "code",
        "colab": {
          "base_uri": "https://localhost:8080/",
          "height": 51
        },
        "outputId": "b46f0b46-cfa0-4170-e9e7-e69b634056b6"
      },
      "source": [
        "ar_0s[[1,2]]"
      ],
      "execution_count": 93,
      "outputs": [
        {
          "output_type": "execute_result",
          "data": {
            "text/plain": [
              "array([[0., 0., 1., 0., 0., 0., 0., 0., 0., 0.],\n",
              "       [0., 0., 2., 0., 0., 0., 0., 0., 0., 0.]])"
            ]
          },
          "metadata": {
            "tags": []
          },
          "execution_count": 93
        }
      ]
    },
    {
      "cell_type": "code",
      "metadata": {
        "id": "wEQVTQTNECPb",
        "colab_type": "code",
        "colab": {
          "base_uri": "https://localhost:8080/",
          "height": 187
        },
        "outputId": "ece08550-085b-4a66-a7d3-c315f5f0b2dc"
      },
      "source": [
        "for i in range(10):\n",
        "  print(ar_0s[i,2])"
      ],
      "execution_count": 92,
      "outputs": [
        {
          "output_type": "stream",
          "text": [
            "0.0\n",
            "1.0\n",
            "2.0\n",
            "3.0\n",
            "4.0\n",
            "5.0\n",
            "6.0\n",
            "7.0\n",
            "8.0\n",
            "9.0\n"
          ],
          "name": "stdout"
        }
      ]
    },
    {
      "cell_type": "code",
      "metadata": {
        "id": "UHo548GPEuod",
        "colab_type": "code",
        "colab": {}
      },
      "source": [
        "#Array Transposition"
      ],
      "execution_count": 0,
      "outputs": []
    },
    {
      "cell_type": "code",
      "metadata": {
        "id": "TSTPqIfPEw35",
        "colab_type": "code",
        "colab": {
          "base_uri": "https://localhost:8080/",
          "height": 187
        },
        "outputId": "9351e4a8-d218-4024-f2e6-7d811f13639e"
      },
      "source": [
        "arr_transpose=np.arange(50).reshape(10,5)\n",
        "arr_transpose"
      ],
      "execution_count": 102,
      "outputs": [
        {
          "output_type": "execute_result",
          "data": {
            "text/plain": [
              "array([[ 0,  1,  2,  3,  4],\n",
              "       [ 5,  6,  7,  8,  9],\n",
              "       [10, 11, 12, 13, 14],\n",
              "       [15, 16, 17, 18, 19],\n",
              "       [20, 21, 22, 23, 24],\n",
              "       [25, 26, 27, 28, 29],\n",
              "       [30, 31, 32, 33, 34],\n",
              "       [35, 36, 37, 38, 39],\n",
              "       [40, 41, 42, 43, 44],\n",
              "       [45, 46, 47, 48, 49]])"
            ]
          },
          "metadata": {
            "tags": []
          },
          "execution_count": 102
        }
      ]
    },
    {
      "cell_type": "code",
      "metadata": {
        "id": "9opGCI1mGkcq",
        "colab_type": "code",
        "colab": {
          "base_uri": "https://localhost:8080/",
          "height": 136
        },
        "outputId": "62ab8b27-7142-4251-a80b-b5364c99d6e3"
      },
      "source": [
        "print(arr_transpose.shape)\n",
        "print(arr_transpose.T)\n",
        "print(arr_transpose.T.shape)\n",
        "arr_transpose_T=arr_transpose.T"
      ],
      "execution_count": 107,
      "outputs": [
        {
          "output_type": "stream",
          "text": [
            "(10, 5)\n",
            "[[ 0  5 10 15 20 25 30 35 40 45]\n",
            " [ 1  6 11 16 21 26 31 36 41 46]\n",
            " [ 2  7 12 17 22 27 32 37 42 47]\n",
            " [ 3  8 13 18 23 28 33 38 43 48]\n",
            " [ 4  9 14 19 24 29 34 39 44 49]]\n",
            "(5, 10)\n"
          ],
          "name": "stdout"
        }
      ]
    },
    {
      "cell_type": "code",
      "metadata": {
        "id": "efdHShG5G4il",
        "colab_type": "code",
        "colab": {
          "base_uri": "https://localhost:8080/",
          "height": 408
        },
        "outputId": "1171ae81-0017-411b-f240-e2b01930aa8f"
      },
      "source": [
        "print('---------------------------------------------------------')\n",
        "print(np.dot(arr_transpose,arr_transpose_T))\n",
        "print('---------------------------------------------------------')\n",
        "print(np.dot(arr_transpose,arr_transpose.T))\n",
        "print('---------------------------------------------------------')"
      ],
      "execution_count": 112,
      "outputs": [
        {
          "output_type": "stream",
          "text": [
            "---------------------------------------------------------\n",
            "[[   30    80   130   180   230   280   330   380   430   480]\n",
            " [   80   255   430   605   780   955  1130  1305  1480  1655]\n",
            " [  130   430   730  1030  1330  1630  1930  2230  2530  2830]\n",
            " [  180   605  1030  1455  1880  2305  2730  3155  3580  4005]\n",
            " [  230   780  1330  1880  2430  2980  3530  4080  4630  5180]\n",
            " [  280   955  1630  2305  2980  3655  4330  5005  5680  6355]\n",
            " [  330  1130  1930  2730  3530  4330  5130  5930  6730  7530]\n",
            " [  380  1305  2230  3155  4080  5005  5930  6855  7780  8705]\n",
            " [  430  1480  2530  3580  4630  5680  6730  7780  8830  9880]\n",
            " [  480  1655  2830  4005  5180  6355  7530  8705  9880 11055]]\n",
            "---------------------------------------------------------\n",
            "[[   30    80   130   180   230   280   330   380   430   480]\n",
            " [   80   255   430   605   780   955  1130  1305  1480  1655]\n",
            " [  130   430   730  1030  1330  1630  1930  2230  2530  2830]\n",
            " [  180   605  1030  1455  1880  2305  2730  3155  3580  4005]\n",
            " [  230   780  1330  1880  2430  2980  3530  4080  4630  5180]\n",
            " [  280   955  1630  2305  2980  3655  4330  5005  5680  6355]\n",
            " [  330  1130  1930  2730  3530  4330  5130  5930  6730  7530]\n",
            " [  380  1305  2230  3155  4080  5005  5930  6855  7780  8705]\n",
            " [  430  1480  2530  3580  4630  5680  6730  7780  8830  9880]\n",
            " [  480  1655  2830  4005  5180  6355  7530  8705  9880 11055]]\n",
            "---------------------------------------------------------\n"
          ],
          "name": "stdout"
        }
      ]
    },
    {
      "cell_type": "code",
      "metadata": {
        "id": "1lTDpsE2Hf5l",
        "colab_type": "code",
        "colab": {
          "base_uri": "https://localhost:8080/",
          "height": 510
        },
        "outputId": "b0a35464-0bdc-4eb7-f089-f1a8364c3375"
      },
      "source": [
        "arr_3d=np.arange(50).reshape(5,5,2)\n",
        "arr_3d\n",
        "# 5, 5by2 matrix"
      ],
      "execution_count": 4,
      "outputs": [
        {
          "output_type": "execute_result",
          "data": {
            "text/plain": [
              "array([[[ 0,  1],\n",
              "        [ 2,  3],\n",
              "        [ 4,  5],\n",
              "        [ 6,  7],\n",
              "        [ 8,  9]],\n",
              "\n",
              "       [[10, 11],\n",
              "        [12, 13],\n",
              "        [14, 15],\n",
              "        [16, 17],\n",
              "        [18, 19]],\n",
              "\n",
              "       [[20, 21],\n",
              "        [22, 23],\n",
              "        [24, 25],\n",
              "        [26, 27],\n",
              "        [28, 29]],\n",
              "\n",
              "       [[30, 31],\n",
              "        [32, 33],\n",
              "        [34, 35],\n",
              "        [36, 37],\n",
              "        [38, 39]],\n",
              "\n",
              "       [[40, 41],\n",
              "        [42, 43],\n",
              "        [44, 45],\n",
              "        [46, 47],\n",
              "        [48, 49]]])"
            ]
          },
          "metadata": {
            "tags": []
          },
          "execution_count": 4
        }
      ]
    },
    {
      "cell_type": "code",
      "metadata": {
        "id": "jtrssyiBIMUT",
        "colab_type": "code",
        "colab": {
          "base_uri": "https://localhost:8080/",
          "height": 1000
        },
        "outputId": "29c69c11-0284-48c0-b35b-2f4ea551f62c"
      },
      "source": [
        "print('---------------------------------------------------------')\n",
        "print(arr_3d.transpose(0,1,2))\n",
        "print('---------------------------------------------------------')\n",
        "print(arr_3d.transpose(1,0,2))\n",
        "print('---------------------------------------------------------')\n"
      ],
      "execution_count": 6,
      "outputs": [
        {
          "output_type": "stream",
          "text": [
            "---------------------------------------------------------\n",
            "[[[ 0  1]\n",
            "  [ 2  3]\n",
            "  [ 4  5]\n",
            "  [ 6  7]\n",
            "  [ 8  9]]\n",
            "\n",
            " [[10 11]\n",
            "  [12 13]\n",
            "  [14 15]\n",
            "  [16 17]\n",
            "  [18 19]]\n",
            "\n",
            " [[20 21]\n",
            "  [22 23]\n",
            "  [24 25]\n",
            "  [26 27]\n",
            "  [28 29]]\n",
            "\n",
            " [[30 31]\n",
            "  [32 33]\n",
            "  [34 35]\n",
            "  [36 37]\n",
            "  [38 39]]\n",
            "\n",
            " [[40 41]\n",
            "  [42 43]\n",
            "  [44 45]\n",
            "  [46 47]\n",
            "  [48 49]]]\n",
            "---------------------------------------------------------\n",
            "[[[ 0  1]\n",
            "  [10 11]\n",
            "  [20 21]\n",
            "  [30 31]\n",
            "  [40 41]]\n",
            "\n",
            " [[ 2  3]\n",
            "  [12 13]\n",
            "  [22 23]\n",
            "  [32 33]\n",
            "  [42 43]]\n",
            "\n",
            " [[ 4  5]\n",
            "  [14 15]\n",
            "  [24 25]\n",
            "  [34 35]\n",
            "  [44 45]]\n",
            "\n",
            " [[ 6  7]\n",
            "  [16 17]\n",
            "  [26 27]\n",
            "  [36 37]\n",
            "  [46 47]]\n",
            "\n",
            " [[ 8  9]\n",
            "  [18 19]\n",
            "  [28 29]\n",
            "  [38 39]\n",
            "  [48 49]]]\n",
            "---------------------------------------------------------\n"
          ],
          "name": "stdout"
        }
      ]
    }
  ]
}